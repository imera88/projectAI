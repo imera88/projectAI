{
 "cells": [
  {
   "cell_type": "markdown",
   "id": "98f17e3f-fcce-4aec-93f9-ad76897323cf",
   "metadata": {
    "id": "98f17e3f-fcce-4aec-93f9-ad76897323cf"
   },
   "source": [
    "# Predicción de Enlaces y recomendacion con Node2Vec"
   ]
  },
  {
   "cell_type": "code",
   "execution_count": null,
   "id": "6c26a7c0-135c-40c7-84af-16260c96793a",
   "metadata": {
    "colab": {
     "base_uri": "https://localhost:8080/"
    },
    "id": "6c26a7c0-135c-40c7-84af-16260c96793a",
    "outputId": "69840106-288c-4e7d-be28-c06936edfdf5"
   },
   "outputs": [
    {
     "name": "stdout",
     "output_type": "stream",
     "text": [
      "Collecting arxiv\n",
      "  Downloading arxiv-2.1.0-py3-none-any.whl (11 kB)\n",
      "Collecting feedparser==6.0.10 (from arxiv)\n",
      "  Downloading feedparser-6.0.10-py3-none-any.whl (81 kB)\n",
      "\u001b[2K     \u001b[90m━━━━━━━━━━━━━━━━━━━━━━━━━━━━━━━━━━━━━━━━\u001b[0m \u001b[32m81.1/81.1 kB\u001b[0m \u001b[31m1.1 MB/s\u001b[0m eta \u001b[36m0:00:00\u001b[0m\n",
      "\u001b[?25hRequirement already satisfied: requests==2.31.0 in /usr/local/lib/python3.10/dist-packages (from arxiv) (2.31.0)\n",
      "Collecting sgmllib3k (from feedparser==6.0.10->arxiv)\n",
      "  Downloading sgmllib3k-1.0.0.tar.gz (5.8 kB)\n",
      "  Preparing metadata (setup.py) ... \u001b[?25l\u001b[?25hdone\n",
      "Requirement already satisfied: charset-normalizer<4,>=2 in /usr/local/lib/python3.10/dist-packages (from requests==2.31.0->arxiv) (3.3.2)\n",
      "Requirement already satisfied: idna<4,>=2.5 in /usr/local/lib/python3.10/dist-packages (from requests==2.31.0->arxiv) (3.7)\n",
      "Requirement already satisfied: urllib3<3,>=1.21.1 in /usr/local/lib/python3.10/dist-packages (from requests==2.31.0->arxiv) (2.0.7)\n",
      "Requirement already satisfied: certifi>=2017.4.17 in /usr/local/lib/python3.10/dist-packages (from requests==2.31.0->arxiv) (2024.6.2)\n",
      "Building wheels for collected packages: sgmllib3k\n",
      "  Building wheel for sgmllib3k (setup.py) ... \u001b[?25l\u001b[?25hdone\n",
      "  Created wheel for sgmllib3k: filename=sgmllib3k-1.0.0-py3-none-any.whl size=6049 sha256=88dde6735333f6bff79b24185771294561e541860aabd226a118a8fdd2329550\n",
      "  Stored in directory: /root/.cache/pip/wheels/f0/69/93/a47e9d621be168e9e33c7ce60524393c0b92ae83cf6c6e89c5\n",
      "Successfully built sgmllib3k\n",
      "Installing collected packages: sgmllib3k, feedparser, arxiv\n",
      "Successfully installed arxiv-2.1.0 feedparser-6.0.10 sgmllib3k-1.0.0\n",
      "Collecting node2vec\n",
      "  Downloading node2vec-0.4.6-py3-none-any.whl (7.0 kB)\n",
      "Requirement already satisfied: gensim<5.0.0,>=4.1.2 in /usr/local/lib/python3.10/dist-packages (from node2vec) (4.3.2)\n",
      "Requirement already satisfied: joblib<2.0.0,>=1.1.0 in /usr/local/lib/python3.10/dist-packages (from node2vec) (1.4.2)\n",
      "Collecting networkx<3.0,>=2.5 (from node2vec)\n",
      "  Downloading networkx-2.8.8-py3-none-any.whl (2.0 MB)\n",
      "\u001b[2K     \u001b[90m━━━━━━━━━━━━━━━━━━━━━━━━━━━━━━━━━━━━━━━━\u001b[0m \u001b[32m2.0/2.0 MB\u001b[0m \u001b[31m26.2 MB/s\u001b[0m eta \u001b[36m0:00:00\u001b[0m\n",
      "\u001b[?25hRequirement already satisfied: numpy<2.0.0,>=1.19.5 in /usr/local/lib/python3.10/dist-packages (from node2vec) (1.25.2)\n",
      "Requirement already satisfied: tqdm<5.0.0,>=4.55.1 in /usr/local/lib/python3.10/dist-packages (from node2vec) (4.66.4)\n",
      "Requirement already satisfied: scipy>=1.7.0 in /usr/local/lib/python3.10/dist-packages (from gensim<5.0.0,>=4.1.2->node2vec) (1.11.4)\n",
      "Requirement already satisfied: smart-open>=1.8.1 in /usr/local/lib/python3.10/dist-packages (from gensim<5.0.0,>=4.1.2->node2vec) (6.4.0)\n",
      "Installing collected packages: networkx, node2vec\n",
      "  Attempting uninstall: networkx\n",
      "    Found existing installation: networkx 3.3\n",
      "    Uninstalling networkx-3.3:\n",
      "      Successfully uninstalled networkx-3.3\n",
      "\u001b[31mERROR: pip's dependency resolver does not currently take into account all the packages that are installed. This behaviour is the source of the following dependency conflicts.\n",
      "torch 2.3.0+cu121 requires nvidia-cublas-cu12==12.1.3.1; platform_system == \"Linux\" and platform_machine == \"x86_64\", which is not installed.\n",
      "torch 2.3.0+cu121 requires nvidia-cuda-cupti-cu12==12.1.105; platform_system == \"Linux\" and platform_machine == \"x86_64\", which is not installed.\n",
      "torch 2.3.0+cu121 requires nvidia-cuda-nvrtc-cu12==12.1.105; platform_system == \"Linux\" and platform_machine == \"x86_64\", which is not installed.\n",
      "torch 2.3.0+cu121 requires nvidia-cuda-runtime-cu12==12.1.105; platform_system == \"Linux\" and platform_machine == \"x86_64\", which is not installed.\n",
      "torch 2.3.0+cu121 requires nvidia-cudnn-cu12==8.9.2.26; platform_system == \"Linux\" and platform_machine == \"x86_64\", which is not installed.\n",
      "torch 2.3.0+cu121 requires nvidia-cufft-cu12==11.0.2.54; platform_system == \"Linux\" and platform_machine == \"x86_64\", which is not installed.\n",
      "torch 2.3.0+cu121 requires nvidia-curand-cu12==10.3.2.106; platform_system == \"Linux\" and platform_machine == \"x86_64\", which is not installed.\n",
      "torch 2.3.0+cu121 requires nvidia-cusolver-cu12==11.4.5.107; platform_system == \"Linux\" and platform_machine == \"x86_64\", which is not installed.\n",
      "torch 2.3.0+cu121 requires nvidia-cusparse-cu12==12.1.0.106; platform_system == \"Linux\" and platform_machine == \"x86_64\", which is not installed.\n",
      "torch 2.3.0+cu121 requires nvidia-nccl-cu12==2.20.5; platform_system == \"Linux\" and platform_machine == \"x86_64\", which is not installed.\n",
      "torch 2.3.0+cu121 requires nvidia-nvtx-cu12==12.1.105; platform_system == \"Linux\" and platform_machine == \"x86_64\", which is not installed.\u001b[0m\u001b[31m\n",
      "\u001b[0mSuccessfully installed networkx-2.8.8 node2vec-0.4.6\n"
     ]
    }
   ],
   "source": [
    "!pip install arxiv\n",
    "!pip install node2vec"
   ]
  },
  {
   "cell_type": "markdown",
   "id": "c53441e5-efb1-4add-9c77-97f08a30f6de",
   "metadata": {
    "id": "c53441e5-efb1-4add-9c77-97f08a30f6de"
   },
   "source": [
    "## ¿Qué es la Predicción de Enlaces?\n",
    "Existen muchas maneras de resolver problemas en motores de recomendación. Estas soluciones varían desde enfoques algorítmicos, algoritmos de predicción de enlaces, soluciones basadas en embeddings, etc. La predicción de enlaces también se conoce como completamiento de grafos, un problema común en la teoría de grafos. En su forma más simple, dado una red, quieres saber si debería haber un enlace entre un par de nodos. Esta definición cambia ligeramente dependiendo del tipo de red con la que estás trabajando. Un grafo dirigido o multigrafo puede tener interpretaciones ligeramente diferentes, pero el concepto fundamental de identificar enlaces faltantes en una red permanece.\n",
    "\n",
    "Los problemas en la predicción de enlaces también son bastante comunes al tratar con redes temporales (redes que cambian a lo largo del tiempo). Dada una red G en el paso de tiempo t, querrías predecir los enlaces del grafo G en el paso de tiempo t+1."
   ]
  },
  {
   "cell_type": "code",
   "execution_count": null,
   "id": "fe6b94e0-f903-422f-baab-76010e772026",
   "metadata": {
    "id": "fe6b94e0-f903-422f-baab-76010e772026"
   },
   "outputs": [],
   "source": [
    "import networkx as nx\n",
    "import pandas as pd\n",
    "import numpy as np\n",
    "import arxiv\n",
    "\n",
    "from sklearn.ensemble import GradientBoostingClassifier\n",
    "from sklearn.model_selection import train_test_split\n",
    "from sklearn.metrics import accuracy_score, matthews_corrcoef, confusion_matrix, classification_report\n",
    "from itertools import product\n",
    "from sklearn.metrics.pairwise import cosine_similarity\n",
    "from node2vec import Node2Vec as n2v"
   ]
  },
  {
   "cell_type": "code",
   "execution_count": null,
   "id": "5116e841-87c8-4e79-9c1f-6b740c7a9ef9",
   "metadata": {
    "id": "5116e841-87c8-4e79-9c1f-6b740c7a9ef9"
   },
   "outputs": [],
   "source": [
    "# constants\n",
    "queries = [\n",
    "    'automl', 'machinelearning', 'data', 'phyiscs','mathematics', 'recommendation system', 'nlp', 'neural networks'\n",
    "]"
   ]
  },
  {
   "cell_type": "markdown",
   "id": "b445bcd4-ecdd-4b72-84ff-e36afc5e1a2c",
   "metadata": {
    "id": "b445bcd4-ecdd-4b72-84ff-e36afc5e1a2c"
   },
   "source": [
    "# Obtener Datos"
   ]
  },
  {
   "cell_type": "markdown",
   "id": "fb4e4258-9565-41b0-a01a-4ef1cf783c01",
   "metadata": {
    "id": "fb4e4258-9565-41b0-a01a-4ef1cf783c01"
   },
   "source": [
    "Queremos utilizar la API de Arxiv para recopilar información sobre los últimos trabajos de investigación basados en las consultas que hemos identificado anteriormente. Esto nos permitirá luego crear una red a partir de los datos de estos trabajos de investigación y entonces intentaremos predecir enlaces en esa red. Para los fines de este artículo, buscaré un máximo de 1000 resultados por consulta, pero tú no tienes que sujetarte a las mismas restricciones. La API de Arxiv permite a los usuarios obtener hasta 300,000 resultados por consulta. La función descrita a continuación generará un CSV recopilando la siguiente información:\n",
    "```'title', 'date', 'article_id', 'url', 'main_topic', 'all_topics', 'authors', 'year'```\n",
    "Puedes obtener más información como `links, summary, article` pero decidí no hacerlo ya que esas características realmente no serán utilizadas para los fines de este análisis y tutorial.\n",
    "\n",
    "Para referencia sobre la API de Arxiv, puedes encontrar su documentación detallada aquí: https://arxiv.org/help/api/user-manual"
   ]
  },
  {
   "cell_type": "code",
   "execution_count": null,
   "id": "14298db4-2590-4992-a49c-d6c93d962b44",
   "metadata": {
    "id": "14298db4-2590-4992-a49c-d6c93d962b44"
   },
   "outputs": [],
   "source": [
    "def search_arxiv(queries, max_results = 100):\n",
    "    '''\n",
    "    This function will search arxiv associated to a set of queries and store\n",
    "    the latest 10000 (max_results) associated to that search.\n",
    "\n",
    "    params:\n",
    "        queries (List -> Str) : A list of strings containing keywords you want\n",
    "                                to search on Arxiv\n",
    "        max_results (Int) : The maximum number of results you want to see associated\n",
    "                            to your search. Default value is 1000, capped at 300000\n",
    "\n",
    "    returns:\n",
    "        This function will return a DataFrame holding the following columns associated\n",
    "        to the queries the user has passed.\n",
    "            `title`, `date`, `article_id`, `url`, `main_topic`, `all_topics`\n",
    "\n",
    "    example:\n",
    "        research_df = search_arxiv(\n",
    "            queries = ['automl', 'recommender system', 'nlp', 'data science'],\n",
    "            max_results = 10000\n",
    "        )\n",
    "    '''\n",
    "    d = []\n",
    "    searches = []\n",
    "    # hitting the API\n",
    "    for query in queries:\n",
    "        search = arxiv.Search(\n",
    "          query = query,\n",
    "          max_results = max_results,\n",
    "          sort_by = arxiv.SortCriterion.SubmittedDate,\n",
    "          sort_order = arxiv.SortOrder.Descending\n",
    "        )\n",
    "        searches.append(search)\n",
    "\n",
    "    # Converting search result into df\n",
    "    for search in searches:\n",
    "        for res in search.results():\n",
    "            data = {\n",
    "                'title' : res.title,\n",
    "                'date' : res.published,\n",
    "                'article_id' : res.entry_id,\n",
    "                'url' : res.pdf_url,\n",
    "                'main_topic' : res.primary_category,\n",
    "                'all_topics' : res.categories,\n",
    "                'authors' : res.authors\n",
    "            }\n",
    "            d.append(data)\n",
    "\n",
    "    d = pd.DataFrame(d)\n",
    "    d['year'] = pd.DatetimeIndex(d['date']).year\n",
    "\n",
    "    # change article id from url to integer\n",
    "    unique_article_ids = d.article_id.unique()\n",
    "    article_mapping = {art:idx for idx,art in enumerate(unique_article_ids)}\n",
    "    d['article_id'] = d['article_id'].map(article_mapping)\n",
    "    return d"
   ]
  },
  {
   "cell_type": "code",
   "execution_count": null,
   "id": "96f77985-1287-4641-bd45-9dbd873c0da4",
   "metadata": {
    "colab": {
     "base_uri": "https://localhost:8080/"
    },
    "id": "96f77985-1287-4641-bd45-9dbd873c0da4",
    "outputId": "8428df68-cb6c-4368-ed03-2d7bbdb1ecd3"
   },
   "outputs": [
    {
     "name": "stderr",
     "output_type": "stream",
     "text": [
      "<ipython-input-4-03fcdcd354a4>:37: DeprecationWarning: The 'Search.results' method is deprecated, use 'Client.results' instead\n",
      "  for res in search.results():\n"
     ]
    },
    {
     "name": "stdout",
     "output_type": "stream",
     "text": [
      "CPU times: user 2.41 s, sys: 40.3 ms, total: 2.45 s\n",
      "Wall time: 8.56 s\n"
     ]
    },
    {
     "data": {
      "text/plain": [
       "(650, 8)"
      ]
     },
     "execution_count": 5,
     "metadata": {},
     "output_type": "execute_result"
    }
   ],
   "source": [
    "%%time\n",
    "research_df = search_arxiv(\n",
    "    queries = queries,\n",
    "    max_results = 100\n",
    ")\n",
    "research_df.shape"
   ]
  },
  {
   "cell_type": "code",
   "execution_count": null,
   "id": "827e67ab-6548-4da5-843b-a3fc0c1bf8db",
   "metadata": {
    "colab": {
     "base_uri": "https://localhost:8080/",
     "height": 206
    },
    "id": "827e67ab-6548-4da5-843b-a3fc0c1bf8db",
    "outputId": "04245119-52a7-4b78-9c7a-ff7d175b90bc"
   },
   "outputs": [
    {
     "data": {
      "application/vnd.google.colaboratory.intrinsic+json": {
       "summary": "{\n  \"name\": \"research_df\",\n  \"rows\": 650,\n  \"fields\": [\n    {\n      \"column\": \"title\",\n      \"properties\": {\n        \"dtype\": \"string\",\n        \"num_unique_values\": 584,\n        \"samples\": [\n          \"Mexican Computers: A Brief Technical and Historical Overview\",\n          \"Global well-posedness and large time behavior for the Oldroyd-B model\",\n          \"Discovering Adaptable Symbolic Algorithms from Scratch\"\n        ],\n        \"semantic_type\": \"\",\n        \"description\": \"\"\n      }\n    },\n    {\n      \"column\": \"date\",\n      \"properties\": {\n        \"dtype\": \"date\",\n        \"min\": \"1998-09-28 17:54:34+00:00\",\n        \"max\": \"2024-06-07 17:59:59+00:00\",\n        \"num_unique_values\": 582,\n        \"samples\": [\n          \"2024-06-07 04:22:32+00:00\",\n          \"2024-06-06 16:23:11+00:00\",\n          \"2021-08-16 09:10:32+00:00\"\n        ],\n        \"semantic_type\": \"\",\n        \"description\": \"\"\n      }\n    },\n    {\n      \"column\": \"article_id\",\n      \"properties\": {\n        \"dtype\": \"number\",\n        \"std\": 163,\n        \"min\": 0,\n        \"max\": 583,\n        \"num_unique_values\": 584,\n        \"samples\": [\n          383,\n          422,\n          90\n        ],\n        \"semantic_type\": \"\",\n        \"description\": \"\"\n      }\n    },\n    {\n      \"column\": \"url\",\n      \"properties\": {\n        \"dtype\": \"string\",\n        \"num_unique_values\": 584,\n        \"samples\": [\n          \"http://arxiv.org/pdf/2406.04912v1\",\n          \"http://arxiv.org/pdf/2406.04754v1\",\n          \"http://arxiv.org/pdf/2307.16890v2\"\n        ],\n        \"semantic_type\": \"\",\n        \"description\": \"\"\n      }\n    },\n    {\n      \"column\": \"main_topic\",\n      \"properties\": {\n        \"dtype\": \"category\",\n        \"num_unique_values\": 88,\n        \"samples\": [\n          \"econ.TH\",\n          \"cs.LG\",\n          \"hep-ex\"\n        ],\n        \"semantic_type\": \"\",\n        \"description\": \"\"\n      }\n    },\n    {\n      \"column\": \"all_topics\",\n      \"properties\": {\n        \"dtype\": \"object\",\n        \"semantic_type\": \"\",\n        \"description\": \"\"\n      }\n    },\n    {\n      \"column\": \"authors\",\n      \"properties\": {\n        \"dtype\": \"object\",\n        \"semantic_type\": \"\",\n        \"description\": \"\"\n      }\n    },\n    {\n      \"column\": \"year\",\n      \"properties\": {\n        \"dtype\": \"int32\",\n        \"num_unique_values\": 22,\n        \"samples\": [\n          2024,\n          2009,\n          2017\n        ],\n        \"semantic_type\": \"\",\n        \"description\": \"\"\n      }\n    }\n  ]\n}",
       "type": "dataframe",
       "variable_name": "research_df"
      },
      "text/html": [
       "\n",
       "  <div id=\"df-e1c8ffae-0c9f-42b2-beea-47f6f81e2c05\" class=\"colab-df-container\">\n",
       "    <div>\n",
       "<style scoped>\n",
       "    .dataframe tbody tr th:only-of-type {\n",
       "        vertical-align: middle;\n",
       "    }\n",
       "\n",
       "    .dataframe tbody tr th {\n",
       "        vertical-align: top;\n",
       "    }\n",
       "\n",
       "    .dataframe thead th {\n",
       "        text-align: right;\n",
       "    }\n",
       "</style>\n",
       "<table border=\"1\" class=\"dataframe\">\n",
       "  <thead>\n",
       "    <tr style=\"text-align: right;\">\n",
       "      <th></th>\n",
       "      <th>title</th>\n",
       "      <th>date</th>\n",
       "      <th>article_id</th>\n",
       "      <th>url</th>\n",
       "      <th>main_topic</th>\n",
       "      <th>all_topics</th>\n",
       "      <th>authors</th>\n",
       "      <th>year</th>\n",
       "    </tr>\n",
       "  </thead>\n",
       "  <tbody>\n",
       "    <tr>\n",
       "      <th>0</th>\n",
       "      <td>Position: A Call to Action for a Human-Centere...</td>\n",
       "      <td>2024-06-05 15:05:24+00:00</td>\n",
       "      <td>0</td>\n",
       "      <td>http://arxiv.org/pdf/2406.03348v1</td>\n",
       "      <td>cs.LG</td>\n",
       "      <td>[cs.LG]</td>\n",
       "      <td>[Marius Lindauer, Florian Karl, Anne Klier, Ju...</td>\n",
       "      <td>2024</td>\n",
       "    </tr>\n",
       "    <tr>\n",
       "      <th>1</th>\n",
       "      <td>AI-based Classification of Customer Support Ti...</td>\n",
       "      <td>2024-06-03 21:13:02+00:00</td>\n",
       "      <td>1</td>\n",
       "      <td>http://arxiv.org/pdf/2406.01789v1</td>\n",
       "      <td>cs.LG</td>\n",
       "      <td>[cs.LG, cs.AI, cs.CL, cs.HC, I.2; I.2.7; K.6]</td>\n",
       "      <td>[Mario Truss, Stephan Boehm]</td>\n",
       "      <td>2024</td>\n",
       "    </tr>\n",
       "    <tr>\n",
       "      <th>2</th>\n",
       "      <td>Adaptive $Q$-Network: On-the-fly Target Select...</td>\n",
       "      <td>2024-05-25 11:57:43+00:00</td>\n",
       "      <td>2</td>\n",
       "      <td>http://arxiv.org/pdf/2405.16195v1</td>\n",
       "      <td>cs.LG</td>\n",
       "      <td>[cs.LG, cs.AI]</td>\n",
       "      <td>[Théo Vincent, Fabian Wahren, Jan Peters, Bori...</td>\n",
       "      <td>2024</td>\n",
       "    </tr>\n",
       "    <tr>\n",
       "      <th>3</th>\n",
       "      <td>Using Combinatorial Optimization to Design a H...</td>\n",
       "      <td>2024-05-15 11:13:39+00:00</td>\n",
       "      <td>3</td>\n",
       "      <td>http://arxiv.org/pdf/2405.13020v1</td>\n",
       "      <td>cs.CL</td>\n",
       "      <td>[cs.CL, cs.AI]</td>\n",
       "      <td>[Samuel Ackerman, Eitan Farchi, Rami Katan, Or...</td>\n",
       "      <td>2024</td>\n",
       "    </tr>\n",
       "    <tr>\n",
       "      <th>4</th>\n",
       "      <td>Squeezing Lemons with Hammers: An Evaluation o...</td>\n",
       "      <td>2024-05-13 11:43:38+00:00</td>\n",
       "      <td>4</td>\n",
       "      <td>http://arxiv.org/pdf/2405.07662v1</td>\n",
       "      <td>cs.LG</td>\n",
       "      <td>[cs.LG, cs.AI]</td>\n",
       "      <td>[Ricardo Knauer, Erik Rodner]</td>\n",
       "      <td>2024</td>\n",
       "    </tr>\n",
       "  </tbody>\n",
       "</table>\n",
       "</div>\n",
       "    <div class=\"colab-df-buttons\">\n",
       "\n",
       "  <div class=\"colab-df-container\">\n",
       "    <button class=\"colab-df-convert\" onclick=\"convertToInteractive('df-e1c8ffae-0c9f-42b2-beea-47f6f81e2c05')\"\n",
       "            title=\"Convert this dataframe to an interactive table.\"\n",
       "            style=\"display:none;\">\n",
       "\n",
       "  <svg xmlns=\"http://www.w3.org/2000/svg\" height=\"24px\" viewBox=\"0 -960 960 960\">\n",
       "    <path d=\"M120-120v-720h720v720H120Zm60-500h600v-160H180v160Zm220 220h160v-160H400v160Zm0 220h160v-160H400v160ZM180-400h160v-160H180v160Zm440 0h160v-160H620v160ZM180-180h160v-160H180v160Zm440 0h160v-160H620v160Z\"/>\n",
       "  </svg>\n",
       "    </button>\n",
       "\n",
       "  <style>\n",
       "    .colab-df-container {\n",
       "      display:flex;\n",
       "      gap: 12px;\n",
       "    }\n",
       "\n",
       "    .colab-df-convert {\n",
       "      background-color: #E8F0FE;\n",
       "      border: none;\n",
       "      border-radius: 50%;\n",
       "      cursor: pointer;\n",
       "      display: none;\n",
       "      fill: #1967D2;\n",
       "      height: 32px;\n",
       "      padding: 0 0 0 0;\n",
       "      width: 32px;\n",
       "    }\n",
       "\n",
       "    .colab-df-convert:hover {\n",
       "      background-color: #E2EBFA;\n",
       "      box-shadow: 0px 1px 2px rgba(60, 64, 67, 0.3), 0px 1px 3px 1px rgba(60, 64, 67, 0.15);\n",
       "      fill: #174EA6;\n",
       "    }\n",
       "\n",
       "    .colab-df-buttons div {\n",
       "      margin-bottom: 4px;\n",
       "    }\n",
       "\n",
       "    [theme=dark] .colab-df-convert {\n",
       "      background-color: #3B4455;\n",
       "      fill: #D2E3FC;\n",
       "    }\n",
       "\n",
       "    [theme=dark] .colab-df-convert:hover {\n",
       "      background-color: #434B5C;\n",
       "      box-shadow: 0px 1px 3px 1px rgba(0, 0, 0, 0.15);\n",
       "      filter: drop-shadow(0px 1px 2px rgba(0, 0, 0, 0.3));\n",
       "      fill: #FFFFFF;\n",
       "    }\n",
       "  </style>\n",
       "\n",
       "    <script>\n",
       "      const buttonEl =\n",
       "        document.querySelector('#df-e1c8ffae-0c9f-42b2-beea-47f6f81e2c05 button.colab-df-convert');\n",
       "      buttonEl.style.display =\n",
       "        google.colab.kernel.accessAllowed ? 'block' : 'none';\n",
       "\n",
       "      async function convertToInteractive(key) {\n",
       "        const element = document.querySelector('#df-e1c8ffae-0c9f-42b2-beea-47f6f81e2c05');\n",
       "        const dataTable =\n",
       "          await google.colab.kernel.invokeFunction('convertToInteractive',\n",
       "                                                    [key], {});\n",
       "        if (!dataTable) return;\n",
       "\n",
       "        const docLinkHtml = 'Like what you see? Visit the ' +\n",
       "          '<a target=\"_blank\" href=https://colab.research.google.com/notebooks/data_table.ipynb>data table notebook</a>'\n",
       "          + ' to learn more about interactive tables.';\n",
       "        element.innerHTML = '';\n",
       "        dataTable['output_type'] = 'display_data';\n",
       "        await google.colab.output.renderOutput(dataTable, element);\n",
       "        const docLink = document.createElement('div');\n",
       "        docLink.innerHTML = docLinkHtml;\n",
       "        element.appendChild(docLink);\n",
       "      }\n",
       "    </script>\n",
       "  </div>\n",
       "\n",
       "\n",
       "<div id=\"df-ddb3accf-680b-40aa-828f-39e688326b69\">\n",
       "  <button class=\"colab-df-quickchart\" onclick=\"quickchart('df-ddb3accf-680b-40aa-828f-39e688326b69')\"\n",
       "            title=\"Suggest charts\"\n",
       "            style=\"display:none;\">\n",
       "\n",
       "<svg xmlns=\"http://www.w3.org/2000/svg\" height=\"24px\"viewBox=\"0 0 24 24\"\n",
       "     width=\"24px\">\n",
       "    <g>\n",
       "        <path d=\"M19 3H5c-1.1 0-2 .9-2 2v14c0 1.1.9 2 2 2h14c1.1 0 2-.9 2-2V5c0-1.1-.9-2-2-2zM9 17H7v-7h2v7zm4 0h-2V7h2v10zm4 0h-2v-4h2v4z\"/>\n",
       "    </g>\n",
       "</svg>\n",
       "  </button>\n",
       "\n",
       "<style>\n",
       "  .colab-df-quickchart {\n",
       "      --bg-color: #E8F0FE;\n",
       "      --fill-color: #1967D2;\n",
       "      --hover-bg-color: #E2EBFA;\n",
       "      --hover-fill-color: #174EA6;\n",
       "      --disabled-fill-color: #AAA;\n",
       "      --disabled-bg-color: #DDD;\n",
       "  }\n",
       "\n",
       "  [theme=dark] .colab-df-quickchart {\n",
       "      --bg-color: #3B4455;\n",
       "      --fill-color: #D2E3FC;\n",
       "      --hover-bg-color: #434B5C;\n",
       "      --hover-fill-color: #FFFFFF;\n",
       "      --disabled-bg-color: #3B4455;\n",
       "      --disabled-fill-color: #666;\n",
       "  }\n",
       "\n",
       "  .colab-df-quickchart {\n",
       "    background-color: var(--bg-color);\n",
       "    border: none;\n",
       "    border-radius: 50%;\n",
       "    cursor: pointer;\n",
       "    display: none;\n",
       "    fill: var(--fill-color);\n",
       "    height: 32px;\n",
       "    padding: 0;\n",
       "    width: 32px;\n",
       "  }\n",
       "\n",
       "  .colab-df-quickchart:hover {\n",
       "    background-color: var(--hover-bg-color);\n",
       "    box-shadow: 0 1px 2px rgba(60, 64, 67, 0.3), 0 1px 3px 1px rgba(60, 64, 67, 0.15);\n",
       "    fill: var(--button-hover-fill-color);\n",
       "  }\n",
       "\n",
       "  .colab-df-quickchart-complete:disabled,\n",
       "  .colab-df-quickchart-complete:disabled:hover {\n",
       "    background-color: var(--disabled-bg-color);\n",
       "    fill: var(--disabled-fill-color);\n",
       "    box-shadow: none;\n",
       "  }\n",
       "\n",
       "  .colab-df-spinner {\n",
       "    border: 2px solid var(--fill-color);\n",
       "    border-color: transparent;\n",
       "    border-bottom-color: var(--fill-color);\n",
       "    animation:\n",
       "      spin 1s steps(1) infinite;\n",
       "  }\n",
       "\n",
       "  @keyframes spin {\n",
       "    0% {\n",
       "      border-color: transparent;\n",
       "      border-bottom-color: var(--fill-color);\n",
       "      border-left-color: var(--fill-color);\n",
       "    }\n",
       "    20% {\n",
       "      border-color: transparent;\n",
       "      border-left-color: var(--fill-color);\n",
       "      border-top-color: var(--fill-color);\n",
       "    }\n",
       "    30% {\n",
       "      border-color: transparent;\n",
       "      border-left-color: var(--fill-color);\n",
       "      border-top-color: var(--fill-color);\n",
       "      border-right-color: var(--fill-color);\n",
       "    }\n",
       "    40% {\n",
       "      border-color: transparent;\n",
       "      border-right-color: var(--fill-color);\n",
       "      border-top-color: var(--fill-color);\n",
       "    }\n",
       "    60% {\n",
       "      border-color: transparent;\n",
       "      border-right-color: var(--fill-color);\n",
       "    }\n",
       "    80% {\n",
       "      border-color: transparent;\n",
       "      border-right-color: var(--fill-color);\n",
       "      border-bottom-color: var(--fill-color);\n",
       "    }\n",
       "    90% {\n",
       "      border-color: transparent;\n",
       "      border-bottom-color: var(--fill-color);\n",
       "    }\n",
       "  }\n",
       "</style>\n",
       "\n",
       "  <script>\n",
       "    async function quickchart(key) {\n",
       "      const quickchartButtonEl =\n",
       "        document.querySelector('#' + key + ' button');\n",
       "      quickchartButtonEl.disabled = true;  // To prevent multiple clicks.\n",
       "      quickchartButtonEl.classList.add('colab-df-spinner');\n",
       "      try {\n",
       "        const charts = await google.colab.kernel.invokeFunction(\n",
       "            'suggestCharts', [key], {});\n",
       "      } catch (error) {\n",
       "        console.error('Error during call to suggestCharts:', error);\n",
       "      }\n",
       "      quickchartButtonEl.classList.remove('colab-df-spinner');\n",
       "      quickchartButtonEl.classList.add('colab-df-quickchart-complete');\n",
       "    }\n",
       "    (() => {\n",
       "      let quickchartButtonEl =\n",
       "        document.querySelector('#df-ddb3accf-680b-40aa-828f-39e688326b69 button');\n",
       "      quickchartButtonEl.style.display =\n",
       "        google.colab.kernel.accessAllowed ? 'block' : 'none';\n",
       "    })();\n",
       "  </script>\n",
       "</div>\n",
       "\n",
       "    </div>\n",
       "  </div>\n"
      ],
      "text/plain": [
       "                                               title  \\\n",
       "0  Position: A Call to Action for a Human-Centere...   \n",
       "1  AI-based Classification of Customer Support Ti...   \n",
       "2  Adaptive $Q$-Network: On-the-fly Target Select...   \n",
       "3  Using Combinatorial Optimization to Design a H...   \n",
       "4  Squeezing Lemons with Hammers: An Evaluation o...   \n",
       "\n",
       "                       date  article_id                                url  \\\n",
       "0 2024-06-05 15:05:24+00:00           0  http://arxiv.org/pdf/2406.03348v1   \n",
       "1 2024-06-03 21:13:02+00:00           1  http://arxiv.org/pdf/2406.01789v1   \n",
       "2 2024-05-25 11:57:43+00:00           2  http://arxiv.org/pdf/2405.16195v1   \n",
       "3 2024-05-15 11:13:39+00:00           3  http://arxiv.org/pdf/2405.13020v1   \n",
       "4 2024-05-13 11:43:38+00:00           4  http://arxiv.org/pdf/2405.07662v1   \n",
       "\n",
       "  main_topic                                     all_topics  \\\n",
       "0      cs.LG                                        [cs.LG]   \n",
       "1      cs.LG  [cs.LG, cs.AI, cs.CL, cs.HC, I.2; I.2.7; K.6]   \n",
       "2      cs.LG                                 [cs.LG, cs.AI]   \n",
       "3      cs.CL                                 [cs.CL, cs.AI]   \n",
       "4      cs.LG                                 [cs.LG, cs.AI]   \n",
       "\n",
       "                                             authors  year  \n",
       "0  [Marius Lindauer, Florian Karl, Anne Klier, Ju...  2024  \n",
       "1                       [Mario Truss, Stephan Boehm]  2024  \n",
       "2  [Théo Vincent, Fabian Wahren, Jan Peters, Bori...  2024  \n",
       "3  [Samuel Ackerman, Eitan Farchi, Rami Katan, Or...  2024  \n",
       "4                      [Ricardo Knauer, Erik Rodner]  2024  "
      ]
     },
     "execution_count": 6,
     "metadata": {},
     "output_type": "execute_result"
    }
   ],
   "source": [
    "research_df.head()"
   ]
  },
  {
   "cell_type": "markdown",
   "id": "555b32ed-3c68-412a-bf34-798292d47684",
   "metadata": {
    "id": "555b32ed-3c68-412a-bf34-798292d47684"
   },
   "source": [
    "## Generar Red"
   ]
  },
  {
   "cell_type": "markdown",
   "id": "437b2d6f-60f9-4568-afc2-50cb32154cff",
   "metadata": {
    "id": "437b2d6f-60f9-4568-afc2-50cb32154cff"
   },
   "source": [
    "Ahora que hemos obtenido los datos utilizando la API de Arxiv, podemos generar una red. La estructura de la red será la siguiente: los nodos serán los `article_ids` y los enlaces serán todos los temas que conectan un par de artículos. Por ejemplo, el `article_id 1` con los temas `astro-física y estadísticas` puede estar conectado al `article_id 10` con el tema `estadísticas` y al `article_id 7` con los temas `astro-física, matemáticas`. Esta será una red de múltiples enlaces donde cada enlace tendrá un peso de 1."
   ]
  },
  {
   "cell_type": "code",
   "execution_count": null,
   "id": "67ef8e9a-0c80-4d4b-a56b-7e50263abacc",
   "metadata": {
    "id": "67ef8e9a-0c80-4d4b-a56b-7e50263abacc"
   },
   "outputs": [],
   "source": [
    "def generate_network(df, node_col = 'article_id', edge_col = 'main_topic'):\n",
    "    '''\n",
    "    This function will generate a article to article network given an input DataFrame.\n",
    "    It will do so by creating an edge_dictionary where each key is going to be a node\n",
    "    referenced by unique values in node_col and the values will be a list of other nodes\n",
    "    connected to the key through the edge_col.\n",
    "\n",
    "    params:\n",
    "        df (DataFrame) : The dataset which holds the node and edge columns\n",
    "        node_col (String) : The column name associated to the nodes of the network\n",
    "        edge_col (String) : The column name associated to the edges of the network\n",
    "\n",
    "    returns:\n",
    "        A networkx graph corresponding to the input dataset\n",
    "\n",
    "    example:\n",
    "        generate_network(\n",
    "            research_df,\n",
    "            node_col = 'article_id',\n",
    "            edge_col = 'main_topic'\n",
    "        )\n",
    "    '''\n",
    "    edge_dct = {}\n",
    "    for i,g in df.groupby(node_col):\n",
    "        topics = g[edge_col].unique()\n",
    "        edge_df = df[(df[node_col] != i) & (df[edge_col].isin(topics))]\n",
    "        edges = list(edge_df[node_col].unique())\n",
    "        edge_dct[i] = edges\n",
    "\n",
    "    # create nx network\n",
    "    g = nx.Graph(edge_dct, create_using = nx.MultiGraph)\n",
    "    return g"
   ]
  },
  {
   "cell_type": "code",
   "execution_count": null,
   "id": "fa528e7e-88df-487a-b364-f9b04573d149",
   "metadata": {
    "id": "fa528e7e-88df-487a-b364-f9b04573d149"
   },
   "outputs": [],
   "source": [
    "all_tp = research_df.explode('all_topics').copy()"
   ]
  },
  {
   "cell_type": "code",
   "execution_count": null,
   "id": "b98f8dc1-3bf7-45ce-b2ad-f69c1e08b8e2",
   "metadata": {
    "colab": {
     "base_uri": "https://localhost:8080/"
    },
    "id": "b98f8dc1-3bf7-45ce-b2ad-f69c1e08b8e2",
    "outputId": "e4f4b9c6-827d-44ea-80c2-19e508cbfc22"
   },
   "outputs": [
    {
     "name": "stdout",
     "output_type": "stream",
     "text": [
      "CPU times: user 1.27 s, sys: 8.74 ms, total: 1.28 s\n",
      "Wall time: 1.83 s\n"
     ]
    }
   ],
   "source": [
    "%%time\n",
    "tp_nx = generate_network(\n",
    "    all_tp,\n",
    "    node_col = 'article_id',\n",
    "    edge_col = 'all_topics'\n",
    ")"
   ]
  },
  {
   "cell_type": "code",
   "execution_count": null,
   "id": "5afa0c52-38c6-4da4-8ac9-358df0aefb7f",
   "metadata": {
    "colab": {
     "base_uri": "https://localhost:8080/"
    },
    "id": "5afa0c52-38c6-4da4-8ac9-358df0aefb7f",
    "outputId": "e3d54c56-0d88-4c1b-e3b3-250412e19a06"
   },
   "outputs": [
    {
     "name": "stdout",
     "output_type": "stream",
     "text": [
      "Graph with 584 nodes and 33541 edges\n"
     ]
    },
    {
     "name": "stderr",
     "output_type": "stream",
     "text": [
      "<ipython-input-10-5457b312971a>:1: DeprecationWarning: info is deprecated and will be removed in version 3.0.\n",
      "\n",
      "  print(nx.info(tp_nx))\n"
     ]
    }
   ],
   "source": [
    "print(nx.info(tp_nx))"
   ]
  },
  {
   "cell_type": "code",
   "execution_count": null,
   "id": "1b646d2a-1d5e-4837-870b-7d99153d2728",
   "metadata": {
    "colab": {
     "base_uri": "https://localhost:8080/"
    },
    "id": "1b646d2a-1d5e-4837-870b-7d99153d2728",
    "outputId": "23ba5970-7490-436a-9748-df14173d85d9"
   },
   "outputs": [
    {
     "name": "stdout",
     "output_type": "stream",
     "text": [
      "CPU times: user 1.05 s, sys: 8.82 ms, total: 1.05 s\n",
      "Wall time: 1.47 s\n"
     ]
    }
   ],
   "source": [
    "%%time\n",
    "research_nx = generate_network(\n",
    "    research_df,\n",
    "    node_col = 'article_id',\n",
    "    edge_col = 'main_topic'\n",
    ")"
   ]
  },
  {
   "cell_type": "code",
   "execution_count": null,
   "id": "e45a5537-68da-4a97-ae74-b0ccdbcc84be",
   "metadata": {
    "colab": {
     "base_uri": "https://localhost:8080/"
    },
    "id": "e45a5537-68da-4a97-ae74-b0ccdbcc84be",
    "outputId": "ca95dfe0-e73d-4ee0-d226-c2879acdcc72"
   },
   "outputs": [
    {
     "name": "stdout",
     "output_type": "stream",
     "text": [
      "Graph with 584 nodes and 12862 edges\n"
     ]
    },
    {
     "name": "stderr",
     "output_type": "stream",
     "text": [
      "<ipython-input-12-7ae1bf0e2c36>:1: DeprecationWarning: info is deprecated and will be removed in version 3.0.\n",
      "\n",
      "  print(nx.info(research_nx))\n"
     ]
    }
   ],
   "source": [
    "print(nx.info(research_nx))"
   ]
  },
  {
   "cell_type": "markdown",
   "id": "66415397-621f-4ae9-9e2c-388359e33478",
   "metadata": {
    "id": "66415397-621f-4ae9-9e2c-388359e33478"
   },
   "source": [
    "## Node2Vec"
   ]
  },
  {
   "cell_type": "markdown",
   "id": "e97bc9ab-f39b-4ef8-833c-6cbe7e1e65ef",
   "metadata": {
    "id": "e97bc9ab-f39b-4ef8-833c-6cbe7e1e65ef"
   },
   "source": [
    "Este componente cubrirá la ejecución de node2vec en el grafo generado anteriormente y la creación de los embeddings de nodos asociados para esa red. Estos embeddings desempeñarán un papel crucial en lo que sigue, ya que son las características principales necesarias para construir un modelo de predicción de enlaces."
   ]
  },
  {
   "cell_type": "code",
   "execution_count": null,
   "id": "066bf93a-ad52-491b-adb1-79fe6481ab9a",
   "metadata": {
    "colab": {
     "base_uri": "https://localhost:8080/",
     "height": 101,
     "referenced_widgets": [
      "3cd1ecc8f5a740dfa47b1e69c34dc38b",
      "9b71f592de0b4c8196cc63528a2e7c1d",
      "4e84776b02e54ef594072f164ba1abb0",
      "c73799c75d4a400d8b252f672b895e80",
      "aa4c97a020db4ef6addce4fed2f26f1c",
      "dcaec0754da54d12bd5f1248787cf30b",
      "73128be77cb04b81b479112fc8c50c89",
      "82e7a1bc9fb944ec9b701c430b48e1ba",
      "ad75b879de8f4b40869b64e0eab31810",
      "787ec458db7546f385bebfb93d9d3305",
      "b9faeef911054b24aed5b21003f43f94"
     ]
    },
    "id": "066bf93a-ad52-491b-adb1-79fe6481ab9a",
    "outputId": "b37dcd6f-8e5e-4dfc-827d-f4cf5b309083"
   },
   "outputs": [
    {
     "data": {
      "application/vnd.jupyter.widget-view+json": {
       "model_id": "3cd1ecc8f5a740dfa47b1e69c34dc38b",
       "version_major": 2,
       "version_minor": 0
      },
      "text/plain": [
       "Computing transition probabilities:   0%|          | 0/584 [00:00<?, ?it/s]"
      ]
     },
     "metadata": {},
     "output_type": "display_data"
    },
    {
     "name": "stderr",
     "output_type": "stream",
     "text": [
      "Generating walks (CPU: 1): 100%|██████████| 10/10 [00:14<00:00,  1.41s/it]"
     ]
    },
    {
     "name": "stdout",
     "output_type": "stream",
     "text": [
      "CPU times: user 1min 11s, sys: 658 ms, total: 1min 11s\n",
      "Wall time: 1min 24s\n"
     ]
    },
    {
     "name": "stderr",
     "output_type": "stream",
     "text": [
      "\n"
     ]
    }
   ],
   "source": [
    "%time g_emb = n2v(tp_nx, dimensions=16)"
   ]
  },
  {
   "cell_type": "code",
   "execution_count": null,
   "id": "afca8a21-5aa8-493a-ba57-e83695637ff5",
   "metadata": {
    "id": "afca8a21-5aa8-493a-ba57-e83695637ff5"
   },
   "outputs": [],
   "source": [
    "WINDOW = 1 # Node2Vec fit window\n",
    "MIN_COUNT = 1 # Node2Vec min. count\n",
    "BATCH_WORDS = 4 # Node2Vec batch words"
   ]
  },
  {
   "cell_type": "code",
   "execution_count": null,
   "id": "f5ce72cd-db36-430f-b65e-f7b9b9604120",
   "metadata": {
    "id": "f5ce72cd-db36-430f-b65e-f7b9b9604120"
   },
   "outputs": [],
   "source": [
    "mdl = g_emb.fit(\n",
    "    window=WINDOW,\n",
    "    min_count=MIN_COUNT,\n",
    "    batch_words=BATCH_WORDS\n",
    ")"
   ]
  },
  {
   "cell_type": "code",
   "execution_count": null,
   "id": "eda734d7-6b08-4a76-aca9-6a54948c1e70",
   "metadata": {
    "colab": {
     "base_uri": "https://localhost:8080/"
    },
    "id": "eda734d7-6b08-4a76-aca9-6a54948c1e70",
    "outputId": "09917895-ab7b-4d0e-aa46-81c54b5ad4e1"
   },
   "outputs": [
    {
     "name": "stdout",
     "output_type": "stream",
     "text": [
      "('440', 0.950953483581543)\n",
      "('475', 0.9501842260360718)\n",
      "('516', 0.948316752910614)\n",
      "('518', 0.9440028667449951)\n",
      "('434', 0.9420174956321716)\n",
      "('206', 0.9409930109977722)\n",
      "('472', 0.9392722845077515)\n",
      "('512', 0.9268742799758911)\n",
      "('338', 0.8932715654373169)\n",
      "('427', 0.8201966285705566)\n"
     ]
    }
   ],
   "source": [
    "input_node = '1'\n",
    "for s in mdl.wv.most_similar(input_node, topn = 10):\n",
    "    print(s)"
   ]
  },
  {
   "cell_type": "markdown",
   "id": "997a904f-fc1c-4a60-972c-94f39143f64d",
   "metadata": {
    "id": "997a904f-fc1c-4a60-972c-94f39143f64d"
   },
   "source": [
    "## Generar DataFrame de Embeddings"
   ]
  },
  {
   "cell_type": "code",
   "execution_count": null,
   "id": "08f66aff-fe52-4ba1-85e4-32d9ec1cb5aa",
   "metadata": {
    "id": "08f66aff-fe52-4ba1-85e4-32d9ec1cb5aa"
   },
   "outputs": [],
   "source": [
    "emb_df = (\n",
    "    pd.DataFrame(\n",
    "        [mdl.wv.get_vector(str(n)) for n in tp_nx.nodes()],\n",
    "        index = tp_nx.nodes\n",
    "    )\n",
    ")"
   ]
  },
  {
   "cell_type": "code",
   "execution_count": null,
   "id": "ca946a47-125a-41a5-9a36-bfd1543d6ccb",
   "metadata": {
    "colab": {
     "base_uri": "https://localhost:8080/",
     "height": 206
    },
    "id": "ca946a47-125a-41a5-9a36-bfd1543d6ccb",
    "outputId": "51cd0946-90d0-4350-ed62-92c57ed61749"
   },
   "outputs": [
    {
     "data": {
      "application/vnd.google.colaboratory.intrinsic+json": {
       "summary": "{\n  \"name\": \"emb_df\",\n  \"rows\": 584,\n  \"fields\": [\n    {\n      \"column\": 0,\n      \"properties\": {\n        \"dtype\": \"float32\",\n        \"num_unique_values\": 584,\n        \"samples\": [\n          0.20443667471408844,\n          -0.08667365461587906,\n          -0.2973431348800659\n        ],\n        \"semantic_type\": \"\",\n        \"description\": \"\"\n      }\n    },\n    {\n      \"column\": 1,\n      \"properties\": {\n        \"dtype\": \"float32\",\n        \"num_unique_values\": 584,\n        \"samples\": [\n          0.10969266295433044,\n          -0.21016839146614075,\n          0.4483564794063568\n        ],\n        \"semantic_type\": \"\",\n        \"description\": \"\"\n      }\n    },\n    {\n      \"column\": 2,\n      \"properties\": {\n        \"dtype\": \"float32\",\n        \"num_unique_values\": 584,\n        \"samples\": [\n          -0.2429724484682083,\n          -1.2135947942733765,\n          0.5376780033111572\n        ],\n        \"semantic_type\": \"\",\n        \"description\": \"\"\n      }\n    },\n    {\n      \"column\": 3,\n      \"properties\": {\n        \"dtype\": \"float32\",\n        \"num_unique_values\": 584,\n        \"samples\": [\n          0.3204970955848694,\n          -1.0891691446304321,\n          0.5173354148864746\n        ],\n        \"semantic_type\": \"\",\n        \"description\": \"\"\n      }\n    },\n    {\n      \"column\": 4,\n      \"properties\": {\n        \"dtype\": \"float32\",\n        \"num_unique_values\": 584,\n        \"samples\": [\n          0.2096073031425476,\n          -0.2304108589887619,\n          0.2362395077943802\n        ],\n        \"semantic_type\": \"\",\n        \"description\": \"\"\n      }\n    },\n    {\n      \"column\": 5,\n      \"properties\": {\n        \"dtype\": \"float32\",\n        \"num_unique_values\": 584,\n        \"samples\": [\n          0.25649383664131165,\n          1.6473456621170044,\n          -0.3499124050140381\n        ],\n        \"semantic_type\": \"\",\n        \"description\": \"\"\n      }\n    },\n    {\n      \"column\": 6,\n      \"properties\": {\n        \"dtype\": \"float32\",\n        \"num_unique_values\": 584,\n        \"samples\": [\n          0.5280082821846008,\n          1.115132212638855,\n          1.2704155445098877\n        ],\n        \"semantic_type\": \"\",\n        \"description\": \"\"\n      }\n    },\n    {\n      \"column\": 7,\n      \"properties\": {\n        \"dtype\": \"float32\",\n        \"num_unique_values\": 584,\n        \"samples\": [\n          -0.2821991741657257,\n          0.36657318472862244,\n          -0.258864164352417\n        ],\n        \"semantic_type\": \"\",\n        \"description\": \"\"\n      }\n    },\n    {\n      \"column\": 8,\n      \"properties\": {\n        \"dtype\": \"float32\",\n        \"num_unique_values\": 584,\n        \"samples\": [\n          0.4061761200428009,\n          -0.23339754343032837,\n          0.032013460993766785\n        ],\n        \"semantic_type\": \"\",\n        \"description\": \"\"\n      }\n    },\n    {\n      \"column\": 9,\n      \"properties\": {\n        \"dtype\": \"float32\",\n        \"num_unique_values\": 584,\n        \"samples\": [\n          -0.11073606461286545,\n          -0.17204156517982483,\n          -0.29863986372947693\n        ],\n        \"semantic_type\": \"\",\n        \"description\": \"\"\n      }\n    },\n    {\n      \"column\": 10,\n      \"properties\": {\n        \"dtype\": \"float32\",\n        \"num_unique_values\": 584,\n        \"samples\": [\n          0.1022062599658966,\n          -1.487882375717163,\n          0.4532279968261719\n        ],\n        \"semantic_type\": \"\",\n        \"description\": \"\"\n      }\n    },\n    {\n      \"column\": 11,\n      \"properties\": {\n        \"dtype\": \"float32\",\n        \"num_unique_values\": 584,\n        \"samples\": [\n          -0.11134161055088043,\n          -1.6319838762283325,\n          -0.4933903217315674\n        ],\n        \"semantic_type\": \"\",\n        \"description\": \"\"\n      }\n    },\n    {\n      \"column\": 12,\n      \"properties\": {\n        \"dtype\": \"float32\",\n        \"num_unique_values\": 584,\n        \"samples\": [\n          -0.20728537440299988,\n          -0.20374053716659546,\n          -0.04328041896224022\n        ],\n        \"semantic_type\": \"\",\n        \"description\": \"\"\n      }\n    },\n    {\n      \"column\": 13,\n      \"properties\": {\n        \"dtype\": \"float32\",\n        \"num_unique_values\": 584,\n        \"samples\": [\n          -0.7659903168678284,\n          -1.38080632686615,\n          -1.016235589981079\n        ],\n        \"semantic_type\": \"\",\n        \"description\": \"\"\n      }\n    },\n    {\n      \"column\": 14,\n      \"properties\": {\n        \"dtype\": \"float32\",\n        \"num_unique_values\": 584,\n        \"samples\": [\n          0.36500927805900574,\n          1.254929780960083,\n          0.439573734998703\n        ],\n        \"semantic_type\": \"\",\n        \"description\": \"\"\n      }\n    },\n    {\n      \"column\": 15,\n      \"properties\": {\n        \"dtype\": \"float32\",\n        \"num_unique_values\": 584,\n        \"samples\": [\n          -0.17674997448921204,\n          -1.7372030019760132,\n          0.4735524654388428\n        ],\n        \"semantic_type\": \"\",\n        \"description\": \"\"\n      }\n    }\n  ]\n}",
       "type": "dataframe",
       "variable_name": "emb_df"
      },
      "text/html": [
       "\n",
       "  <div id=\"df-e175c572-1b0b-4d10-b919-199d5aff2483\" class=\"colab-df-container\">\n",
       "    <div>\n",
       "<style scoped>\n",
       "    .dataframe tbody tr th:only-of-type {\n",
       "        vertical-align: middle;\n",
       "    }\n",
       "\n",
       "    .dataframe tbody tr th {\n",
       "        vertical-align: top;\n",
       "    }\n",
       "\n",
       "    .dataframe thead th {\n",
       "        text-align: right;\n",
       "    }\n",
       "</style>\n",
       "<table border=\"1\" class=\"dataframe\">\n",
       "  <thead>\n",
       "    <tr style=\"text-align: right;\">\n",
       "      <th></th>\n",
       "      <th>0</th>\n",
       "      <th>1</th>\n",
       "      <th>2</th>\n",
       "      <th>3</th>\n",
       "      <th>4</th>\n",
       "      <th>5</th>\n",
       "      <th>6</th>\n",
       "      <th>7</th>\n",
       "      <th>8</th>\n",
       "      <th>9</th>\n",
       "      <th>10</th>\n",
       "      <th>11</th>\n",
       "      <th>12</th>\n",
       "      <th>13</th>\n",
       "      <th>14</th>\n",
       "      <th>15</th>\n",
       "    </tr>\n",
       "  </thead>\n",
       "  <tbody>\n",
       "    <tr>\n",
       "      <th>0</th>\n",
       "      <td>0.196941</td>\n",
       "      <td>-0.124033</td>\n",
       "      <td>-0.601421</td>\n",
       "      <td>0.545209</td>\n",
       "      <td>0.841145</td>\n",
       "      <td>0.226566</td>\n",
       "      <td>1.148397</td>\n",
       "      <td>0.343607</td>\n",
       "      <td>-0.319765</td>\n",
       "      <td>0.223038</td>\n",
       "      <td>0.051716</td>\n",
       "      <td>-0.365541</td>\n",
       "      <td>0.590912</td>\n",
       "      <td>-1.172069</td>\n",
       "      <td>-0.049248</td>\n",
       "      <td>0.979324</td>\n",
       "    </tr>\n",
       "    <tr>\n",
       "      <th>1</th>\n",
       "      <td>-0.221081</td>\n",
       "      <td>0.229598</td>\n",
       "      <td>0.083973</td>\n",
       "      <td>1.505110</td>\n",
       "      <td>0.358578</td>\n",
       "      <td>0.538549</td>\n",
       "      <td>1.209605</td>\n",
       "      <td>0.053599</td>\n",
       "      <td>0.437247</td>\n",
       "      <td>-0.466862</td>\n",
       "      <td>0.091293</td>\n",
       "      <td>0.027160</td>\n",
       "      <td>0.262387</td>\n",
       "      <td>-0.549673</td>\n",
       "      <td>-0.417684</td>\n",
       "      <td>0.066431</td>\n",
       "    </tr>\n",
       "    <tr>\n",
       "      <th>2</th>\n",
       "      <td>-0.361888</td>\n",
       "      <td>0.074789</td>\n",
       "      <td>0.078418</td>\n",
       "      <td>0.721170</td>\n",
       "      <td>0.320222</td>\n",
       "      <td>0.336538</td>\n",
       "      <td>1.125500</td>\n",
       "      <td>0.210581</td>\n",
       "      <td>0.506290</td>\n",
       "      <td>0.187148</td>\n",
       "      <td>0.218859</td>\n",
       "      <td>-0.876790</td>\n",
       "      <td>0.348352</td>\n",
       "      <td>-1.359215</td>\n",
       "      <td>0.332504</td>\n",
       "      <td>0.247158</td>\n",
       "    </tr>\n",
       "    <tr>\n",
       "      <th>3</th>\n",
       "      <td>0.272834</td>\n",
       "      <td>-0.062326</td>\n",
       "      <td>-0.396623</td>\n",
       "      <td>0.871157</td>\n",
       "      <td>0.800673</td>\n",
       "      <td>1.245440</td>\n",
       "      <td>0.856619</td>\n",
       "      <td>0.283148</td>\n",
       "      <td>0.715484</td>\n",
       "      <td>-0.480800</td>\n",
       "      <td>0.195614</td>\n",
       "      <td>0.627340</td>\n",
       "      <td>0.039687</td>\n",
       "      <td>-1.248271</td>\n",
       "      <td>0.495762</td>\n",
       "      <td>-0.598750</td>\n",
       "    </tr>\n",
       "    <tr>\n",
       "      <th>4</th>\n",
       "      <td>-0.479877</td>\n",
       "      <td>0.045342</td>\n",
       "      <td>0.095946</td>\n",
       "      <td>0.566142</td>\n",
       "      <td>0.375811</td>\n",
       "      <td>0.341864</td>\n",
       "      <td>1.157948</td>\n",
       "      <td>0.197043</td>\n",
       "      <td>0.465209</td>\n",
       "      <td>0.233730</td>\n",
       "      <td>0.160235</td>\n",
       "      <td>-0.658064</td>\n",
       "      <td>0.378449</td>\n",
       "      <td>-1.376188</td>\n",
       "      <td>0.264785</td>\n",
       "      <td>0.195926</td>\n",
       "    </tr>\n",
       "  </tbody>\n",
       "</table>\n",
       "</div>\n",
       "    <div class=\"colab-df-buttons\">\n",
       "\n",
       "  <div class=\"colab-df-container\">\n",
       "    <button class=\"colab-df-convert\" onclick=\"convertToInteractive('df-e175c572-1b0b-4d10-b919-199d5aff2483')\"\n",
       "            title=\"Convert this dataframe to an interactive table.\"\n",
       "            style=\"display:none;\">\n",
       "\n",
       "  <svg xmlns=\"http://www.w3.org/2000/svg\" height=\"24px\" viewBox=\"0 -960 960 960\">\n",
       "    <path d=\"M120-120v-720h720v720H120Zm60-500h600v-160H180v160Zm220 220h160v-160H400v160Zm0 220h160v-160H400v160ZM180-400h160v-160H180v160Zm440 0h160v-160H620v160ZM180-180h160v-160H180v160Zm440 0h160v-160H620v160Z\"/>\n",
       "  </svg>\n",
       "    </button>\n",
       "\n",
       "  <style>\n",
       "    .colab-df-container {\n",
       "      display:flex;\n",
       "      gap: 12px;\n",
       "    }\n",
       "\n",
       "    .colab-df-convert {\n",
       "      background-color: #E8F0FE;\n",
       "      border: none;\n",
       "      border-radius: 50%;\n",
       "      cursor: pointer;\n",
       "      display: none;\n",
       "      fill: #1967D2;\n",
       "      height: 32px;\n",
       "      padding: 0 0 0 0;\n",
       "      width: 32px;\n",
       "    }\n",
       "\n",
       "    .colab-df-convert:hover {\n",
       "      background-color: #E2EBFA;\n",
       "      box-shadow: 0px 1px 2px rgba(60, 64, 67, 0.3), 0px 1px 3px 1px rgba(60, 64, 67, 0.15);\n",
       "      fill: #174EA6;\n",
       "    }\n",
       "\n",
       "    .colab-df-buttons div {\n",
       "      margin-bottom: 4px;\n",
       "    }\n",
       "\n",
       "    [theme=dark] .colab-df-convert {\n",
       "      background-color: #3B4455;\n",
       "      fill: #D2E3FC;\n",
       "    }\n",
       "\n",
       "    [theme=dark] .colab-df-convert:hover {\n",
       "      background-color: #434B5C;\n",
       "      box-shadow: 0px 1px 3px 1px rgba(0, 0, 0, 0.15);\n",
       "      filter: drop-shadow(0px 1px 2px rgba(0, 0, 0, 0.3));\n",
       "      fill: #FFFFFF;\n",
       "    }\n",
       "  </style>\n",
       "\n",
       "    <script>\n",
       "      const buttonEl =\n",
       "        document.querySelector('#df-e175c572-1b0b-4d10-b919-199d5aff2483 button.colab-df-convert');\n",
       "      buttonEl.style.display =\n",
       "        google.colab.kernel.accessAllowed ? 'block' : 'none';\n",
       "\n",
       "      async function convertToInteractive(key) {\n",
       "        const element = document.querySelector('#df-e175c572-1b0b-4d10-b919-199d5aff2483');\n",
       "        const dataTable =\n",
       "          await google.colab.kernel.invokeFunction('convertToInteractive',\n",
       "                                                    [key], {});\n",
       "        if (!dataTable) return;\n",
       "\n",
       "        const docLinkHtml = 'Like what you see? Visit the ' +\n",
       "          '<a target=\"_blank\" href=https://colab.research.google.com/notebooks/data_table.ipynb>data table notebook</a>'\n",
       "          + ' to learn more about interactive tables.';\n",
       "        element.innerHTML = '';\n",
       "        dataTable['output_type'] = 'display_data';\n",
       "        await google.colab.output.renderOutput(dataTable, element);\n",
       "        const docLink = document.createElement('div');\n",
       "        docLink.innerHTML = docLinkHtml;\n",
       "        element.appendChild(docLink);\n",
       "      }\n",
       "    </script>\n",
       "  </div>\n",
       "\n",
       "\n",
       "<div id=\"df-23fc3fd3-33b7-4081-914e-0d8d9a23cd28\">\n",
       "  <button class=\"colab-df-quickchart\" onclick=\"quickchart('df-23fc3fd3-33b7-4081-914e-0d8d9a23cd28')\"\n",
       "            title=\"Suggest charts\"\n",
       "            style=\"display:none;\">\n",
       "\n",
       "<svg xmlns=\"http://www.w3.org/2000/svg\" height=\"24px\"viewBox=\"0 0 24 24\"\n",
       "     width=\"24px\">\n",
       "    <g>\n",
       "        <path d=\"M19 3H5c-1.1 0-2 .9-2 2v14c0 1.1.9 2 2 2h14c1.1 0 2-.9 2-2V5c0-1.1-.9-2-2-2zM9 17H7v-7h2v7zm4 0h-2V7h2v10zm4 0h-2v-4h2v4z\"/>\n",
       "    </g>\n",
       "</svg>\n",
       "  </button>\n",
       "\n",
       "<style>\n",
       "  .colab-df-quickchart {\n",
       "      --bg-color: #E8F0FE;\n",
       "      --fill-color: #1967D2;\n",
       "      --hover-bg-color: #E2EBFA;\n",
       "      --hover-fill-color: #174EA6;\n",
       "      --disabled-fill-color: #AAA;\n",
       "      --disabled-bg-color: #DDD;\n",
       "  }\n",
       "\n",
       "  [theme=dark] .colab-df-quickchart {\n",
       "      --bg-color: #3B4455;\n",
       "      --fill-color: #D2E3FC;\n",
       "      --hover-bg-color: #434B5C;\n",
       "      --hover-fill-color: #FFFFFF;\n",
       "      --disabled-bg-color: #3B4455;\n",
       "      --disabled-fill-color: #666;\n",
       "  }\n",
       "\n",
       "  .colab-df-quickchart {\n",
       "    background-color: var(--bg-color);\n",
       "    border: none;\n",
       "    border-radius: 50%;\n",
       "    cursor: pointer;\n",
       "    display: none;\n",
       "    fill: var(--fill-color);\n",
       "    height: 32px;\n",
       "    padding: 0;\n",
       "    width: 32px;\n",
       "  }\n",
       "\n",
       "  .colab-df-quickchart:hover {\n",
       "    background-color: var(--hover-bg-color);\n",
       "    box-shadow: 0 1px 2px rgba(60, 64, 67, 0.3), 0 1px 3px 1px rgba(60, 64, 67, 0.15);\n",
       "    fill: var(--button-hover-fill-color);\n",
       "  }\n",
       "\n",
       "  .colab-df-quickchart-complete:disabled,\n",
       "  .colab-df-quickchart-complete:disabled:hover {\n",
       "    background-color: var(--disabled-bg-color);\n",
       "    fill: var(--disabled-fill-color);\n",
       "    box-shadow: none;\n",
       "  }\n",
       "\n",
       "  .colab-df-spinner {\n",
       "    border: 2px solid var(--fill-color);\n",
       "    border-color: transparent;\n",
       "    border-bottom-color: var(--fill-color);\n",
       "    animation:\n",
       "      spin 1s steps(1) infinite;\n",
       "  }\n",
       "\n",
       "  @keyframes spin {\n",
       "    0% {\n",
       "      border-color: transparent;\n",
       "      border-bottom-color: var(--fill-color);\n",
       "      border-left-color: var(--fill-color);\n",
       "    }\n",
       "    20% {\n",
       "      border-color: transparent;\n",
       "      border-left-color: var(--fill-color);\n",
       "      border-top-color: var(--fill-color);\n",
       "    }\n",
       "    30% {\n",
       "      border-color: transparent;\n",
       "      border-left-color: var(--fill-color);\n",
       "      border-top-color: var(--fill-color);\n",
       "      border-right-color: var(--fill-color);\n",
       "    }\n",
       "    40% {\n",
       "      border-color: transparent;\n",
       "      border-right-color: var(--fill-color);\n",
       "      border-top-color: var(--fill-color);\n",
       "    }\n",
       "    60% {\n",
       "      border-color: transparent;\n",
       "      border-right-color: var(--fill-color);\n",
       "    }\n",
       "    80% {\n",
       "      border-color: transparent;\n",
       "      border-right-color: var(--fill-color);\n",
       "      border-bottom-color: var(--fill-color);\n",
       "    }\n",
       "    90% {\n",
       "      border-color: transparent;\n",
       "      border-bottom-color: var(--fill-color);\n",
       "    }\n",
       "  }\n",
       "</style>\n",
       "\n",
       "  <script>\n",
       "    async function quickchart(key) {\n",
       "      const quickchartButtonEl =\n",
       "        document.querySelector('#' + key + ' button');\n",
       "      quickchartButtonEl.disabled = true;  // To prevent multiple clicks.\n",
       "      quickchartButtonEl.classList.add('colab-df-spinner');\n",
       "      try {\n",
       "        const charts = await google.colab.kernel.invokeFunction(\n",
       "            'suggestCharts', [key], {});\n",
       "      } catch (error) {\n",
       "        console.error('Error during call to suggestCharts:', error);\n",
       "      }\n",
       "      quickchartButtonEl.classList.remove('colab-df-spinner');\n",
       "      quickchartButtonEl.classList.add('colab-df-quickchart-complete');\n",
       "    }\n",
       "    (() => {\n",
       "      let quickchartButtonEl =\n",
       "        document.querySelector('#df-23fc3fd3-33b7-4081-914e-0d8d9a23cd28 button');\n",
       "      quickchartButtonEl.style.display =\n",
       "        google.colab.kernel.accessAllowed ? 'block' : 'none';\n",
       "    })();\n",
       "  </script>\n",
       "</div>\n",
       "\n",
       "    </div>\n",
       "  </div>\n"
      ],
      "text/plain": [
       "         0         1         2         3         4         5         6   \\\n",
       "0  0.196941 -0.124033 -0.601421  0.545209  0.841145  0.226566  1.148397   \n",
       "1 -0.221081  0.229598  0.083973  1.505110  0.358578  0.538549  1.209605   \n",
       "2 -0.361888  0.074789  0.078418  0.721170  0.320222  0.336538  1.125500   \n",
       "3  0.272834 -0.062326 -0.396623  0.871157  0.800673  1.245440  0.856619   \n",
       "4 -0.479877  0.045342  0.095946  0.566142  0.375811  0.341864  1.157948   \n",
       "\n",
       "         7         8         9         10        11        12        13  \\\n",
       "0  0.343607 -0.319765  0.223038  0.051716 -0.365541  0.590912 -1.172069   \n",
       "1  0.053599  0.437247 -0.466862  0.091293  0.027160  0.262387 -0.549673   \n",
       "2  0.210581  0.506290  0.187148  0.218859 -0.876790  0.348352 -1.359215   \n",
       "3  0.283148  0.715484 -0.480800  0.195614  0.627340  0.039687 -1.248271   \n",
       "4  0.197043  0.465209  0.233730  0.160235 -0.658064  0.378449 -1.376188   \n",
       "\n",
       "         14        15  \n",
       "0 -0.049248  0.979324  \n",
       "1 -0.417684  0.066431  \n",
       "2  0.332504  0.247158  \n",
       "3  0.495762 -0.598750  \n",
       "4  0.264785  0.195926  "
      ]
     },
     "execution_count": 18,
     "metadata": {},
     "output_type": "execute_result"
    }
   ],
   "source": [
    "emb_df.head()"
   ]
  },
  {
   "cell_type": "markdown",
   "id": "67cd6bb7-c281-47a8-a62c-3970845ef989",
   "metadata": {
    "id": "67cd6bb7-c281-47a8-a62c-3970845ef989"
   },
   "source": [
    "## Recomendación con medidas de distancias"
   ]
  },
  {
   "cell_type": "markdown",
   "id": "3c0017cc-caf6-40b2-ad3c-3aaca18d4994",
   "metadata": {
    "id": "3c0017cc-caf6-40b2-ad3c-3aaca18d4994"
   },
   "source": [
    "Ahora que tenemos un vector de embedding representando cada nodo en la red, podemos utilizar medidas de distancia como la similitud coseno, distancia euclidiana, distancia manhattan, etc., para medir la cantidad de distancia entre nodos. La suposición que estamos haciendo al usar estas medidas de distancia es que los nodos que están en proximidad cercana entre sí también deberían tener un enlace conectándolos. Esta es una buena suposición ya que node2vec intenta preservar la estructura inicial del grafo de entrada original. Ahora podemos, esencialmente, escribir código para medir los niveles de similitud entre dos vectores usando la similitud coseno (o una medida de distancia diferente) e identificar pares de nodos que actualmente no tienen un enlace entre ellos pero tienen una gran similitud y deberían crear un enlace entre ellos. Esta interpretación puede ser diferente para grafos múltiples / ponderados / dirigidos. Elige y utiliza una medida de similitud apropiada para la red y el problema que estás tratando de resolver. También ten en cuenta que diferentes medidas tienen diferentes interpretaciones; para este problema, querrás elegir los puntajes máximos de similitud coseno, mientras que si usaras algo como la distancia euclidiana, querrías elegir la mínima distancia entre dos vectores.\n",
    "\n",
    "Como nota al margen, quiero mencionar que la maldición de la dimensionalidad es rampante al resolver este tipo de problemas. Es especialmente problemático al usar la distancia euclidiana en particular para medir la distancia entre vectores en dimensiones más altas. El término \"dimensiones altas\" es amplio y abierto a interpretación, el umbral para que una dimensión sea \"alta\" no está estrictamente definido y varía de problema a problema. Sin entrar demasiado en la matemática detrás de las cosas, la distancia euclidiana no es una buena medida para usar con vectores dispersos o de alta dimensión. Puedes consultar este post en Stack Exchange que explica el razonamiento matemático de por qué este es el caso:\n",
    "\n",
    "- https://stats.stackexchange.com/questions/29627/euclidean-distance-is-usually-not-good-for-sparse-data-and-more-general-case\n",
    "- https://stats.stackexchange.com/questions/99171/why-is-euclidean-distance-not-a-good-metric-in-high-dimensions\n",
    "\n",
    "Para más información sobre la maldición de la dimensionalidad, consulta este [artículo](https://homes.cs.washington.edu/~pedrod/papers/cacm12.pdf) del departamento de Ciencias de la Computación de la Universidad de Washington."
   ]
  },
  {
   "cell_type": "code",
   "execution_count": null,
   "id": "edf712d2-f670-4d47-b60a-3854fe138bb3",
   "metadata": {
    "id": "edf712d2-f670-4d47-b60a-3854fe138bb3"
   },
   "outputs": [],
   "source": [
    "def predict_links(G, df, article_id, N):\n",
    "    '''\n",
    "    This function will predict the top N links a node (article_id) should be connected with\n",
    "    which it is not already connected with in G.\n",
    "\n",
    "    params:\n",
    "        G (Netowrkx Graph) : The network used to create the embeddings\n",
    "        df (DataFrame) : The dataframe which has embeddings associated to each node\n",
    "        article_id (Integer) : The article you're interested\n",
    "        N (Integer) : The number of recommended links you want to return\n",
    "\n",
    "    returns:\n",
    "        This function will return a list of nodes the input node should be connected with.\n",
    "    '''\n",
    "\n",
    "    # separate target article with all others\n",
    "    article = df[df.index == article_id]\n",
    "\n",
    "    # other articles are all articles which the current doesn't have an edge connecting\n",
    "    all_nodes = G.nodes()\n",
    "    other_nodes = [n for n in all_nodes if n not in list(G.adj[article_id]) + [article_id]]\n",
    "    other_articles = df[df.index.isin(other_nodes)]\n",
    "\n",
    "    # get similarity of current reader and all other readers\n",
    "    sim = cosine_similarity(article, other_articles)[0].tolist()\n",
    "    idx = other_articles.index.tolist()\n",
    "\n",
    "    # create a similarity dictionary for this user w.r.t all other users\n",
    "    idx_sim = dict(zip(idx, sim))\n",
    "    idx_sim = sorted(idx_sim.items(), key=lambda x: x[1], reverse=True)\n",
    "\n",
    "    similar_articles = idx_sim[:N]\n",
    "    articles = [art[0] for art in similar_articles]\n",
    "    return articles"
   ]
  },
  {
   "cell_type": "code",
   "execution_count": null,
   "id": "d620ab80-41f1-438c-9f10-f9a5bdcaf590",
   "metadata": {
    "colab": {
     "base_uri": "https://localhost:8080/"
    },
    "id": "d620ab80-41f1-438c-9f10-f9a5bdcaf590",
    "outputId": "a72b73c1-a6a5-407b-cf50-026393d73284"
   },
   "outputs": [
    {
     "data": {
      "text/plain": [
       "[400, 347, 411, 383, 444, 344, 177, 409, 41, 142]"
      ]
     },
     "execution_count": 20,
     "metadata": {},
     "output_type": "execute_result"
    }
   ],
   "source": [
    "predict_links(G = tp_nx, df = emb_df, article_id = 1, N = 10)"
   ]
  },
  {
   "cell_type": "markdown",
   "id": "ab008511-b524-4207-9177-f4cca968fdc6",
   "metadata": {
    "id": "ab008511-b524-4207-9177-f4cca968fdc6"
   },
   "source": [
    "## Modelando una Recomendación de Base"
   ]
  },
  {
   "cell_type": "markdown",
   "id": "61708a7e-18c4-4cb3-b6e8-74bc2446b13d",
   "metadata": {
    "id": "61708a7e-18c4-4cb3-b6e8-74bc2446b13d"
   },
   "source": [
    "En esta sección vamos a construir un clasificador binario para predecir la probabilidad de que un par de aristas estén conectadas o no. Para hacer esto, primero necesitamos identificar todos los pares de nodos que pueden formar una arista e identificar el subconjunto de esos pares que ya tienen una arista entre ellos en la red original. Luego podemos combinar los embeddings (a través de la adición de vectores) asociados a todas las posibles aristas y pasar eso a una función de división de entrenamiento y prueba para generar particiones de entrenamiento y prueba para introducir en un modelo de clasificación.\n",
    "\n",
    "El modelo que usaré para este tutorial será un clasificador de potenciación de gradiente, para tus propios problemas y experimentos te aconsejo probar una variedad de clasificadores diferentes y seleccionar el que mejor rendimiento general ofrezca. Estamos construyendo un clasificador binario, sin embargo, en casi todas las situaciones, independientemente de los datos de entrada o la red, habrá un desequilibrio de clases en este clasificador. Dado que estamos tomando todas las combinaciones posibles de aristas que se pueden formar en la red, el resultado es N^N (donde N es el número de nodos en la red), esto es exponencialmente grande. La única manera de que esto no sea un clasificador binario es si tu grafo ya está casi completamente conectado."
   ]
  },
  {
   "cell_type": "code",
   "execution_count": null,
   "id": "b8eb0724-c0fa-4124-966e-587ef2a0e93f",
   "metadata": {
    "id": "b8eb0724-c0fa-4124-966e-587ef2a0e93f"
   },
   "outputs": [],
   "source": [
    "unique_nodes = list(tp_nx.nodes())"
   ]
  },
  {
   "cell_type": "code",
   "execution_count": null,
   "id": "9994925c-c38d-4681-af7d-880398bdb0be",
   "metadata": {
    "colab": {
     "base_uri": "https://localhost:8080/"
    },
    "id": "9994925c-c38d-4681-af7d-880398bdb0be",
    "outputId": "b9af7f38-ab9f-4d5e-8a37-6c10ce05a4b7"
   },
   "outputs": [
    {
     "name": "stdout",
     "output_type": "stream",
     "text": [
      "CPU times: user 51.8 ms, sys: 14 ms, total: 65.7 ms\n",
      "Wall time: 68.6 ms\n"
     ]
    }
   ],
   "source": [
    "%time all_possible_edges = [(x,y) for (x,y) in product(unique_nodes, unique_nodes)]"
   ]
  },
  {
   "cell_type": "code",
   "execution_count": null,
   "id": "6e275d29-759e-44d6-bdd2-7c18435f893e",
   "metadata": {
    "colab": {
     "base_uri": "https://localhost:8080/"
    },
    "id": "6e275d29-759e-44d6-bdd2-7c18435f893e",
    "outputId": "b82a02f4-9e68-4a98-8ecd-a513a7938201"
   },
   "outputs": [
    {
     "data": {
      "text/plain": [
       "341056"
      ]
     },
     "execution_count": 23,
     "metadata": {},
     "output_type": "execute_result"
    }
   ],
   "source": [
    "len(all_possible_edges)"
   ]
  },
  {
   "cell_type": "code",
   "execution_count": null,
   "id": "24f60661-7621-45b4-972c-8f571744a9a2",
   "metadata": {
    "colab": {
     "base_uri": "https://localhost:8080/"
    },
    "id": "24f60661-7621-45b4-972c-8f571744a9a2",
    "outputId": "c16bd91b-b031-4186-9934-446d5188b619"
   },
   "outputs": [
    {
     "name": "stdout",
     "output_type": "stream",
     "text": [
      "CPU times: user 1.08 s, sys: 109 ms, total: 1.19 s\n",
      "Wall time: 1.2 s\n"
     ]
    }
   ],
   "source": [
    "%%time\n",
    "edge_features = [\n",
    "    (mdl.wv.get_vector(str(i)) + mdl.wv.get_vector(str(j))) for i,j in all_possible_edges\n",
    "]"
   ]
  },
  {
   "cell_type": "code",
   "execution_count": null,
   "id": "323cde89-2c53-4ccb-8365-064624819fc0",
   "metadata": {
    "id": "323cde89-2c53-4ccb-8365-064624819fc0"
   },
   "outputs": [],
   "source": [
    "edges = list(tp_nx.edges())"
   ]
  },
  {
   "cell_type": "code",
   "execution_count": null,
   "id": "2bdf3789-8348-4c8b-86e9-5e8fa8f09797",
   "metadata": {
    "colab": {
     "base_uri": "https://localhost:8080/"
    },
    "id": "2bdf3789-8348-4c8b-86e9-5e8fa8f09797",
    "outputId": "55bc37e5-25bf-4330-965d-2493568ffc6c"
   },
   "outputs": [
    {
     "name": "stdout",
     "output_type": "stream",
     "text": [
      "CPU times: user 3min 56s, sys: 819 ms, total: 3min 57s\n",
      "Wall time: 4min\n"
     ]
    }
   ],
   "source": [
    "%time is_con = [1 if e in edges else 0 for e in all_possible_edges]"
   ]
  },
  {
   "cell_type": "code",
   "execution_count": null,
   "id": "5fa3a543-06db-4a37-886e-f1e3cb6faf64",
   "metadata": {
    "colab": {
     "base_uri": "https://localhost:8080/"
    },
    "id": "5fa3a543-06db-4a37-886e-f1e3cb6faf64",
    "outputId": "c6780b40-e08a-4db6-a8b6-3603df23dbad"
   },
   "outputs": [
    {
     "data": {
      "text/plain": [
       "33541"
      ]
     },
     "execution_count": 27,
     "metadata": {},
     "output_type": "execute_result"
    }
   ],
   "source": [
    "sum(is_con)"
   ]
  },
  {
   "cell_type": "markdown",
   "id": "45fe205e-cc61-4f91-acce-449792808bb0",
   "metadata": {
    "id": "45fe205e-cc61-4f91-acce-449792808bb0"
   },
   "source": [
    "## Entrenar el Modelo"
   ]
  },
  {
   "cell_type": "code",
   "execution_count": null,
   "id": "d16a8551-a343-4807-bab1-393e1293fbd6",
   "metadata": {
    "id": "d16a8551-a343-4807-bab1-393e1293fbd6"
   },
   "outputs": [],
   "source": [
    "# get training and target data\n",
    "X = np.array(edge_features)\n",
    "y = is_con"
   ]
  },
  {
   "cell_type": "code",
   "execution_count": null,
   "id": "874593a1-0f94-44b4-b758-485171ed0af7",
   "metadata": {
    "id": "874593a1-0f94-44b4-b758-485171ed0af7"
   },
   "outputs": [],
   "source": [
    "# train test split\n",
    "x_train, x_test, y_train, y_test = train_test_split(X, y, test_size = 0.3)"
   ]
  },
  {
   "cell_type": "code",
   "execution_count": null,
   "id": "2309d219-ecc9-46b0-9fcb-03d9a7afb64d",
   "metadata": {
    "colab": {
     "base_uri": "https://localhost:8080/",
     "height": 110
    },
    "id": "2309d219-ecc9-46b0-9fcb-03d9a7afb64d",
    "outputId": "8aabf3d4-53d0-440a-bc39-1afde6574453"
   },
   "outputs": [
    {
     "name": "stdout",
     "output_type": "stream",
     "text": [
      "CPU times: user 4min 28s, sys: 858 ms, total: 4min 29s\n",
      "Wall time: 4min 32s\n"
     ]
    },
    {
     "data": {
      "text/html": [
       "<style>#sk-container-id-1 {color: black;background-color: white;}#sk-container-id-1 pre{padding: 0;}#sk-container-id-1 div.sk-toggleable {background-color: white;}#sk-container-id-1 label.sk-toggleable__label {cursor: pointer;display: block;width: 100%;margin-bottom: 0;padding: 0.3em;box-sizing: border-box;text-align: center;}#sk-container-id-1 label.sk-toggleable__label-arrow:before {content: \"▸\";float: left;margin-right: 0.25em;color: #696969;}#sk-container-id-1 label.sk-toggleable__label-arrow:hover:before {color: black;}#sk-container-id-1 div.sk-estimator:hover label.sk-toggleable__label-arrow:before {color: black;}#sk-container-id-1 div.sk-toggleable__content {max-height: 0;max-width: 0;overflow: hidden;text-align: left;background-color: #f0f8ff;}#sk-container-id-1 div.sk-toggleable__content pre {margin: 0.2em;color: black;border-radius: 0.25em;background-color: #f0f8ff;}#sk-container-id-1 input.sk-toggleable__control:checked~div.sk-toggleable__content {max-height: 200px;max-width: 100%;overflow: auto;}#sk-container-id-1 input.sk-toggleable__control:checked~label.sk-toggleable__label-arrow:before {content: \"▾\";}#sk-container-id-1 div.sk-estimator input.sk-toggleable__control:checked~label.sk-toggleable__label {background-color: #d4ebff;}#sk-container-id-1 div.sk-label input.sk-toggleable__control:checked~label.sk-toggleable__label {background-color: #d4ebff;}#sk-container-id-1 input.sk-hidden--visually {border: 0;clip: rect(1px 1px 1px 1px);clip: rect(1px, 1px, 1px, 1px);height: 1px;margin: -1px;overflow: hidden;padding: 0;position: absolute;width: 1px;}#sk-container-id-1 div.sk-estimator {font-family: monospace;background-color: #f0f8ff;border: 1px dotted black;border-radius: 0.25em;box-sizing: border-box;margin-bottom: 0.5em;}#sk-container-id-1 div.sk-estimator:hover {background-color: #d4ebff;}#sk-container-id-1 div.sk-parallel-item::after {content: \"\";width: 100%;border-bottom: 1px solid gray;flex-grow: 1;}#sk-container-id-1 div.sk-label:hover label.sk-toggleable__label {background-color: #d4ebff;}#sk-container-id-1 div.sk-serial::before {content: \"\";position: absolute;border-left: 1px solid gray;box-sizing: border-box;top: 0;bottom: 0;left: 50%;z-index: 0;}#sk-container-id-1 div.sk-serial {display: flex;flex-direction: column;align-items: center;background-color: white;padding-right: 0.2em;padding-left: 0.2em;position: relative;}#sk-container-id-1 div.sk-item {position: relative;z-index: 1;}#sk-container-id-1 div.sk-parallel {display: flex;align-items: stretch;justify-content: center;background-color: white;position: relative;}#sk-container-id-1 div.sk-item::before, #sk-container-id-1 div.sk-parallel-item::before {content: \"\";position: absolute;border-left: 1px solid gray;box-sizing: border-box;top: 0;bottom: 0;left: 50%;z-index: -1;}#sk-container-id-1 div.sk-parallel-item {display: flex;flex-direction: column;z-index: 1;position: relative;background-color: white;}#sk-container-id-1 div.sk-parallel-item:first-child::after {align-self: flex-end;width: 50%;}#sk-container-id-1 div.sk-parallel-item:last-child::after {align-self: flex-start;width: 50%;}#sk-container-id-1 div.sk-parallel-item:only-child::after {width: 0;}#sk-container-id-1 div.sk-dashed-wrapped {border: 1px dashed gray;margin: 0 0.4em 0.5em 0.4em;box-sizing: border-box;padding-bottom: 0.4em;background-color: white;}#sk-container-id-1 div.sk-label label {font-family: monospace;font-weight: bold;display: inline-block;line-height: 1.2em;}#sk-container-id-1 div.sk-label-container {text-align: center;}#sk-container-id-1 div.sk-container {/* jupyter's `normalize.less` sets `[hidden] { display: none; }` but bootstrap.min.css set `[hidden] { display: none !important; }` so we also need the `!important` here to be able to override the default hidden behavior on the sphinx rendered scikit-learn.org. See: https://github.com/scikit-learn/scikit-learn/issues/21755 */display: inline-block !important;position: relative;}#sk-container-id-1 div.sk-text-repr-fallback {display: none;}</style><div id=\"sk-container-id-1\" class=\"sk-top-container\"><div class=\"sk-text-repr-fallback\"><pre>GradientBoostingClassifier()</pre><b>In a Jupyter environment, please rerun this cell to show the HTML representation or trust the notebook. <br />On GitHub, the HTML representation is unable to render, please try loading this page with nbviewer.org.</b></div><div class=\"sk-container\" hidden><div class=\"sk-item\"><div class=\"sk-estimator sk-toggleable\"><input class=\"sk-toggleable__control sk-hidden--visually\" id=\"sk-estimator-id-1\" type=\"checkbox\" checked><label for=\"sk-estimator-id-1\" class=\"sk-toggleable__label sk-toggleable__label-arrow\">GradientBoostingClassifier</label><div class=\"sk-toggleable__content\"><pre>GradientBoostingClassifier()</pre></div></div></div></div></div>"
      ],
      "text/plain": [
       "GradientBoostingClassifier()"
      ]
     },
     "execution_count": 30,
     "metadata": {},
     "output_type": "execute_result"
    }
   ],
   "source": [
    "%%time\n",
    "# GBC classifier\n",
    "clf = GradientBoostingClassifier()\n",
    "\n",
    "# train the model\n",
    "clf.fit(x_train, y_train)"
   ]
  },
  {
   "cell_type": "markdown",
   "id": "880d1153-1e48-499e-9dc0-122c3425a705",
   "metadata": {
    "id": "880d1153-1e48-499e-9dc0-122c3425a705"
   },
   "source": [
    "## Performance del Modelo"
   ]
  },
  {
   "cell_type": "markdown",
   "id": "9c4ea4a6-2700-492b-9916-2afd5161b4b8",
   "metadata": {
    "id": "9c4ea4a6-2700-492b-9916-2afd5161b4b8"
   },
   "source": [
    "Cuando tratamos con desequilibrios de clases, no podemos mirar las medidas de precisión tradicionales para evaluar el rendimiento del modelo. Esto se debe a que si el modelo predice continuamente la clase que tiene mayor cantidad de datos, entonces, independientemente de que el modelo nunca prediga la otra clase, aún así logrará un alto nivel de precisión. La manera de combatir esto es usar medidas como el Coeficiente de Correlación de Matthews.\n",
    "\n",
    "```quote\n",
    "El MCC es, en esencia, un valor de coeficiente de correlación entre -1 y +1. Un coeficiente de +1 representa una predicción perfecta, 0 una predicción aleatoria promedio y -1 una predicción inversa. Esta estadística también es conocida como el coeficiente phi.\n",
    "```\n",
    "- https://es.wikipedia.org/wiki/Coeficiente_phi"
   ]
  },
  {
   "cell_type": "code",
   "execution_count": null,
   "id": "b0022514-47e6-4f97-919d-c951fde21abd",
   "metadata": {
    "id": "b0022514-47e6-4f97-919d-c951fde21abd"
   },
   "outputs": [],
   "source": [
    "y_pred = clf.predict(x_test)\n",
    "y_true = y_test"
   ]
  },
  {
   "cell_type": "code",
   "execution_count": null,
   "id": "70f235e0-9c64-4474-90c6-ccd11d781363",
   "metadata": {
    "colab": {
     "base_uri": "https://localhost:8080/"
    },
    "id": "70f235e0-9c64-4474-90c6-ccd11d781363",
    "outputId": "c864df9a-4ebe-4c61-ba90-61b319ce09c0"
   },
   "outputs": [
    {
     "name": "stdout",
     "output_type": "stream",
     "text": [
      "Testing Accuracy :  0.8990588074318051\n",
      "Training Accuracy :  0.9024122577375293\n"
     ]
    }
   ],
   "source": [
    "y_pred = clf.predict(x_test)\n",
    "x_pred = clf.predict(x_train)\n",
    "test_acc = accuracy_score(y_test, y_pred)\n",
    "train_acc = accuracy_score(y_train, x_pred)\n",
    "print(\"Testing Accuracy : \", test_acc)\n",
    "print(\"Training Accuracy : \", train_acc)"
   ]
  },
  {
   "cell_type": "code",
   "execution_count": null,
   "id": "af2e8de6-4636-4443-95e8-d7e4c0c1691c",
   "metadata": {
    "colab": {
     "base_uri": "https://localhost:8080/"
    },
    "id": "af2e8de6-4636-4443-95e8-d7e4c0c1691c",
    "outputId": "9fe6bad5-1c9a-46af-f118-e095a5957ec1"
   },
   "outputs": [
    {
     "name": "stdout",
     "output_type": "stream",
     "text": [
      "MCC Score :  0.2926505545117989\n"
     ]
    }
   ],
   "source": [
    "print(\"MCC Score : \", matthews_corrcoef(y_true, y_pred))"
   ]
  },
  {
   "cell_type": "code",
   "execution_count": null,
   "id": "67a09428-6855-4737-8041-4caead755055",
   "metadata": {
    "colab": {
     "base_uri": "https://localhost:8080/"
    },
    "id": "67a09428-6855-4737-8041-4caead755055",
    "outputId": "56bbc83c-493a-4aed-c82e-40c013295ff5"
   },
   "outputs": [
    {
     "name": "stdout",
     "output_type": "stream",
     "text": [
      "[[89515  7585]\n",
      " [ 2743  2474]]\n"
     ]
    }
   ],
   "source": [
    "print(confusion_matrix(y_pred,y_test))"
   ]
  },
  {
   "cell_type": "code",
   "execution_count": null,
   "id": "9d2a460b-e039-45a9-ac25-411dae6181ae",
   "metadata": {
    "colab": {
     "base_uri": "https://localhost:8080/"
    },
    "id": "9d2a460b-e039-45a9-ac25-411dae6181ae",
    "outputId": "551685fb-aa73-4982-a917-5428437a8936"
   },
   "outputs": [
    {
     "name": "stdout",
     "output_type": "stream",
     "text": [
      "Test Classification Report : \n",
      "              precision    recall  f1-score   support\n",
      "\n",
      "           0       0.92      0.97      0.95     92258\n",
      "           1       0.47      0.25      0.32     10059\n",
      "\n",
      "    accuracy                           0.90    102317\n",
      "   macro avg       0.70      0.61      0.63    102317\n",
      "weighted avg       0.88      0.90      0.88    102317\n",
      "\n"
     ]
    }
   ],
   "source": [
    "print(\"Test Classification Report : \")\n",
    "print(classification_report(y_test, clf.predict(x_test)))"
   ]
  },
  {
   "cell_type": "markdown",
   "id": "463d29d4-49ad-43c9-b394-cc3088009dbe",
   "metadata": {
    "id": "463d29d4-49ad-43c9-b394-cc3088009dbe"
   },
   "source": [
    "## Generar Predicciones"
   ]
  },
  {
   "cell_type": "code",
   "execution_count": null,
   "id": "b3d929e1-d590-4ed7-b835-b21e60d9008c",
   "metadata": {
    "colab": {
     "base_uri": "https://localhost:8080/"
    },
    "id": "b3d929e1-d590-4ed7-b835-b21e60d9008c",
    "outputId": "9d776d25-0d3b-4c69-e0ce-1ed4d18f279b"
   },
   "outputs": [
    {
     "name": "stdout",
     "output_type": "stream",
     "text": [
      "0\n"
     ]
    }
   ],
   "source": [
    "pred_ft = [(mdl.wv.get_vector(str('42'))+mdl.wv.get_vector(str('210')))]\n",
    "print(clf.predict(pred_ft)[0])"
   ]
  },
  {
   "cell_type": "code",
   "execution_count": null,
   "id": "6a4d0caa-ea03-4994-b670-73d774527d4d",
   "metadata": {
    "colab": {
     "base_uri": "https://localhost:8080/"
    },
    "id": "6a4d0caa-ea03-4994-b670-73d774527d4d",
    "outputId": "1b795dbf-4649-486a-ecc2-de194d6fd5ac"
   },
   "outputs": [
    {
     "name": "stdout",
     "output_type": "stream",
     "text": [
      "[[0.98889106 0.01110894]]\n"
     ]
    }
   ],
   "source": [
    "print(clf.predict_proba(pred_ft))"
   ]
  },
  {
   "cell_type": "markdown",
   "id": "b5146010-f35c-4f23-a8e4-5882cb0cbce3",
   "metadata": {
    "id": "b5146010-f35c-4f23-a8e4-5882cb0cbce3"
   },
   "source": [
    "Como puedes ver claramente, este es un modelo de bajo rendimiento para la tarea asignada (reflejado por el MCC, la puntuación F, el recall y la precisión). Pero está bien, ya que este artículo fue simplemente con fines educativos. No todos los enfoques que utilizas para resolver un problema dado resultarán o funcionarán; muchas veces no es culpa del enfoque, sino más bien de los datos. En el caso de este tutorial, definitivamente los datos eran el problema, ya que solo estaba utilizando una pequeña muestra de una red de investigación real que estaría disponible si raspase datos de Arxiv para obtener más datos. Pero hacer eso también aumentaría la complejidad computacional de muchos componentes diferentes de este artículo (como ejecutar node2vec, generar todos los posibles pares de aristas, entrenar el modelo, etc.).\n",
    "\n",
    "La regla general que la mayoría de los científicos de datos sigue al resolver problemas es que si las soluciones simples funcionan, entonces las soluciones más complejas también deberían funcionar. Las soluciones más simples en sistemas de recomendación que involucran filtrado colaborativo o basado en contenido suelen ser bastante fáciles de implementar y ofrecen resultados relativamente informativos e indicaciones sobre si una solución más compleja también funcionaría para resolver este problema. A menudo no es lo mejor lanzar una red neuronal al problema (como node2vec) por varias razones (como el tiempo de entrenamiento, la interpretabilidad, el tiempo de inferencia del modelo, etc.)."
   ]
  },
  {
   "cell_type": "markdown",
   "id": "QmhNhWM2r9Na",
   "metadata": {
    "id": "QmhNhWM2r9Na"
   },
   "source": [
    "# **Solución propuesta de Actividad:**"
   ]
  },
  {
   "cell_type": "markdown",
   "id": "67b67e10-927d-4fc7-bc3b-0ef3115f7c19",
   "metadata": {
    "id": "67b67e10-927d-4fc7-bc3b-0ef3115f7c19"
   },
   "source": [
    "# **Recopilación de Datos**:\n",
    "\n",
    "* Utilizar la función search arxiv para obtener datos de artículos académicos\n",
    "desde la API de Arxiv. Seleccionar temas de interés distintos a los mostrados y recopilar datos como título, fecha, identificador del artículo, URL, y temas principales.\n",
    "* Guardar los datos recopilados en un DataFrame."
   ]
  },
  {
   "cell_type": "markdown",
   "id": "s5KsbJzrsGr6",
   "metadata": {
    "id": "s5KsbJzrsGr6"
   },
   "source": [
    "**Importación de librerías**"
   ]
  },
  {
   "cell_type": "code",
   "execution_count": null,
   "id": "xahekI0JsBvv",
   "metadata": {
    "id": "xahekI0JsBvv"
   },
   "outputs": [],
   "source": [
    "import networkx as nx\n",
    "import pandas as pd\n",
    "import numpy as np\n",
    "import arxiv\n",
    "\n",
    "from sklearn.ensemble import GradientBoostingClassifier\n",
    "from sklearn.model_selection import train_test_split\n",
    "from sklearn.metrics import accuracy_score, matthews_corrcoef, confusion_matrix, classification_report\n",
    "from itertools import product\n",
    "from sklearn.metrics.pairwise import cosine_similarity\n",
    "from node2vec import Node2Vec as n2v"
   ]
  },
  {
   "cell_type": "markdown",
   "id": "SOY-TSPVsRRd",
   "metadata": {
    "id": "SOY-TSPVsRRd"
   },
   "source": [
    "**Definición de constantes:**"
   ]
  },
  {
   "cell_type": "code",
   "execution_count": null,
   "id": "8vCGZ0x7sP38",
   "metadata": {
    "id": "8vCGZ0x7sP38"
   },
   "outputs": [],
   "source": [
    "# constants\n",
    "queries = [\n",
    "    'mlops', 'machinelearning', 'data', 'artificial intelligence','graph neural', 'neural network', 'detection object', 'reinforcement learning'\n",
    "]"
   ]
  },
  {
   "cell_type": "markdown",
   "id": "OjwaVley5DSF",
   "metadata": {
    "id": "OjwaVley5DSF"
   },
   "source": [
    "**Obtención de datos:**"
   ]
  },
  {
   "cell_type": "code",
   "execution_count": null,
   "id": "yoqNLSbQtTqU",
   "metadata": {
    "colab": {
     "base_uri": "https://localhost:8080/"
    },
    "id": "yoqNLSbQtTqU",
    "outputId": "a69e0731-bbe0-4695-927c-9e06eeec91ff"
   },
   "outputs": [
    {
     "name": "stderr",
     "output_type": "stream",
     "text": [
      "<ipython-input-4-03fcdcd354a4>:37: DeprecationWarning: The 'Search.results' method is deprecated, use 'Client.results' instead\n",
      "  for res in search.results():\n"
     ]
    },
    {
     "name": "stdout",
     "output_type": "stream",
     "text": [
      "CPU times: user 3.06 s, sys: 57.9 ms, total: 3.12 s\n",
      "Wall time: 30.5 s\n"
     ]
    },
    {
     "data": {
      "text/plain": [
       "(1312, 8)"
      ]
     },
     "execution_count": 40,
     "metadata": {},
     "output_type": "execute_result"
    }
   ],
   "source": [
    "%%time\n",
    "research_df = search_arxiv(\n",
    "    queries = queries,\n",
    "    max_results = 200\n",
    ")\n",
    "research_df.shape"
   ]
  },
  {
   "cell_type": "code",
   "execution_count": null,
   "id": "TMZFY92stUTJ",
   "metadata": {
    "colab": {
     "base_uri": "https://localhost:8080/",
     "height": 206
    },
    "id": "TMZFY92stUTJ",
    "outputId": "f7bc4193-82ad-4c8c-ba60-c6d42ccaae33"
   },
   "outputs": [
    {
     "data": {
      "application/vnd.google.colaboratory.intrinsic+json": {
       "summary": "{\n  \"name\": \"research_df\",\n  \"rows\": 1312,\n  \"fields\": [\n    {\n      \"column\": \"title\",\n      \"properties\": {\n        \"dtype\": \"string\",\n        \"num_unique_values\": 751,\n        \"samples\": [\n          \"On orientations with forbidden out-degrees\",\n          \"PQPP: A Joint Benchmark for Text-to-Image Prompt and Query Performance Prediction\",\n          \"Targeted Mining Precise-positioning Episode Rules\"\n        ],\n        \"semantic_type\": \"\",\n        \"description\": \"\"\n      }\n    },\n    {\n      \"column\": \"date\",\n      \"properties\": {\n        \"dtype\": \"date\",\n        \"min\": \"2015-08-12 16:46:29+00:00\",\n        \"max\": \"2024-06-07 17:59:59+00:00\",\n        \"num_unique_values\": 744,\n        \"samples\": [\n          \"2024-06-07 03:34:16+00:00\",\n          \"2024-06-06 17:57:49+00:00\",\n          \"2024-06-06 17:56:40+00:00\"\n        ],\n        \"semantic_type\": \"\",\n        \"description\": \"\"\n      }\n    },\n    {\n      \"column\": \"article_id\",\n      \"properties\": {\n        \"dtype\": \"number\",\n        \"std\": 191,\n        \"min\": 0,\n        \"max\": 750,\n        \"num_unique_values\": 751,\n        \"samples\": [\n          473,\n          357,\n          133\n        ],\n        \"semantic_type\": \"\",\n        \"description\": \"\"\n      }\n    },\n    {\n      \"column\": \"url\",\n      \"properties\": {\n        \"dtype\": \"string\",\n        \"num_unique_values\": 751,\n        \"samples\": [\n          \"http://arxiv.org/pdf/2406.05095v1\",\n          \"http://arxiv.org/pdf/2406.04746v1\",\n          \"http://arxiv.org/pdf/2406.05070v1\"\n        ],\n        \"semantic_type\": \"\",\n        \"description\": \"\"\n      }\n    },\n    {\n      \"column\": \"main_topic\",\n      \"properties\": {\n        \"dtype\": \"category\",\n        \"num_unique_values\": 83,\n        \"samples\": [\n          \"eess.SY\",\n          \"cs.SE\",\n          \"astro-ph.GA\"\n        ],\n        \"semantic_type\": \"\",\n        \"description\": \"\"\n      }\n    },\n    {\n      \"column\": \"all_topics\",\n      \"properties\": {\n        \"dtype\": \"object\",\n        \"semantic_type\": \"\",\n        \"description\": \"\"\n      }\n    },\n    {\n      \"column\": \"authors\",\n      \"properties\": {\n        \"dtype\": \"object\",\n        \"semantic_type\": \"\",\n        \"description\": \"\"\n      }\n    },\n    {\n      \"column\": \"year\",\n      \"properties\": {\n        \"dtype\": \"int32\",\n        \"num_unique_values\": 8,\n        \"samples\": [\n          2023,\n          2018,\n          2024\n        ],\n        \"semantic_type\": \"\",\n        \"description\": \"\"\n      }\n    }\n  ]\n}",
       "type": "dataframe",
       "variable_name": "research_df"
      },
      "text/html": [
       "\n",
       "  <div id=\"df-ce13f753-6ece-44d4-82ab-4d1e22780a72\" class=\"colab-df-container\">\n",
       "    <div>\n",
       "<style scoped>\n",
       "    .dataframe tbody tr th:only-of-type {\n",
       "        vertical-align: middle;\n",
       "    }\n",
       "\n",
       "    .dataframe tbody tr th {\n",
       "        vertical-align: top;\n",
       "    }\n",
       "\n",
       "    .dataframe thead th {\n",
       "        text-align: right;\n",
       "    }\n",
       "</style>\n",
       "<table border=\"1\" class=\"dataframe\">\n",
       "  <thead>\n",
       "    <tr style=\"text-align: right;\">\n",
       "      <th></th>\n",
       "      <th>title</th>\n",
       "      <th>date</th>\n",
       "      <th>article_id</th>\n",
       "      <th>url</th>\n",
       "      <th>main_topic</th>\n",
       "      <th>all_topics</th>\n",
       "      <th>authors</th>\n",
       "      <th>year</th>\n",
       "    </tr>\n",
       "  </thead>\n",
       "  <tbody>\n",
       "    <tr>\n",
       "      <th>0</th>\n",
       "      <td>Automating the Training and Deployment of Mode...</td>\n",
       "      <td>2024-05-16 05:36:28+00:00</td>\n",
       "      <td>0</td>\n",
       "      <td>http://arxiv.org/pdf/2405.09819v1</td>\n",
       "      <td>cs.SE</td>\n",
       "      <td>[cs.SE, cs.LG]</td>\n",
       "      <td>[Penghao Liang, Bo Song, Xiaoan Zhan, Zhou Che...</td>\n",
       "      <td>2024</td>\n",
       "    </tr>\n",
       "    <tr>\n",
       "      <th>1</th>\n",
       "      <td>DeepFMEA -- A Scalable Framework Harmonizing P...</td>\n",
       "      <td>2024-05-13 09:41:34+00:00</td>\n",
       "      <td>1</td>\n",
       "      <td>http://arxiv.org/pdf/2405.08041v1</td>\n",
       "      <td>cs.LG</td>\n",
       "      <td>[cs.LG, cs.AI]</td>\n",
       "      <td>[Christoph Netsch, Till Schöpe, Benedikt Schin...</td>\n",
       "      <td>2024</td>\n",
       "    </tr>\n",
       "    <tr>\n",
       "      <th>2</th>\n",
       "      <td>Automating Code Adaptation for MLOps -- A Benc...</td>\n",
       "      <td>2024-05-10 22:18:43+00:00</td>\n",
       "      <td>2</td>\n",
       "      <td>http://arxiv.org/pdf/2405.06835v1</td>\n",
       "      <td>cs.LG</td>\n",
       "      <td>[cs.LG, cs.AI, cs.SE]</td>\n",
       "      <td>[Harsh Patel, Buvaneswari A. Ramanan, Manzoor ...</td>\n",
       "      <td>2024</td>\n",
       "    </tr>\n",
       "    <tr>\n",
       "      <th>3</th>\n",
       "      <td>Towards Architecting Sustainable MLOps: A Self...</td>\n",
       "      <td>2024-04-06 09:38:04+00:00</td>\n",
       "      <td>3</td>\n",
       "      <td>http://arxiv.org/pdf/2404.04572v1</td>\n",
       "      <td>cs.SE</td>\n",
       "      <td>[cs.SE]</td>\n",
       "      <td>[Hiya Bhatt, Shrikara Arun, Adyansh Kakran, Ka...</td>\n",
       "      <td>2024</td>\n",
       "    </tr>\n",
       "    <tr>\n",
       "      <th>4</th>\n",
       "      <td>An AI-Native Runtime for Multi-Wearable Enviro...</td>\n",
       "      <td>2024-03-26 16:50:44+00:00</td>\n",
       "      <td>4</td>\n",
       "      <td>http://arxiv.org/pdf/2403.17863v1</td>\n",
       "      <td>cs.DC</td>\n",
       "      <td>[cs.DC]</td>\n",
       "      <td>[Chulhong Min, Utku Günay Acer, SiYoung Jang, ...</td>\n",
       "      <td>2024</td>\n",
       "    </tr>\n",
       "  </tbody>\n",
       "</table>\n",
       "</div>\n",
       "    <div class=\"colab-df-buttons\">\n",
       "\n",
       "  <div class=\"colab-df-container\">\n",
       "    <button class=\"colab-df-convert\" onclick=\"convertToInteractive('df-ce13f753-6ece-44d4-82ab-4d1e22780a72')\"\n",
       "            title=\"Convert this dataframe to an interactive table.\"\n",
       "            style=\"display:none;\">\n",
       "\n",
       "  <svg xmlns=\"http://www.w3.org/2000/svg\" height=\"24px\" viewBox=\"0 -960 960 960\">\n",
       "    <path d=\"M120-120v-720h720v720H120Zm60-500h600v-160H180v160Zm220 220h160v-160H400v160Zm0 220h160v-160H400v160ZM180-400h160v-160H180v160Zm440 0h160v-160H620v160ZM180-180h160v-160H180v160Zm440 0h160v-160H620v160Z\"/>\n",
       "  </svg>\n",
       "    </button>\n",
       "\n",
       "  <style>\n",
       "    .colab-df-container {\n",
       "      display:flex;\n",
       "      gap: 12px;\n",
       "    }\n",
       "\n",
       "    .colab-df-convert {\n",
       "      background-color: #E8F0FE;\n",
       "      border: none;\n",
       "      border-radius: 50%;\n",
       "      cursor: pointer;\n",
       "      display: none;\n",
       "      fill: #1967D2;\n",
       "      height: 32px;\n",
       "      padding: 0 0 0 0;\n",
       "      width: 32px;\n",
       "    }\n",
       "\n",
       "    .colab-df-convert:hover {\n",
       "      background-color: #E2EBFA;\n",
       "      box-shadow: 0px 1px 2px rgba(60, 64, 67, 0.3), 0px 1px 3px 1px rgba(60, 64, 67, 0.15);\n",
       "      fill: #174EA6;\n",
       "    }\n",
       "\n",
       "    .colab-df-buttons div {\n",
       "      margin-bottom: 4px;\n",
       "    }\n",
       "\n",
       "    [theme=dark] .colab-df-convert {\n",
       "      background-color: #3B4455;\n",
       "      fill: #D2E3FC;\n",
       "    }\n",
       "\n",
       "    [theme=dark] .colab-df-convert:hover {\n",
       "      background-color: #434B5C;\n",
       "      box-shadow: 0px 1px 3px 1px rgba(0, 0, 0, 0.15);\n",
       "      filter: drop-shadow(0px 1px 2px rgba(0, 0, 0, 0.3));\n",
       "      fill: #FFFFFF;\n",
       "    }\n",
       "  </style>\n",
       "\n",
       "    <script>\n",
       "      const buttonEl =\n",
       "        document.querySelector('#df-ce13f753-6ece-44d4-82ab-4d1e22780a72 button.colab-df-convert');\n",
       "      buttonEl.style.display =\n",
       "        google.colab.kernel.accessAllowed ? 'block' : 'none';\n",
       "\n",
       "      async function convertToInteractive(key) {\n",
       "        const element = document.querySelector('#df-ce13f753-6ece-44d4-82ab-4d1e22780a72');\n",
       "        const dataTable =\n",
       "          await google.colab.kernel.invokeFunction('convertToInteractive',\n",
       "                                                    [key], {});\n",
       "        if (!dataTable) return;\n",
       "\n",
       "        const docLinkHtml = 'Like what you see? Visit the ' +\n",
       "          '<a target=\"_blank\" href=https://colab.research.google.com/notebooks/data_table.ipynb>data table notebook</a>'\n",
       "          + ' to learn more about interactive tables.';\n",
       "        element.innerHTML = '';\n",
       "        dataTable['output_type'] = 'display_data';\n",
       "        await google.colab.output.renderOutput(dataTable, element);\n",
       "        const docLink = document.createElement('div');\n",
       "        docLink.innerHTML = docLinkHtml;\n",
       "        element.appendChild(docLink);\n",
       "      }\n",
       "    </script>\n",
       "  </div>\n",
       "\n",
       "\n",
       "<div id=\"df-6ecb70ac-e38d-467b-aa7a-3610bd45f50a\">\n",
       "  <button class=\"colab-df-quickchart\" onclick=\"quickchart('df-6ecb70ac-e38d-467b-aa7a-3610bd45f50a')\"\n",
       "            title=\"Suggest charts\"\n",
       "            style=\"display:none;\">\n",
       "\n",
       "<svg xmlns=\"http://www.w3.org/2000/svg\" height=\"24px\"viewBox=\"0 0 24 24\"\n",
       "     width=\"24px\">\n",
       "    <g>\n",
       "        <path d=\"M19 3H5c-1.1 0-2 .9-2 2v14c0 1.1.9 2 2 2h14c1.1 0 2-.9 2-2V5c0-1.1-.9-2-2-2zM9 17H7v-7h2v7zm4 0h-2V7h2v10zm4 0h-2v-4h2v4z\"/>\n",
       "    </g>\n",
       "</svg>\n",
       "  </button>\n",
       "\n",
       "<style>\n",
       "  .colab-df-quickchart {\n",
       "      --bg-color: #E8F0FE;\n",
       "      --fill-color: #1967D2;\n",
       "      --hover-bg-color: #E2EBFA;\n",
       "      --hover-fill-color: #174EA6;\n",
       "      --disabled-fill-color: #AAA;\n",
       "      --disabled-bg-color: #DDD;\n",
       "  }\n",
       "\n",
       "  [theme=dark] .colab-df-quickchart {\n",
       "      --bg-color: #3B4455;\n",
       "      --fill-color: #D2E3FC;\n",
       "      --hover-bg-color: #434B5C;\n",
       "      --hover-fill-color: #FFFFFF;\n",
       "      --disabled-bg-color: #3B4455;\n",
       "      --disabled-fill-color: #666;\n",
       "  }\n",
       "\n",
       "  .colab-df-quickchart {\n",
       "    background-color: var(--bg-color);\n",
       "    border: none;\n",
       "    border-radius: 50%;\n",
       "    cursor: pointer;\n",
       "    display: none;\n",
       "    fill: var(--fill-color);\n",
       "    height: 32px;\n",
       "    padding: 0;\n",
       "    width: 32px;\n",
       "  }\n",
       "\n",
       "  .colab-df-quickchart:hover {\n",
       "    background-color: var(--hover-bg-color);\n",
       "    box-shadow: 0 1px 2px rgba(60, 64, 67, 0.3), 0 1px 3px 1px rgba(60, 64, 67, 0.15);\n",
       "    fill: var(--button-hover-fill-color);\n",
       "  }\n",
       "\n",
       "  .colab-df-quickchart-complete:disabled,\n",
       "  .colab-df-quickchart-complete:disabled:hover {\n",
       "    background-color: var(--disabled-bg-color);\n",
       "    fill: var(--disabled-fill-color);\n",
       "    box-shadow: none;\n",
       "  }\n",
       "\n",
       "  .colab-df-spinner {\n",
       "    border: 2px solid var(--fill-color);\n",
       "    border-color: transparent;\n",
       "    border-bottom-color: var(--fill-color);\n",
       "    animation:\n",
       "      spin 1s steps(1) infinite;\n",
       "  }\n",
       "\n",
       "  @keyframes spin {\n",
       "    0% {\n",
       "      border-color: transparent;\n",
       "      border-bottom-color: var(--fill-color);\n",
       "      border-left-color: var(--fill-color);\n",
       "    }\n",
       "    20% {\n",
       "      border-color: transparent;\n",
       "      border-left-color: var(--fill-color);\n",
       "      border-top-color: var(--fill-color);\n",
       "    }\n",
       "    30% {\n",
       "      border-color: transparent;\n",
       "      border-left-color: var(--fill-color);\n",
       "      border-top-color: var(--fill-color);\n",
       "      border-right-color: var(--fill-color);\n",
       "    }\n",
       "    40% {\n",
       "      border-color: transparent;\n",
       "      border-right-color: var(--fill-color);\n",
       "      border-top-color: var(--fill-color);\n",
       "    }\n",
       "    60% {\n",
       "      border-color: transparent;\n",
       "      border-right-color: var(--fill-color);\n",
       "    }\n",
       "    80% {\n",
       "      border-color: transparent;\n",
       "      border-right-color: var(--fill-color);\n",
       "      border-bottom-color: var(--fill-color);\n",
       "    }\n",
       "    90% {\n",
       "      border-color: transparent;\n",
       "      border-bottom-color: var(--fill-color);\n",
       "    }\n",
       "  }\n",
       "</style>\n",
       "\n",
       "  <script>\n",
       "    async function quickchart(key) {\n",
       "      const quickchartButtonEl =\n",
       "        document.querySelector('#' + key + ' button');\n",
       "      quickchartButtonEl.disabled = true;  // To prevent multiple clicks.\n",
       "      quickchartButtonEl.classList.add('colab-df-spinner');\n",
       "      try {\n",
       "        const charts = await google.colab.kernel.invokeFunction(\n",
       "            'suggestCharts', [key], {});\n",
       "      } catch (error) {\n",
       "        console.error('Error during call to suggestCharts:', error);\n",
       "      }\n",
       "      quickchartButtonEl.classList.remove('colab-df-spinner');\n",
       "      quickchartButtonEl.classList.add('colab-df-quickchart-complete');\n",
       "    }\n",
       "    (() => {\n",
       "      let quickchartButtonEl =\n",
       "        document.querySelector('#df-6ecb70ac-e38d-467b-aa7a-3610bd45f50a button');\n",
       "      quickchartButtonEl.style.display =\n",
       "        google.colab.kernel.accessAllowed ? 'block' : 'none';\n",
       "    })();\n",
       "  </script>\n",
       "</div>\n",
       "\n",
       "    </div>\n",
       "  </div>\n"
      ],
      "text/plain": [
       "                                               title  \\\n",
       "0  Automating the Training and Deployment of Mode...   \n",
       "1  DeepFMEA -- A Scalable Framework Harmonizing P...   \n",
       "2  Automating Code Adaptation for MLOps -- A Benc...   \n",
       "3  Towards Architecting Sustainable MLOps: A Self...   \n",
       "4  An AI-Native Runtime for Multi-Wearable Enviro...   \n",
       "\n",
       "                       date  article_id                                url  \\\n",
       "0 2024-05-16 05:36:28+00:00           0  http://arxiv.org/pdf/2405.09819v1   \n",
       "1 2024-05-13 09:41:34+00:00           1  http://arxiv.org/pdf/2405.08041v1   \n",
       "2 2024-05-10 22:18:43+00:00           2  http://arxiv.org/pdf/2405.06835v1   \n",
       "3 2024-04-06 09:38:04+00:00           3  http://arxiv.org/pdf/2404.04572v1   \n",
       "4 2024-03-26 16:50:44+00:00           4  http://arxiv.org/pdf/2403.17863v1   \n",
       "\n",
       "  main_topic             all_topics  \\\n",
       "0      cs.SE         [cs.SE, cs.LG]   \n",
       "1      cs.LG         [cs.LG, cs.AI]   \n",
       "2      cs.LG  [cs.LG, cs.AI, cs.SE]   \n",
       "3      cs.SE                [cs.SE]   \n",
       "4      cs.DC                [cs.DC]   \n",
       "\n",
       "                                             authors  year  \n",
       "0  [Penghao Liang, Bo Song, Xiaoan Zhan, Zhou Che...  2024  \n",
       "1  [Christoph Netsch, Till Schöpe, Benedikt Schin...  2024  \n",
       "2  [Harsh Patel, Buvaneswari A. Ramanan, Manzoor ...  2024  \n",
       "3  [Hiya Bhatt, Shrikara Arun, Adyansh Kakran, Ka...  2024  \n",
       "4  [Chulhong Min, Utku Günay Acer, SiYoung Jang, ...  2024  "
      ]
     },
     "execution_count": 41,
     "metadata": {},
     "output_type": "execute_result"
    }
   ],
   "source": [
    "research_df.head()"
   ]
  },
  {
   "cell_type": "markdown",
   "id": "8U5Jy55z7RQL",
   "metadata": {
    "id": "8U5Jy55z7RQL"
   },
   "source": [
    "# **Generación del Grafo**\n",
    "\n",
    "* Implementar la función generate network para crear un grafo utilizando NetworkX donde cada nodo representa un artículo y cada enlace representa un tema compartido entre dos artículos.\n",
    "* Visualizar el grafo para entender su estructura."
   ]
  },
  {
   "cell_type": "markdown",
   "id": "x6Sm-Jlf5Xiw",
   "metadata": {
    "id": "x6Sm-Jlf5Xiw"
   },
   "source": [
    "**Generación de datos:**"
   ]
  },
  {
   "cell_type": "code",
   "execution_count": null,
   "id": "04FB0V9utcWx",
   "metadata": {
    "id": "04FB0V9utcWx"
   },
   "outputs": [],
   "source": [
    "all_tp = research_df.explode('all_topics').copy()"
   ]
  },
  {
   "cell_type": "code",
   "execution_count": null,
   "id": "5Fci06tRtihT",
   "metadata": {
    "colab": {
     "base_uri": "https://localhost:8080/"
    },
    "id": "5Fci06tRtihT",
    "outputId": "afb1d5ad-f5ec-448e-8499-7fed1db55808"
   },
   "outputs": [
    {
     "name": "stdout",
     "output_type": "stream",
     "text": [
      "CPU times: user 1.2 s, sys: 18 ms, total: 1.22 s\n",
      "Wall time: 1.22 s\n"
     ]
    }
   ],
   "source": [
    "%%time\n",
    "tp_nx = generate_network(\n",
    "    all_tp,\n",
    "    node_col = 'article_id',\n",
    "    edge_col = 'all_topics'\n",
    ")"
   ]
  },
  {
   "cell_type": "code",
   "execution_count": null,
   "id": "K82LvEXFtpC0",
   "metadata": {
    "colab": {
     "base_uri": "https://localhost:8080/"
    },
    "id": "K82LvEXFtpC0",
    "outputId": "539cdaf1-8723-433e-d832-74b872f1d2b2"
   },
   "outputs": [
    {
     "name": "stdout",
     "output_type": "stream",
     "text": [
      "Graph with 751 nodes and 65441 edges\n"
     ]
    },
    {
     "name": "stderr",
     "output_type": "stream",
     "text": [
      "<ipython-input-44-5457b312971a>:1: DeprecationWarning: info is deprecated and will be removed in version 3.0.\n",
      "\n",
      "  print(nx.info(tp_nx))\n"
     ]
    }
   ],
   "source": [
    "print(nx.info(tp_nx))"
   ]
  },
  {
   "cell_type": "code",
   "execution_count": null,
   "id": "QF4EBg09ttXy",
   "metadata": {
    "colab": {
     "base_uri": "https://localhost:8080/"
    },
    "id": "QF4EBg09ttXy",
    "outputId": "42b91ed8-b5d5-4488-8dc8-367ce253ac9e"
   },
   "outputs": [
    {
     "name": "stdout",
     "output_type": "stream",
     "text": [
      "CPU times: user 1.2 s, sys: 29.9 ms, total: 1.23 s\n",
      "Wall time: 1.23 s\n"
     ]
    }
   ],
   "source": [
    "%%time\n",
    "research_nx = generate_network(\n",
    "    research_df,\n",
    "    node_col = 'article_id',\n",
    "    edge_col = 'main_topic'\n",
    ")"
   ]
  },
  {
   "cell_type": "code",
   "execution_count": null,
   "id": "3nuccx9110TN",
   "metadata": {
    "colab": {
     "base_uri": "https://localhost:8080/"
    },
    "id": "3nuccx9110TN",
    "outputId": "12a97a34-71e4-4f58-bad8-e6411302bfaf"
   },
   "outputs": [
    {
     "name": "stdout",
     "output_type": "stream",
     "text": [
      "Graph with 751 nodes and 25223 edges\n"
     ]
    },
    {
     "name": "stderr",
     "output_type": "stream",
     "text": [
      "<ipython-input-46-7ae1bf0e2c36>:1: DeprecationWarning: info is deprecated and will be removed in version 3.0.\n",
      "\n",
      "  print(nx.info(research_nx))\n"
     ]
    }
   ],
   "source": [
    "print(nx.info(research_nx))"
   ]
  },
  {
   "cell_type": "code",
   "execution_count": null,
   "id": "Kf4aC55mD_AS",
   "metadata": {
    "colab": {
     "base_uri": "https://localhost:8080/",
     "height": 516
    },
    "id": "Kf4aC55mD_AS",
    "outputId": "6d467813-b26a-4bba-c816-d311f6fb8e23"
   },
   "outputs": [
    {
     "data": {
      "image/png": "[encoded data removed]",
      "text/plain": [
       "<Figure size 640x480 with 1 Axes>"
      ]
     },
     "metadata": {},
     "output_type": "display_data"
    }
   ],
   "source": [
    "nx.draw(research_nx)"
   ]
  },
  {
   "cell_type": "markdown",
   "id": "keEUn4hA7a51",
   "metadata": {
    "id": "keEUn4hA7a51"
   },
   "source": [
    "# **Aplicación de Node2Vec**\n",
    "\n",
    "* Utilizar la biblioteca Node2Vec para generar embeddings para cada nodo del grafo.\n",
    "* Configurar parámetros como la dimensión del embedding y el tamaño de la ventana.\n"
   ]
  },
  {
   "cell_type": "markdown",
   "id": "VMEBKx_v1wcj",
   "metadata": {
    "id": "VMEBKx_v1wcj"
   },
   "source": [
    "**Node2Vec**"
   ]
  },
  {
   "cell_type": "code",
   "execution_count": null,
   "id": "9u-kVdck1wE0",
   "metadata": {
    "colab": {
     "base_uri": "https://localhost:8080/",
     "height": 101,
     "referenced_widgets": [
      "ad6d14360283454f856a0a7cf523f299",
      "46afe168a848420cb23d3d7b9c3b971f",
      "2a61b10b16c649deb2fcb1d4dc788c4b",
      "7292473ae1d54cf1a654dbc7f7ace9fa",
      "1941f73409ed45ee814e0e80b1a1e6c0",
      "494a64252a84478fafac39c0a41329a8",
      "41f9f392272547a880ec71e96bac9724",
      "32cae6838fa0486484ebf100a110faec",
      "781f98384cbf44efbb91937aefb2cd11",
      "1b2d3c10a8ec4988a70de35e40237593",
      "bc22a41801f74dcf9fcd70493bd155c3"
     ]
    },
    "id": "9u-kVdck1wE0",
    "outputId": "e891cef4-1cec-4dc8-aa47-88470b71fddf"
   },
   "outputs": [
    {
     "data": {
      "application/vnd.jupyter.widget-view+json": {
       "model_id": "ad6d14360283454f856a0a7cf523f299",
       "version_major": 2,
       "version_minor": 0
      },
      "text/plain": [
       "Computing transition probabilities:   0%|          | 0/751 [00:00<?, ?it/s]"
      ]
     },
     "metadata": {},
     "output_type": "display_data"
    },
    {
     "name": "stderr",
     "output_type": "stream",
     "text": [
      "Generating walks (CPU: 1): 100%|██████████| 10/10 [00:24<00:00,  2.50s/it]"
     ]
    },
    {
     "name": "stdout",
     "output_type": "stream",
     "text": [
      "CPU times: user 2min 51s, sys: 1.43 s, total: 2min 53s\n",
      "Wall time: 2min 55s\n"
     ]
    },
    {
     "name": "stderr",
     "output_type": "stream",
     "text": [
      "\n"
     ]
    }
   ],
   "source": [
    "%time g_emb = n2v(tp_nx, dimensions=16)"
   ]
  },
  {
   "cell_type": "code",
   "execution_count": null,
   "id": "oJrfedjs15i5",
   "metadata": {
    "id": "oJrfedjs15i5"
   },
   "outputs": [],
   "source": [
    "WINDOW = 1 # Node2Vec fit window\n",
    "MIN_COUNT = 1 # Node2Vec min. count\n",
    "BATCH_WORDS = 4 # Node2Vec batch words"
   ]
  },
  {
   "cell_type": "code",
   "execution_count": null,
   "id": "w5JR-F2218QD",
   "metadata": {
    "id": "w5JR-F2218QD"
   },
   "outputs": [],
   "source": [
    "mdl = g_emb.fit(\n",
    "    window=WINDOW,\n",
    "    min_count=MIN_COUNT,\n",
    "    batch_words=BATCH_WORDS\n",
    ")"
   ]
  },
  {
   "cell_type": "code",
   "execution_count": null,
   "id": "0nZKvTrk1_vx",
   "metadata": {
    "colab": {
     "base_uri": "https://localhost:8080/"
    },
    "id": "0nZKvTrk1_vx",
    "outputId": "6f3e5c79-3c7c-4634-ab7d-d2f89aa2dd13"
   },
   "outputs": [
    {
     "name": "stdout",
     "output_type": "stream",
     "text": [
      "('420', 0.9961740970611572)\n",
      "('144', 0.9955465793609619)\n",
      "('449', 0.9953691363334656)\n",
      "('333', 0.9941903948783875)\n",
      "('407', 0.9939141869544983)\n",
      "('450', 0.9936825037002563)\n",
      "('459', 0.9929540157318115)\n",
      "('443', 0.9927427172660828)\n",
      "('442', 0.9926936626434326)\n",
      "('265', 0.9926844835281372)\n"
     ]
    }
   ],
   "source": [
    "input_node = '1'\n",
    "for s in mdl.wv.most_similar(input_node, topn = 10):\n",
    "    print(s)"
   ]
  },
  {
   "cell_type": "code",
   "execution_count": null,
   "id": "tTY_fED21F0t",
   "metadata": {
    "colab": {
     "base_uri": "https://localhost:8080/",
     "height": 53
    },
    "id": "tTY_fED21F0t",
    "outputId": "eccd8896-7ee3-453d-8d8a-d06244d06b92"
   },
   "outputs": [
    {
     "data": {
      "application/vnd.google.colaboratory.intrinsic+json": {
       "repr_error": "Out of range float values are not JSON compliant: nan",
       "type": "dataframe",
       "variable_name": "resultado"
      },
      "text/html": [
       "\n",
       "  <div id=\"df-79f84cd4-aaa5-4bf9-a7b5-c7ced871b67b\" class=\"colab-df-container\">\n",
       "    <div>\n",
       "<style scoped>\n",
       "    .dataframe tbody tr th:only-of-type {\n",
       "        vertical-align: middle;\n",
       "    }\n",
       "\n",
       "    .dataframe tbody tr th {\n",
       "        vertical-align: top;\n",
       "    }\n",
       "\n",
       "    .dataframe thead th {\n",
       "        text-align: right;\n",
       "    }\n",
       "</style>\n",
       "<table border=\"1\" class=\"dataframe\">\n",
       "  <thead>\n",
       "    <tr style=\"text-align: right;\">\n",
       "      <th></th>\n",
       "      <th>title</th>\n",
       "      <th>date</th>\n",
       "      <th>article_id</th>\n",
       "      <th>url</th>\n",
       "      <th>main_topic</th>\n",
       "      <th>all_topics</th>\n",
       "      <th>authors</th>\n",
       "      <th>year</th>\n",
       "    </tr>\n",
       "  </thead>\n",
       "  <tbody>\n",
       "  </tbody>\n",
       "</table>\n",
       "</div>\n",
       "    <div class=\"colab-df-buttons\">\n",
       "\n",
       "  <div class=\"colab-df-container\">\n",
       "    <button class=\"colab-df-convert\" onclick=\"convertToInteractive('df-79f84cd4-aaa5-4bf9-a7b5-c7ced871b67b')\"\n",
       "            title=\"Convert this dataframe to an interactive table.\"\n",
       "            style=\"display:none;\">\n",
       "\n",
       "  <svg xmlns=\"http://www.w3.org/2000/svg\" height=\"24px\" viewBox=\"0 -960 960 960\">\n",
       "    <path d=\"M120-120v-720h720v720H120Zm60-500h600v-160H180v160Zm220 220h160v-160H400v160Zm0 220h160v-160H400v160ZM180-400h160v-160H180v160Zm440 0h160v-160H620v160ZM180-180h160v-160H180v160Zm440 0h160v-160H620v160Z\"/>\n",
       "  </svg>\n",
       "    </button>\n",
       "\n",
       "  <style>\n",
       "    .colab-df-container {\n",
       "      display:flex;\n",
       "      gap: 12px;\n",
       "    }\n",
       "\n",
       "    .colab-df-convert {\n",
       "      background-color: #E8F0FE;\n",
       "      border: none;\n",
       "      border-radius: 50%;\n",
       "      cursor: pointer;\n",
       "      display: none;\n",
       "      fill: #1967D2;\n",
       "      height: 32px;\n",
       "      padding: 0 0 0 0;\n",
       "      width: 32px;\n",
       "    }\n",
       "\n",
       "    .colab-df-convert:hover {\n",
       "      background-color: #E2EBFA;\n",
       "      box-shadow: 0px 1px 2px rgba(60, 64, 67, 0.3), 0px 1px 3px 1px rgba(60, 64, 67, 0.15);\n",
       "      fill: #174EA6;\n",
       "    }\n",
       "\n",
       "    .colab-df-buttons div {\n",
       "      margin-bottom: 4px;\n",
       "    }\n",
       "\n",
       "    [theme=dark] .colab-df-convert {\n",
       "      background-color: #3B4455;\n",
       "      fill: #D2E3FC;\n",
       "    }\n",
       "\n",
       "    [theme=dark] .colab-df-convert:hover {\n",
       "      background-color: #434B5C;\n",
       "      box-shadow: 0px 1px 3px 1px rgba(0, 0, 0, 0.15);\n",
       "      filter: drop-shadow(0px 1px 2px rgba(0, 0, 0, 0.3));\n",
       "      fill: #FFFFFF;\n",
       "    }\n",
       "  </style>\n",
       "\n",
       "    <script>\n",
       "      const buttonEl =\n",
       "        document.querySelector('#df-79f84cd4-aaa5-4bf9-a7b5-c7ced871b67b button.colab-df-convert');\n",
       "      buttonEl.style.display =\n",
       "        google.colab.kernel.accessAllowed ? 'block' : 'none';\n",
       "\n",
       "      async function convertToInteractive(key) {\n",
       "        const element = document.querySelector('#df-79f84cd4-aaa5-4bf9-a7b5-c7ced871b67b');\n",
       "        const dataTable =\n",
       "          await google.colab.kernel.invokeFunction('convertToInteractive',\n",
       "                                                    [key], {});\n",
       "        if (!dataTable) return;\n",
       "\n",
       "        const docLinkHtml = 'Like what you see? Visit the ' +\n",
       "          '<a target=\"_blank\" href=https://colab.research.google.com/notebooks/data_table.ipynb>data table notebook</a>'\n",
       "          + ' to learn more about interactive tables.';\n",
       "        element.innerHTML = '';\n",
       "        dataTable['output_type'] = 'display_data';\n",
       "        await google.colab.output.renderOutput(dataTable, element);\n",
       "        const docLink = document.createElement('div');\n",
       "        docLink.innerHTML = docLinkHtml;\n",
       "        element.appendChild(docLink);\n",
       "      }\n",
       "    </script>\n",
       "  </div>\n",
       "\n",
       "\n",
       "    </div>\n",
       "  </div>\n"
      ],
      "text/plain": [
       "Empty DataFrame\n",
       "Columns: [title, date, article_id, url, main_topic, all_topics, authors, year]\n",
       "Index: []"
      ]
     },
     "execution_count": 52,
     "metadata": {},
     "output_type": "execute_result"
    }
   ],
   "source": [
    "#resultado = research_df[research_df['article_id'].isin(('310', '443', '363', '343', '392', '318', '421', '442', '472', '144'))]\n",
    "resultado = research_df[research_df['article_id'].isin(('403', '379', '7', '374', '357', '354', '337', '424', '325', '440'))]\n",
    "resultado.head(10)"
   ]
  },
  {
   "cell_type": "markdown",
   "id": "1HbpE92972-H",
   "metadata": {
    "id": "1HbpE92972-H"
   },
   "source": [
    "# **Predicción de Enlaces**\n",
    "\n",
    "* Implementar una función predict links que utiliza la similitud coseno entre embeddings para sugerir nuevos enlaces en el grafo.\n",
    "* Evaluar los resultados observando qué nuevos enlaces se sugieren y cuán relevantes son."
   ]
  },
  {
   "cell_type": "markdown",
   "id": "auCNIi6H2ATN",
   "metadata": {
    "id": "auCNIi6H2ATN"
   },
   "source": [
    "**Generar Dataframe de Embedding**"
   ]
  },
  {
   "cell_type": "code",
   "execution_count": null,
   "id": "nKg2bMpY2GvV",
   "metadata": {
    "id": "nKg2bMpY2GvV"
   },
   "outputs": [],
   "source": [
    "emb_df = (\n",
    "    pd.DataFrame(\n",
    "        [mdl.wv.get_vector(str(n)) for n in tp_nx.nodes()],\n",
    "        index = tp_nx.nodes\n",
    "    )\n",
    ")"
   ]
  },
  {
   "cell_type": "code",
   "execution_count": null,
   "id": "a0rCPA0O2HcU",
   "metadata": {
    "colab": {
     "base_uri": "https://localhost:8080/",
     "height": 677
    },
    "id": "a0rCPA0O2HcU",
    "outputId": "29a67f8d-fba7-47ee-f23b-85230061b162"
   },
   "outputs": [
    {
     "data": {
      "application/vnd.google.colaboratory.intrinsic+json": {
       "summary": "{\n  \"name\": \"emb_df\",\n  \"rows\": 751,\n  \"fields\": [\n    {\n      \"column\": 0,\n      \"properties\": {\n        \"dtype\": \"float32\",\n        \"num_unique_values\": 751,\n        \"samples\": [\n          0.9081377387046814,\n          -0.1986192762851715,\n          0.32261738181114197\n        ],\n        \"semantic_type\": \"\",\n        \"description\": \"\"\n      }\n    },\n    {\n      \"column\": 1,\n      \"properties\": {\n        \"dtype\": \"float32\",\n        \"num_unique_values\": 751,\n        \"samples\": [\n          1.3257650136947632,\n          -0.2527780830860138,\n          0.32997187972068787\n        ],\n        \"semantic_type\": \"\",\n        \"description\": \"\"\n      }\n    },\n    {\n      \"column\": 2,\n      \"properties\": {\n        \"dtype\": \"float32\",\n        \"num_unique_values\": 751,\n        \"samples\": [\n          0.11747566610574722,\n          -0.39955374598503113,\n          0.08279827982187271\n        ],\n        \"semantic_type\": \"\",\n        \"description\": \"\"\n      }\n    },\n    {\n      \"column\": 3,\n      \"properties\": {\n        \"dtype\": \"float32\",\n        \"num_unique_values\": 751,\n        \"samples\": [\n          -0.07715819031000137,\n          0.8250354528427124,\n          -0.035573724657297134\n        ],\n        \"semantic_type\": \"\",\n        \"description\": \"\"\n      }\n    },\n    {\n      \"column\": 4,\n      \"properties\": {\n        \"dtype\": \"float32\",\n        \"num_unique_values\": 751,\n        \"samples\": [\n          1.8665721416473389,\n          0.10872280597686768,\n          0.43084025382995605\n        ],\n        \"semantic_type\": \"\",\n        \"description\": \"\"\n      }\n    },\n    {\n      \"column\": 5,\n      \"properties\": {\n        \"dtype\": \"float32\",\n        \"num_unique_values\": 751,\n        \"samples\": [\n          0.53672194480896,\n          1.1656906604766846,\n          -0.0519816093146801\n        ],\n        \"semantic_type\": \"\",\n        \"description\": \"\"\n      }\n    },\n    {\n      \"column\": 6,\n      \"properties\": {\n        \"dtype\": \"float32\",\n        \"num_unique_values\": 751,\n        \"samples\": [\n          1.8448225259780884,\n          1.502518892288208,\n          0.56847083568573\n        ],\n        \"semantic_type\": \"\",\n        \"description\": \"\"\n      }\n    },\n    {\n      \"column\": 7,\n      \"properties\": {\n        \"dtype\": \"float32\",\n        \"num_unique_values\": 751,\n        \"samples\": [\n          -0.4588777720928192,\n          0.033517561852931976,\n          0.07501720637083054\n        ],\n        \"semantic_type\": \"\",\n        \"description\": \"\"\n      }\n    },\n    {\n      \"column\": 8,\n      \"properties\": {\n        \"dtype\": \"float32\",\n        \"num_unique_values\": 751,\n        \"samples\": [\n          0.5145781636238098,\n          0.031787894666194916,\n          -0.3634193241596222\n        ],\n        \"semantic_type\": \"\",\n        \"description\": \"\"\n      }\n    },\n    {\n      \"column\": 9,\n      \"properties\": {\n        \"dtype\": \"float32\",\n        \"num_unique_values\": 751,\n        \"samples\": [\n          -0.8657879829406738,\n          0.5392637252807617,\n          -0.12046587467193604\n        ],\n        \"semantic_type\": \"\",\n        \"description\": \"\"\n      }\n    },\n    {\n      \"column\": 10,\n      \"properties\": {\n        \"dtype\": \"float32\",\n        \"num_unique_values\": 751,\n        \"samples\": [\n          -1.5035454034805298,\n          0.44114527106285095,\n          -0.6322634220123291\n        ],\n        \"semantic_type\": \"\",\n        \"description\": \"\"\n      }\n    },\n    {\n      \"column\": 11,\n      \"properties\": {\n        \"dtype\": \"float32\",\n        \"num_unique_values\": 751,\n        \"samples\": [\n          0.017789872363209724,\n          0.591901957988739,\n          -0.08784779161214828\n        ],\n        \"semantic_type\": \"\",\n        \"description\": \"\"\n      }\n    },\n    {\n      \"column\": 12,\n      \"properties\": {\n        \"dtype\": \"float32\",\n        \"num_unique_values\": 751,\n        \"samples\": [\n          1.904402494430542,\n          -0.21148644387722015,\n          0.8959741592407227\n        ],\n        \"semantic_type\": \"\",\n        \"description\": \"\"\n      }\n    },\n    {\n      \"column\": 13,\n      \"properties\": {\n        \"dtype\": \"float32\",\n        \"num_unique_values\": 751,\n        \"samples\": [\n          0.13890907168388367,\n          0.04752027988433838,\n          -0.561095118522644\n        ],\n        \"semantic_type\": \"\",\n        \"description\": \"\"\n      }\n    },\n    {\n      \"column\": 14,\n      \"properties\": {\n        \"dtype\": \"float32\",\n        \"num_unique_values\": 751,\n        \"samples\": [\n          -0.480175644159317,\n          -0.526696503162384,\n          -0.206895649433136\n        ],\n        \"semantic_type\": \"\",\n        \"description\": \"\"\n      }\n    },\n    {\n      \"column\": 15,\n      \"properties\": {\n        \"dtype\": \"float32\",\n        \"num_unique_values\": 751,\n        \"samples\": [\n          0.7687080502510071,\n          0.17020002007484436,\n          0.4190254211425781\n        ],\n        \"semantic_type\": \"\",\n        \"description\": \"\"\n      }\n    }\n  ]\n}",
       "type": "dataframe",
       "variable_name": "emb_df"
      },
      "text/html": [
       "\n",
       "  <div id=\"df-0a1150cb-42db-4ed4-8bfd-319a21bebe23\" class=\"colab-df-container\">\n",
       "    <div>\n",
       "<style scoped>\n",
       "    .dataframe tbody tr th:only-of-type {\n",
       "        vertical-align: middle;\n",
       "    }\n",
       "\n",
       "    .dataframe tbody tr th {\n",
       "        vertical-align: top;\n",
       "    }\n",
       "\n",
       "    .dataframe thead th {\n",
       "        text-align: right;\n",
       "    }\n",
       "</style>\n",
       "<table border=\"1\" class=\"dataframe\">\n",
       "  <thead>\n",
       "    <tr style=\"text-align: right;\">\n",
       "      <th></th>\n",
       "      <th>0</th>\n",
       "      <th>1</th>\n",
       "      <th>2</th>\n",
       "      <th>3</th>\n",
       "      <th>4</th>\n",
       "      <th>5</th>\n",
       "      <th>6</th>\n",
       "      <th>7</th>\n",
       "      <th>8</th>\n",
       "      <th>9</th>\n",
       "      <th>10</th>\n",
       "      <th>11</th>\n",
       "      <th>12</th>\n",
       "      <th>13</th>\n",
       "      <th>14</th>\n",
       "      <th>15</th>\n",
       "    </tr>\n",
       "  </thead>\n",
       "  <tbody>\n",
       "    <tr>\n",
       "      <th>0</th>\n",
       "      <td>0.440030</td>\n",
       "      <td>-0.541564</td>\n",
       "      <td>-0.785095</td>\n",
       "      <td>0.133966</td>\n",
       "      <td>0.031293</td>\n",
       "      <td>0.037844</td>\n",
       "      <td>1.690834</td>\n",
       "      <td>-0.510405</td>\n",
       "      <td>0.301066</td>\n",
       "      <td>-0.171575</td>\n",
       "      <td>-0.115805</td>\n",
       "      <td>-0.176820</td>\n",
       "      <td>0.195396</td>\n",
       "      <td>-0.794328</td>\n",
       "      <td>1.202434</td>\n",
       "      <td>0.916933</td>\n",
       "    </tr>\n",
       "    <tr>\n",
       "      <th>1</th>\n",
       "      <td>-0.039499</td>\n",
       "      <td>-0.669173</td>\n",
       "      <td>-0.541264</td>\n",
       "      <td>0.220021</td>\n",
       "      <td>0.222272</td>\n",
       "      <td>1.228651</td>\n",
       "      <td>0.855091</td>\n",
       "      <td>0.394413</td>\n",
       "      <td>0.102042</td>\n",
       "      <td>0.396742</td>\n",
       "      <td>-0.277757</td>\n",
       "      <td>-0.615394</td>\n",
       "      <td>0.313241</td>\n",
       "      <td>-1.091415</td>\n",
       "      <td>0.226789</td>\n",
       "      <td>0.091853</td>\n",
       "    </tr>\n",
       "    <tr>\n",
       "      <th>2</th>\n",
       "      <td>-0.512470</td>\n",
       "      <td>-0.871931</td>\n",
       "      <td>-0.415896</td>\n",
       "      <td>0.067229</td>\n",
       "      <td>-0.051252</td>\n",
       "      <td>0.782417</td>\n",
       "      <td>1.035098</td>\n",
       "      <td>0.012746</td>\n",
       "      <td>0.486603</td>\n",
       "      <td>-0.300974</td>\n",
       "      <td>-0.235358</td>\n",
       "      <td>-0.707878</td>\n",
       "      <td>0.737775</td>\n",
       "      <td>-0.733439</td>\n",
       "      <td>0.802521</td>\n",
       "      <td>0.101632</td>\n",
       "    </tr>\n",
       "    <tr>\n",
       "      <th>3</th>\n",
       "      <td>-1.183259</td>\n",
       "      <td>-0.104342</td>\n",
       "      <td>0.682620</td>\n",
       "      <td>0.425491</td>\n",
       "      <td>-0.083818</td>\n",
       "      <td>0.541523</td>\n",
       "      <td>1.649198</td>\n",
       "      <td>0.074607</td>\n",
       "      <td>1.284698</td>\n",
       "      <td>-0.045877</td>\n",
       "      <td>-1.621385</td>\n",
       "      <td>0.024214</td>\n",
       "      <td>0.124308</td>\n",
       "      <td>-1.247914</td>\n",
       "      <td>0.420714</td>\n",
       "      <td>2.409271</td>\n",
       "    </tr>\n",
       "    <tr>\n",
       "      <th>4</th>\n",
       "      <td>0.164216</td>\n",
       "      <td>-0.534739</td>\n",
       "      <td>0.532922</td>\n",
       "      <td>0.297901</td>\n",
       "      <td>-0.221626</td>\n",
       "      <td>0.000709</td>\n",
       "      <td>0.624367</td>\n",
       "      <td>0.178414</td>\n",
       "      <td>-0.111709</td>\n",
       "      <td>-0.264015</td>\n",
       "      <td>-0.628188</td>\n",
       "      <td>-0.102729</td>\n",
       "      <td>0.506032</td>\n",
       "      <td>-1.553535</td>\n",
       "      <td>0.120367</td>\n",
       "      <td>0.730276</td>\n",
       "    </tr>\n",
       "    <tr>\n",
       "      <th>5</th>\n",
       "      <td>-1.119119</td>\n",
       "      <td>0.031489</td>\n",
       "      <td>0.668770</td>\n",
       "      <td>0.560935</td>\n",
       "      <td>0.050594</td>\n",
       "      <td>0.470541</td>\n",
       "      <td>1.660782</td>\n",
       "      <td>-0.059140</td>\n",
       "      <td>1.453807</td>\n",
       "      <td>-0.039455</td>\n",
       "      <td>-1.607845</td>\n",
       "      <td>0.209553</td>\n",
       "      <td>0.118422</td>\n",
       "      <td>-1.390679</td>\n",
       "      <td>0.198095</td>\n",
       "      <td>2.356980</td>\n",
       "    </tr>\n",
       "    <tr>\n",
       "      <th>6</th>\n",
       "      <td>-0.601759</td>\n",
       "      <td>-0.749451</td>\n",
       "      <td>1.253915</td>\n",
       "      <td>-0.045522</td>\n",
       "      <td>0.034826</td>\n",
       "      <td>0.526857</td>\n",
       "      <td>0.706593</td>\n",
       "      <td>-0.482874</td>\n",
       "      <td>0.816983</td>\n",
       "      <td>-0.302887</td>\n",
       "      <td>-0.150451</td>\n",
       "      <td>-0.411339</td>\n",
       "      <td>0.284914</td>\n",
       "      <td>-0.342310</td>\n",
       "      <td>-0.288491</td>\n",
       "      <td>1.283225</td>\n",
       "    </tr>\n",
       "    <tr>\n",
       "      <th>7</th>\n",
       "      <td>-0.093687</td>\n",
       "      <td>-0.696801</td>\n",
       "      <td>-0.461326</td>\n",
       "      <td>0.005907</td>\n",
       "      <td>0.223802</td>\n",
       "      <td>1.204610</td>\n",
       "      <td>0.841987</td>\n",
       "      <td>0.346559</td>\n",
       "      <td>0.101155</td>\n",
       "      <td>0.351009</td>\n",
       "      <td>-0.350076</td>\n",
       "      <td>-0.619509</td>\n",
       "      <td>0.428141</td>\n",
       "      <td>-1.039483</td>\n",
       "      <td>0.153954</td>\n",
       "      <td>0.072161</td>\n",
       "    </tr>\n",
       "    <tr>\n",
       "      <th>8</th>\n",
       "      <td>-0.908412</td>\n",
       "      <td>-0.087347</td>\n",
       "      <td>0.653700</td>\n",
       "      <td>0.457490</td>\n",
       "      <td>0.064390</td>\n",
       "      <td>0.418288</td>\n",
       "      <td>1.615453</td>\n",
       "      <td>-0.105849</td>\n",
       "      <td>1.477449</td>\n",
       "      <td>-0.090590</td>\n",
       "      <td>-1.650268</td>\n",
       "      <td>0.173203</td>\n",
       "      <td>0.076700</td>\n",
       "      <td>-1.347264</td>\n",
       "      <td>0.300173</td>\n",
       "      <td>2.313184</td>\n",
       "    </tr>\n",
       "    <tr>\n",
       "      <th>9</th>\n",
       "      <td>0.019575</td>\n",
       "      <td>-0.522294</td>\n",
       "      <td>-0.433739</td>\n",
       "      <td>-0.204458</td>\n",
       "      <td>0.328149</td>\n",
       "      <td>0.982477</td>\n",
       "      <td>0.628562</td>\n",
       "      <td>0.403621</td>\n",
       "      <td>-0.063704</td>\n",
       "      <td>0.319473</td>\n",
       "      <td>-0.523677</td>\n",
       "      <td>-0.751289</td>\n",
       "      <td>0.505885</td>\n",
       "      <td>-1.073526</td>\n",
       "      <td>-0.079122</td>\n",
       "      <td>0.054952</td>\n",
       "    </tr>\n",
       "    <tr>\n",
       "      <th>10</th>\n",
       "      <td>0.413087</td>\n",
       "      <td>-0.604786</td>\n",
       "      <td>-0.801694</td>\n",
       "      <td>0.021174</td>\n",
       "      <td>0.070363</td>\n",
       "      <td>0.088334</td>\n",
       "      <td>1.688176</td>\n",
       "      <td>-0.467196</td>\n",
       "      <td>0.379623</td>\n",
       "      <td>-0.196842</td>\n",
       "      <td>-0.114296</td>\n",
       "      <td>-0.226389</td>\n",
       "      <td>0.160454</td>\n",
       "      <td>-0.728815</td>\n",
       "      <td>1.280073</td>\n",
       "      <td>1.069937</td>\n",
       "    </tr>\n",
       "    <tr>\n",
       "      <th>11</th>\n",
       "      <td>-0.578114</td>\n",
       "      <td>0.078912</td>\n",
       "      <td>1.309754</td>\n",
       "      <td>0.381578</td>\n",
       "      <td>-0.423559</td>\n",
       "      <td>0.639386</td>\n",
       "      <td>1.328277</td>\n",
       "      <td>0.327349</td>\n",
       "      <td>1.228615</td>\n",
       "      <td>-0.343551</td>\n",
       "      <td>-1.697781</td>\n",
       "      <td>0.044569</td>\n",
       "      <td>-0.338576</td>\n",
       "      <td>-1.259676</td>\n",
       "      <td>0.404382</td>\n",
       "      <td>1.741777</td>\n",
       "    </tr>\n",
       "    <tr>\n",
       "      <th>12</th>\n",
       "      <td>-1.130213</td>\n",
       "      <td>-0.014959</td>\n",
       "      <td>0.530922</td>\n",
       "      <td>0.593718</td>\n",
       "      <td>0.020771</td>\n",
       "      <td>0.398502</td>\n",
       "      <td>1.628549</td>\n",
       "      <td>-0.157687</td>\n",
       "      <td>1.340535</td>\n",
       "      <td>-0.169178</td>\n",
       "      <td>-1.553346</td>\n",
       "      <td>0.260070</td>\n",
       "      <td>0.171530</td>\n",
       "      <td>-1.256420</td>\n",
       "      <td>0.310917</td>\n",
       "      <td>2.343622</td>\n",
       "    </tr>\n",
       "    <tr>\n",
       "      <th>13</th>\n",
       "      <td>0.616317</td>\n",
       "      <td>0.090416</td>\n",
       "      <td>0.060895</td>\n",
       "      <td>-0.133366</td>\n",
       "      <td>-0.028503</td>\n",
       "      <td>1.260896</td>\n",
       "      <td>0.139146</td>\n",
       "      <td>-0.113916</td>\n",
       "      <td>0.572821</td>\n",
       "      <td>-0.505410</td>\n",
       "      <td>-0.377647</td>\n",
       "      <td>-1.181759</td>\n",
       "      <td>0.202932</td>\n",
       "      <td>-1.859138</td>\n",
       "      <td>-0.619179</td>\n",
       "      <td>0.246296</td>\n",
       "    </tr>\n",
       "    <tr>\n",
       "      <th>14</th>\n",
       "      <td>0.120403</td>\n",
       "      <td>-0.643278</td>\n",
       "      <td>-0.480243</td>\n",
       "      <td>-0.265176</td>\n",
       "      <td>0.865486</td>\n",
       "      <td>0.310195</td>\n",
       "      <td>0.669733</td>\n",
       "      <td>-0.620702</td>\n",
       "      <td>-0.396687</td>\n",
       "      <td>0.051696</td>\n",
       "      <td>-0.807236</td>\n",
       "      <td>-0.121130</td>\n",
       "      <td>-0.013169</td>\n",
       "      <td>-1.249009</td>\n",
       "      <td>0.768259</td>\n",
       "      <td>-0.195381</td>\n",
       "    </tr>\n",
       "    <tr>\n",
       "      <th>15</th>\n",
       "      <td>0.728226</td>\n",
       "      <td>-0.099256</td>\n",
       "      <td>0.140962</td>\n",
       "      <td>-0.629627</td>\n",
       "      <td>-0.278142</td>\n",
       "      <td>0.530933</td>\n",
       "      <td>1.027492</td>\n",
       "      <td>-0.571072</td>\n",
       "      <td>0.051939</td>\n",
       "      <td>0.435524</td>\n",
       "      <td>-0.885636</td>\n",
       "      <td>-0.720129</td>\n",
       "      <td>1.025144</td>\n",
       "      <td>-1.120386</td>\n",
       "      <td>-0.755569</td>\n",
       "      <td>-0.114199</td>\n",
       "    </tr>\n",
       "    <tr>\n",
       "      <th>16</th>\n",
       "      <td>-1.087866</td>\n",
       "      <td>-0.003066</td>\n",
       "      <td>0.786167</td>\n",
       "      <td>0.478196</td>\n",
       "      <td>0.017152</td>\n",
       "      <td>0.384520</td>\n",
       "      <td>1.683016</td>\n",
       "      <td>0.026700</td>\n",
       "      <td>1.388668</td>\n",
       "      <td>-0.176352</td>\n",
       "      <td>-1.630417</td>\n",
       "      <td>0.203319</td>\n",
       "      <td>0.034327</td>\n",
       "      <td>-1.271730</td>\n",
       "      <td>0.367605</td>\n",
       "      <td>2.200919</td>\n",
       "    </tr>\n",
       "    <tr>\n",
       "      <th>17</th>\n",
       "      <td>0.359067</td>\n",
       "      <td>-0.476984</td>\n",
       "      <td>0.199950</td>\n",
       "      <td>0.558994</td>\n",
       "      <td>0.420968</td>\n",
       "      <td>0.967156</td>\n",
       "      <td>-0.318865</td>\n",
       "      <td>-0.279165</td>\n",
       "      <td>0.754030</td>\n",
       "      <td>-0.904322</td>\n",
       "      <td>-0.493273</td>\n",
       "      <td>-0.810079</td>\n",
       "      <td>-0.136948</td>\n",
       "      <td>-1.971842</td>\n",
       "      <td>-0.276377</td>\n",
       "      <td>0.102613</td>\n",
       "    </tr>\n",
       "    <tr>\n",
       "      <th>18</th>\n",
       "      <td>0.439176</td>\n",
       "      <td>-0.573030</td>\n",
       "      <td>-0.961009</td>\n",
       "      <td>0.140783</td>\n",
       "      <td>0.063771</td>\n",
       "      <td>-0.011002</td>\n",
       "      <td>1.713448</td>\n",
       "      <td>-0.513781</td>\n",
       "      <td>0.388848</td>\n",
       "      <td>-0.136947</td>\n",
       "      <td>-0.069056</td>\n",
       "      <td>-0.275997</td>\n",
       "      <td>0.276887</td>\n",
       "      <td>-0.783397</td>\n",
       "      <td>1.166070</td>\n",
       "      <td>1.097766</td>\n",
       "    </tr>\n",
       "    <tr>\n",
       "      <th>19</th>\n",
       "      <td>-0.007474</td>\n",
       "      <td>-0.519930</td>\n",
       "      <td>-1.162187</td>\n",
       "      <td>1.256806</td>\n",
       "      <td>0.728389</td>\n",
       "      <td>0.862250</td>\n",
       "      <td>0.417078</td>\n",
       "      <td>-0.510096</td>\n",
       "      <td>0.402159</td>\n",
       "      <td>-0.796453</td>\n",
       "      <td>0.464433</td>\n",
       "      <td>-0.805428</td>\n",
       "      <td>-0.605846</td>\n",
       "      <td>-0.821294</td>\n",
       "      <td>-1.287641</td>\n",
       "      <td>0.625246</td>\n",
       "    </tr>\n",
       "  </tbody>\n",
       "</table>\n",
       "</div>\n",
       "    <div class=\"colab-df-buttons\">\n",
       "\n",
       "  <div class=\"colab-df-container\">\n",
       "    <button class=\"colab-df-convert\" onclick=\"convertToInteractive('df-0a1150cb-42db-4ed4-8bfd-319a21bebe23')\"\n",
       "            title=\"Convert this dataframe to an interactive table.\"\n",
       "            style=\"display:none;\">\n",
       "\n",
       "  <svg xmlns=\"http://www.w3.org/2000/svg\" height=\"24px\" viewBox=\"0 -960 960 960\">\n",
       "    <path d=\"M120-120v-720h720v720H120Zm60-500h600v-160H180v160Zm220 220h160v-160H400v160Zm0 220h160v-160H400v160ZM180-400h160v-160H180v160Zm440 0h160v-160H620v160ZM180-180h160v-160H180v160Zm440 0h160v-160H620v160Z\"/>\n",
       "  </svg>\n",
       "    </button>\n",
       "\n",
       "  <style>\n",
       "    .colab-df-container {\n",
       "      display:flex;\n",
       "      gap: 12px;\n",
       "    }\n",
       "\n",
       "    .colab-df-convert {\n",
       "      background-color: #E8F0FE;\n",
       "      border: none;\n",
       "      border-radius: 50%;\n",
       "      cursor: pointer;\n",
       "      display: none;\n",
       "      fill: #1967D2;\n",
       "      height: 32px;\n",
       "      padding: 0 0 0 0;\n",
       "      width: 32px;\n",
       "    }\n",
       "\n",
       "    .colab-df-convert:hover {\n",
       "      background-color: #E2EBFA;\n",
       "      box-shadow: 0px 1px 2px rgba(60, 64, 67, 0.3), 0px 1px 3px 1px rgba(60, 64, 67, 0.15);\n",
       "      fill: #174EA6;\n",
       "    }\n",
       "\n",
       "    .colab-df-buttons div {\n",
       "      margin-bottom: 4px;\n",
       "    }\n",
       "\n",
       "    [theme=dark] .colab-df-convert {\n",
       "      background-color: #3B4455;\n",
       "      fill: #D2E3FC;\n",
       "    }\n",
       "\n",
       "    [theme=dark] .colab-df-convert:hover {\n",
       "      background-color: #434B5C;\n",
       "      box-shadow: 0px 1px 3px 1px rgba(0, 0, 0, 0.15);\n",
       "      filter: drop-shadow(0px 1px 2px rgba(0, 0, 0, 0.3));\n",
       "      fill: #FFFFFF;\n",
       "    }\n",
       "  </style>\n",
       "\n",
       "    <script>\n",
       "      const buttonEl =\n",
       "        document.querySelector('#df-0a1150cb-42db-4ed4-8bfd-319a21bebe23 button.colab-df-convert');\n",
       "      buttonEl.style.display =\n",
       "        google.colab.kernel.accessAllowed ? 'block' : 'none';\n",
       "\n",
       "      async function convertToInteractive(key) {\n",
       "        const element = document.querySelector('#df-0a1150cb-42db-4ed4-8bfd-319a21bebe23');\n",
       "        const dataTable =\n",
       "          await google.colab.kernel.invokeFunction('convertToInteractive',\n",
       "                                                    [key], {});\n",
       "        if (!dataTable) return;\n",
       "\n",
       "        const docLinkHtml = 'Like what you see? Visit the ' +\n",
       "          '<a target=\"_blank\" href=https://colab.research.google.com/notebooks/data_table.ipynb>data table notebook</a>'\n",
       "          + ' to learn more about interactive tables.';\n",
       "        element.innerHTML = '';\n",
       "        dataTable['output_type'] = 'display_data';\n",
       "        await google.colab.output.renderOutput(dataTable, element);\n",
       "        const docLink = document.createElement('div');\n",
       "        docLink.innerHTML = docLinkHtml;\n",
       "        element.appendChild(docLink);\n",
       "      }\n",
       "    </script>\n",
       "  </div>\n",
       "\n",
       "\n",
       "<div id=\"df-a7c09f4d-b406-412c-9551-f9f0bf142f06\">\n",
       "  <button class=\"colab-df-quickchart\" onclick=\"quickchart('df-a7c09f4d-b406-412c-9551-f9f0bf142f06')\"\n",
       "            title=\"Suggest charts\"\n",
       "            style=\"display:none;\">\n",
       "\n",
       "<svg xmlns=\"http://www.w3.org/2000/svg\" height=\"24px\"viewBox=\"0 0 24 24\"\n",
       "     width=\"24px\">\n",
       "    <g>\n",
       "        <path d=\"M19 3H5c-1.1 0-2 .9-2 2v14c0 1.1.9 2 2 2h14c1.1 0 2-.9 2-2V5c0-1.1-.9-2-2-2zM9 17H7v-7h2v7zm4 0h-2V7h2v10zm4 0h-2v-4h2v4z\"/>\n",
       "    </g>\n",
       "</svg>\n",
       "  </button>\n",
       "\n",
       "<style>\n",
       "  .colab-df-quickchart {\n",
       "      --bg-color: #E8F0FE;\n",
       "      --fill-color: #1967D2;\n",
       "      --hover-bg-color: #E2EBFA;\n",
       "      --hover-fill-color: #174EA6;\n",
       "      --disabled-fill-color: #AAA;\n",
       "      --disabled-bg-color: #DDD;\n",
       "  }\n",
       "\n",
       "  [theme=dark] .colab-df-quickchart {\n",
       "      --bg-color: #3B4455;\n",
       "      --fill-color: #D2E3FC;\n",
       "      --hover-bg-color: #434B5C;\n",
       "      --hover-fill-color: #FFFFFF;\n",
       "      --disabled-bg-color: #3B4455;\n",
       "      --disabled-fill-color: #666;\n",
       "  }\n",
       "\n",
       "  .colab-df-quickchart {\n",
       "    background-color: var(--bg-color);\n",
       "    border: none;\n",
       "    border-radius: 50%;\n",
       "    cursor: pointer;\n",
       "    display: none;\n",
       "    fill: var(--fill-color);\n",
       "    height: 32px;\n",
       "    padding: 0;\n",
       "    width: 32px;\n",
       "  }\n",
       "\n",
       "  .colab-df-quickchart:hover {\n",
       "    background-color: var(--hover-bg-color);\n",
       "    box-shadow: 0 1px 2px rgba(60, 64, 67, 0.3), 0 1px 3px 1px rgba(60, 64, 67, 0.15);\n",
       "    fill: var(--button-hover-fill-color);\n",
       "  }\n",
       "\n",
       "  .colab-df-quickchart-complete:disabled,\n",
       "  .colab-df-quickchart-complete:disabled:hover {\n",
       "    background-color: var(--disabled-bg-color);\n",
       "    fill: var(--disabled-fill-color);\n",
       "    box-shadow: none;\n",
       "  }\n",
       "\n",
       "  .colab-df-spinner {\n",
       "    border: 2px solid var(--fill-color);\n",
       "    border-color: transparent;\n",
       "    border-bottom-color: var(--fill-color);\n",
       "    animation:\n",
       "      spin 1s steps(1) infinite;\n",
       "  }\n",
       "\n",
       "  @keyframes spin {\n",
       "    0% {\n",
       "      border-color: transparent;\n",
       "      border-bottom-color: var(--fill-color);\n",
       "      border-left-color: var(--fill-color);\n",
       "    }\n",
       "    20% {\n",
       "      border-color: transparent;\n",
       "      border-left-color: var(--fill-color);\n",
       "      border-top-color: var(--fill-color);\n",
       "    }\n",
       "    30% {\n",
       "      border-color: transparent;\n",
       "      border-left-color: var(--fill-color);\n",
       "      border-top-color: var(--fill-color);\n",
       "      border-right-color: var(--fill-color);\n",
       "    }\n",
       "    40% {\n",
       "      border-color: transparent;\n",
       "      border-right-color: var(--fill-color);\n",
       "      border-top-color: var(--fill-color);\n",
       "    }\n",
       "    60% {\n",
       "      border-color: transparent;\n",
       "      border-right-color: var(--fill-color);\n",
       "    }\n",
       "    80% {\n",
       "      border-color: transparent;\n",
       "      border-right-color: var(--fill-color);\n",
       "      border-bottom-color: var(--fill-color);\n",
       "    }\n",
       "    90% {\n",
       "      border-color: transparent;\n",
       "      border-bottom-color: var(--fill-color);\n",
       "    }\n",
       "  }\n",
       "</style>\n",
       "\n",
       "  <script>\n",
       "    async function quickchart(key) {\n",
       "      const quickchartButtonEl =\n",
       "        document.querySelector('#' + key + ' button');\n",
       "      quickchartButtonEl.disabled = true;  // To prevent multiple clicks.\n",
       "      quickchartButtonEl.classList.add('colab-df-spinner');\n",
       "      try {\n",
       "        const charts = await google.colab.kernel.invokeFunction(\n",
       "            'suggestCharts', [key], {});\n",
       "      } catch (error) {\n",
       "        console.error('Error during call to suggestCharts:', error);\n",
       "      }\n",
       "      quickchartButtonEl.classList.remove('colab-df-spinner');\n",
       "      quickchartButtonEl.classList.add('colab-df-quickchart-complete');\n",
       "    }\n",
       "    (() => {\n",
       "      let quickchartButtonEl =\n",
       "        document.querySelector('#df-a7c09f4d-b406-412c-9551-f9f0bf142f06 button');\n",
       "      quickchartButtonEl.style.display =\n",
       "        google.colab.kernel.accessAllowed ? 'block' : 'none';\n",
       "    })();\n",
       "  </script>\n",
       "</div>\n",
       "\n",
       "    </div>\n",
       "  </div>\n"
      ],
      "text/plain": [
       "          0         1         2         3         4         5         6   \\\n",
       "0   0.440030 -0.541564 -0.785095  0.133966  0.031293  0.037844  1.690834   \n",
       "1  -0.039499 -0.669173 -0.541264  0.220021  0.222272  1.228651  0.855091   \n",
       "2  -0.512470 -0.871931 -0.415896  0.067229 -0.051252  0.782417  1.035098   \n",
       "3  -1.183259 -0.104342  0.682620  0.425491 -0.083818  0.541523  1.649198   \n",
       "4   0.164216 -0.534739  0.532922  0.297901 -0.221626  0.000709  0.624367   \n",
       "5  -1.119119  0.031489  0.668770  0.560935  0.050594  0.470541  1.660782   \n",
       "6  -0.601759 -0.749451  1.253915 -0.045522  0.034826  0.526857  0.706593   \n",
       "7  -0.093687 -0.696801 -0.461326  0.005907  0.223802  1.204610  0.841987   \n",
       "8  -0.908412 -0.087347  0.653700  0.457490  0.064390  0.418288  1.615453   \n",
       "9   0.019575 -0.522294 -0.433739 -0.204458  0.328149  0.982477  0.628562   \n",
       "10  0.413087 -0.604786 -0.801694  0.021174  0.070363  0.088334  1.688176   \n",
       "11 -0.578114  0.078912  1.309754  0.381578 -0.423559  0.639386  1.328277   \n",
       "12 -1.130213 -0.014959  0.530922  0.593718  0.020771  0.398502  1.628549   \n",
       "13  0.616317  0.090416  0.060895 -0.133366 -0.028503  1.260896  0.139146   \n",
       "14  0.120403 -0.643278 -0.480243 -0.265176  0.865486  0.310195  0.669733   \n",
       "15  0.728226 -0.099256  0.140962 -0.629627 -0.278142  0.530933  1.027492   \n",
       "16 -1.087866 -0.003066  0.786167  0.478196  0.017152  0.384520  1.683016   \n",
       "17  0.359067 -0.476984  0.199950  0.558994  0.420968  0.967156 -0.318865   \n",
       "18  0.439176 -0.573030 -0.961009  0.140783  0.063771 -0.011002  1.713448   \n",
       "19 -0.007474 -0.519930 -1.162187  1.256806  0.728389  0.862250  0.417078   \n",
       "\n",
       "          7         8         9         10        11        12        13  \\\n",
       "0  -0.510405  0.301066 -0.171575 -0.115805 -0.176820  0.195396 -0.794328   \n",
       "1   0.394413  0.102042  0.396742 -0.277757 -0.615394  0.313241 -1.091415   \n",
       "2   0.012746  0.486603 -0.300974 -0.235358 -0.707878  0.737775 -0.733439   \n",
       "3   0.074607  1.284698 -0.045877 -1.621385  0.024214  0.124308 -1.247914   \n",
       "4   0.178414 -0.111709 -0.264015 -0.628188 -0.102729  0.506032 -1.553535   \n",
       "5  -0.059140  1.453807 -0.039455 -1.607845  0.209553  0.118422 -1.390679   \n",
       "6  -0.482874  0.816983 -0.302887 -0.150451 -0.411339  0.284914 -0.342310   \n",
       "7   0.346559  0.101155  0.351009 -0.350076 -0.619509  0.428141 -1.039483   \n",
       "8  -0.105849  1.477449 -0.090590 -1.650268  0.173203  0.076700 -1.347264   \n",
       "9   0.403621 -0.063704  0.319473 -0.523677 -0.751289  0.505885 -1.073526   \n",
       "10 -0.467196  0.379623 -0.196842 -0.114296 -0.226389  0.160454 -0.728815   \n",
       "11  0.327349  1.228615 -0.343551 -1.697781  0.044569 -0.338576 -1.259676   \n",
       "12 -0.157687  1.340535 -0.169178 -1.553346  0.260070  0.171530 -1.256420   \n",
       "13 -0.113916  0.572821 -0.505410 -0.377647 -1.181759  0.202932 -1.859138   \n",
       "14 -0.620702 -0.396687  0.051696 -0.807236 -0.121130 -0.013169 -1.249009   \n",
       "15 -0.571072  0.051939  0.435524 -0.885636 -0.720129  1.025144 -1.120386   \n",
       "16  0.026700  1.388668 -0.176352 -1.630417  0.203319  0.034327 -1.271730   \n",
       "17 -0.279165  0.754030 -0.904322 -0.493273 -0.810079 -0.136948 -1.971842   \n",
       "18 -0.513781  0.388848 -0.136947 -0.069056 -0.275997  0.276887 -0.783397   \n",
       "19 -0.510096  0.402159 -0.796453  0.464433 -0.805428 -0.605846 -0.821294   \n",
       "\n",
       "          14        15  \n",
       "0   1.202434  0.916933  \n",
       "1   0.226789  0.091853  \n",
       "2   0.802521  0.101632  \n",
       "3   0.420714  2.409271  \n",
       "4   0.120367  0.730276  \n",
       "5   0.198095  2.356980  \n",
       "6  -0.288491  1.283225  \n",
       "7   0.153954  0.072161  \n",
       "8   0.300173  2.313184  \n",
       "9  -0.079122  0.054952  \n",
       "10  1.280073  1.069937  \n",
       "11  0.404382  1.741777  \n",
       "12  0.310917  2.343622  \n",
       "13 -0.619179  0.246296  \n",
       "14  0.768259 -0.195381  \n",
       "15 -0.755569 -0.114199  \n",
       "16  0.367605  2.200919  \n",
       "17 -0.276377  0.102613  \n",
       "18  1.166070  1.097766  \n",
       "19 -1.287641  0.625246  "
      ]
     },
     "execution_count": 54,
     "metadata": {},
     "output_type": "execute_result"
    }
   ],
   "source": [
    "emb_df.head(20)"
   ]
  },
  {
   "cell_type": "markdown",
   "id": "zW9KAy2c3WLr",
   "metadata": {
    "id": "zW9KAy2c3WLr"
   },
   "source": [
    "**Recomendación con medidas de distancias**"
   ]
  },
  {
   "cell_type": "code",
   "execution_count": null,
   "id": "HEidsGGq3WxN",
   "metadata": {
    "id": "HEidsGGq3WxN"
   },
   "outputs": [],
   "source": [
    "valores_predict = predict_links(G = tp_nx, df = emb_df, article_id = 1, N = 10)"
   ]
  },
  {
   "cell_type": "code",
   "execution_count": null,
   "id": "20RsInbjGHxt",
   "metadata": {
    "colab": {
     "base_uri": "https://localhost:8080/",
     "height": 363
    },
    "id": "20RsInbjGHxt",
    "outputId": "8762865a-4d0c-41fb-da2b-c608b4426858"
   },
   "outputs": [
    {
     "data": {
      "application/vnd.google.colaboratory.intrinsic+json": {
       "summary": "{\n  \"name\": \"resultado\",\n  \"rows\": 16,\n  \"fields\": [\n    {\n      \"column\": \"title\",\n      \"properties\": {\n        \"dtype\": \"string\",\n        \"num_unique_values\": 10,\n        \"samples\": [\n          \"Consensus Through Knot Discovery in Asynchronous Dynamic Networks\",\n          \"CHIQ: Contextual History Enhancement for Improving Query Rewriting in Conversational Search\",\n          \"Continuous Attractor Networks for Laplace Neural Manifolds\"\n        ],\n        \"semantic_type\": \"\",\n        \"description\": \"\"\n      }\n    },\n    {\n      \"column\": \"date\",\n      \"properties\": {\n        \"dtype\": \"date\",\n        \"min\": \"2024-03-26 16:50:44+00:00\",\n        \"max\": \"2024-06-07 15:38:23+00:00\",\n        \"num_unique_values\": 10,\n        \"samples\": [\n          \"2024-06-06 20:43:28+00:00\",\n          \"2024-06-07 15:23:53+00:00\",\n          \"2024-06-06 23:06:38+00:00\"\n        ],\n        \"semantic_type\": \"\",\n        \"description\": \"\"\n      }\n    },\n    {\n      \"column\": \"article_id\",\n      \"properties\": {\n        \"dtype\": \"number\",\n        \"std\": 194,\n        \"min\": 4,\n        \"max\": 727,\n        \"num_unique_values\": 10,\n        \"samples\": [\n          618,\n          150,\n          526\n        ],\n        \"semantic_type\": \"\",\n        \"description\": \"\"\n      }\n    },\n    {\n      \"column\": \"url\",\n      \"properties\": {\n        \"dtype\": \"string\",\n        \"num_unique_values\": 10,\n        \"samples\": [\n          \"http://arxiv.org/pdf/2406.04497v1\",\n          \"http://arxiv.org/pdf/2406.05013v1\",\n          \"http://arxiv.org/pdf/2406.04545v1\"\n        ],\n        \"semantic_type\": \"\",\n        \"description\": \"\"\n      }\n    },\n    {\n      \"column\": \"main_topic\",\n      \"properties\": {\n        \"dtype\": \"category\",\n        \"num_unique_values\": 6,\n        \"samples\": [\n          \"cs.DC\",\n          \"cs.IR\",\n          \"physics.ao-ph\"\n        ],\n        \"semantic_type\": \"\",\n        \"description\": \"\"\n      }\n    },\n    {\n      \"column\": \"all_topics\",\n      \"properties\": {\n        \"dtype\": \"object\",\n        \"semantic_type\": \"\",\n        \"description\": \"\"\n      }\n    },\n    {\n      \"column\": \"authors\",\n      \"properties\": {\n        \"dtype\": \"object\",\n        \"semantic_type\": \"\",\n        \"description\": \"\"\n      }\n    },\n    {\n      \"column\": \"year\",\n      \"properties\": {\n        \"dtype\": \"int32\",\n        \"num_unique_values\": 1,\n        \"samples\": [\n          2024\n        ],\n        \"semantic_type\": \"\",\n        \"description\": \"\"\n      }\n    }\n  ]\n}",
       "type": "dataframe",
       "variable_name": "resultado"
      },
      "text/html": [
       "\n",
       "  <div id=\"df-bd6a2bec-cf8d-4e9f-bf3d-2272e875da68\" class=\"colab-df-container\">\n",
       "    <div>\n",
       "<style scoped>\n",
       "    .dataframe tbody tr th:only-of-type {\n",
       "        vertical-align: middle;\n",
       "    }\n",
       "\n",
       "    .dataframe tbody tr th {\n",
       "        vertical-align: top;\n",
       "    }\n",
       "\n",
       "    .dataframe thead th {\n",
       "        text-align: right;\n",
       "    }\n",
       "</style>\n",
       "<table border=\"1\" class=\"dataframe\">\n",
       "  <thead>\n",
       "    <tr style=\"text-align: right;\">\n",
       "      <th></th>\n",
       "      <th>title</th>\n",
       "      <th>date</th>\n",
       "      <th>article_id</th>\n",
       "      <th>url</th>\n",
       "      <th>main_topic</th>\n",
       "      <th>all_topics</th>\n",
       "      <th>authors</th>\n",
       "      <th>year</th>\n",
       "    </tr>\n",
       "  </thead>\n",
       "  <tbody>\n",
       "    <tr>\n",
       "      <th>4</th>\n",
       "      <td>An AI-Native Runtime for Multi-Wearable Enviro...</td>\n",
       "      <td>2024-03-26 16:50:44+00:00</td>\n",
       "      <td>4</td>\n",
       "      <td>http://arxiv.org/pdf/2403.17863v1</td>\n",
       "      <td>cs.DC</td>\n",
       "      <td>[cs.DC]</td>\n",
       "      <td>[Chulhong Min, Utku Günay Acer, SiYoung Jang, ...</td>\n",
       "      <td>2024</td>\n",
       "    </tr>\n",
       "    <tr>\n",
       "      <th>150</th>\n",
       "      <td>CHIQ: Contextual History Enhancement for Impro...</td>\n",
       "      <td>2024-06-07 15:23:53+00:00</td>\n",
       "      <td>150</td>\n",
       "      <td>http://arxiv.org/pdf/2406.05013v1</td>\n",
       "      <td>cs.IR</td>\n",
       "      <td>[cs.IR]</td>\n",
       "      <td>[Fengran Mo, Abbas Ghaddar, Kelong Mao, Mehdi ...</td>\n",
       "      <td>2024</td>\n",
       "    </tr>\n",
       "    <tr>\n",
       "      <th>225</th>\n",
       "      <td>Approximated Coded Computing: Towards Fast, Pr...</td>\n",
       "      <td>2024-06-07 08:46:32+00:00</td>\n",
       "      <td>225</td>\n",
       "      <td>http://arxiv.org/pdf/2406.04747v1</td>\n",
       "      <td>cs.DC</td>\n",
       "      <td>[cs.DC]</td>\n",
       "      <td>[Houming Qiu, Kun Zhu, Nguyen Cong Luong, Dusi...</td>\n",
       "      <td>2024</td>\n",
       "    </tr>\n",
       "    <tr>\n",
       "      <th>571</th>\n",
       "      <td>QAGCF: Graph Collaborative Filtering for Q&amp;A R...</td>\n",
       "      <td>2024-06-07 10:52:37+00:00</td>\n",
       "      <td>498</td>\n",
       "      <td>http://arxiv.org/pdf/2406.04828v1</td>\n",
       "      <td>cs.IR</td>\n",
       "      <td>[cs.IR]</td>\n",
       "      <td>[Changshuo Zhang, Teng Shi, Xiao Zhang, Yanpin...</td>\n",
       "      <td>2024</td>\n",
       "    </tr>\n",
       "    <tr>\n",
       "      <th>598</th>\n",
       "      <td>PolySAT: Word-level Bit-vector Reasoning in Z3</td>\n",
       "      <td>2024-06-07 07:15:22+00:00</td>\n",
       "      <td>510</td>\n",
       "      <td>http://arxiv.org/pdf/2406.04696v1</td>\n",
       "      <td>cs.LO</td>\n",
       "      <td>[cs.LO]</td>\n",
       "      <td>[Jakob Rath, Clemens Eisenhofer, Daniela Kaufm...</td>\n",
       "      <td>2024</td>\n",
       "    </tr>\n",
       "    <tr>\n",
       "      <th>624</th>\n",
       "      <td>Continuous Attractor Networks for Laplace Neur...</td>\n",
       "      <td>2024-06-06 23:06:38+00:00</td>\n",
       "      <td>526</td>\n",
       "      <td>http://arxiv.org/pdf/2406.04545v1</td>\n",
       "      <td>q-bio.NC</td>\n",
       "      <td>[q-bio.NC]</td>\n",
       "      <td>[Bryan C. Daniels, Marc W. Howard]</td>\n",
       "      <td>2024</td>\n",
       "    </tr>\n",
       "    <tr>\n",
       "      <th>704</th>\n",
       "      <td>Beyond Similarity: Personalized Federated Reco...</td>\n",
       "      <td>2024-06-06 10:17:52+00:00</td>\n",
       "      <td>585</td>\n",
       "      <td>http://arxiv.org/pdf/2406.03933v1</td>\n",
       "      <td>cs.CR</td>\n",
       "      <td>[cs.CR, cs.IR]</td>\n",
       "      <td>[Honglei Zhang, Haoxuan Li, Jundong Chen, Sen ...</td>\n",
       "      <td>2024</td>\n",
       "    </tr>\n",
       "    <tr>\n",
       "      <th>768</th>\n",
       "      <td>QAGCF: Graph Collaborative Filtering for Q&amp;A R...</td>\n",
       "      <td>2024-06-07 10:52:37+00:00</td>\n",
       "      <td>498</td>\n",
       "      <td>http://arxiv.org/pdf/2406.04828v1</td>\n",
       "      <td>cs.IR</td>\n",
       "      <td>[cs.IR]</td>\n",
       "      <td>[Changshuo Zhang, Teng Shi, Xiao Zhang, Yanpin...</td>\n",
       "      <td>2024</td>\n",
       "    </tr>\n",
       "    <tr>\n",
       "      <th>794</th>\n",
       "      <td>EAIA: An Efficient and Anonymous Identity Auth...</td>\n",
       "      <td>2024-06-07 07:26:09+00:00</td>\n",
       "      <td>607</td>\n",
       "      <td>http://arxiv.org/pdf/2406.04705v1</td>\n",
       "      <td>cs.CR</td>\n",
       "      <td>[cs.CR]</td>\n",
       "      <td>[Qianmin Du, Jianhong Zhou, Maode Ma]</td>\n",
       "      <td>2024</td>\n",
       "    </tr>\n",
       "    <tr>\n",
       "      <th>825</th>\n",
       "      <td>Continuous Attractor Networks for Laplace Neur...</td>\n",
       "      <td>2024-06-06 23:06:38+00:00</td>\n",
       "      <td>526</td>\n",
       "      <td>http://arxiv.org/pdf/2406.04545v1</td>\n",
       "      <td>q-bio.NC</td>\n",
       "      <td>[q-bio.NC]</td>\n",
       "      <td>[Bryan C. Daniels, Marc W. Howard]</td>\n",
       "      <td>2024</td>\n",
       "    </tr>\n",
       "  </tbody>\n",
       "</table>\n",
       "</div>\n",
       "    <div class=\"colab-df-buttons\">\n",
       "\n",
       "  <div class=\"colab-df-container\">\n",
       "    <button class=\"colab-df-convert\" onclick=\"convertToInteractive('df-bd6a2bec-cf8d-4e9f-bf3d-2272e875da68')\"\n",
       "            title=\"Convert this dataframe to an interactive table.\"\n",
       "            style=\"display:none;\">\n",
       "\n",
       "  <svg xmlns=\"http://www.w3.org/2000/svg\" height=\"24px\" viewBox=\"0 -960 960 960\">\n",
       "    <path d=\"M120-120v-720h720v720H120Zm60-500h600v-160H180v160Zm220 220h160v-160H400v160Zm0 220h160v-160H400v160ZM180-400h160v-160H180v160Zm440 0h160v-160H620v160ZM180-180h160v-160H180v160Zm440 0h160v-160H620v160Z\"/>\n",
       "  </svg>\n",
       "    </button>\n",
       "\n",
       "  <style>\n",
       "    .colab-df-container {\n",
       "      display:flex;\n",
       "      gap: 12px;\n",
       "    }\n",
       "\n",
       "    .colab-df-convert {\n",
       "      background-color: #E8F0FE;\n",
       "      border: none;\n",
       "      border-radius: 50%;\n",
       "      cursor: pointer;\n",
       "      display: none;\n",
       "      fill: #1967D2;\n",
       "      height: 32px;\n",
       "      padding: 0 0 0 0;\n",
       "      width: 32px;\n",
       "    }\n",
       "\n",
       "    .colab-df-convert:hover {\n",
       "      background-color: #E2EBFA;\n",
       "      box-shadow: 0px 1px 2px rgba(60, 64, 67, 0.3), 0px 1px 3px 1px rgba(60, 64, 67, 0.15);\n",
       "      fill: #174EA6;\n",
       "    }\n",
       "\n",
       "    .colab-df-buttons div {\n",
       "      margin-bottom: 4px;\n",
       "    }\n",
       "\n",
       "    [theme=dark] .colab-df-convert {\n",
       "      background-color: #3B4455;\n",
       "      fill: #D2E3FC;\n",
       "    }\n",
       "\n",
       "    [theme=dark] .colab-df-convert:hover {\n",
       "      background-color: #434B5C;\n",
       "      box-shadow: 0px 1px 3px 1px rgba(0, 0, 0, 0.15);\n",
       "      filter: drop-shadow(0px 1px 2px rgba(0, 0, 0, 0.3));\n",
       "      fill: #FFFFFF;\n",
       "    }\n",
       "  </style>\n",
       "\n",
       "    <script>\n",
       "      const buttonEl =\n",
       "        document.querySelector('#df-bd6a2bec-cf8d-4e9f-bf3d-2272e875da68 button.colab-df-convert');\n",
       "      buttonEl.style.display =\n",
       "        google.colab.kernel.accessAllowed ? 'block' : 'none';\n",
       "\n",
       "      async function convertToInteractive(key) {\n",
       "        const element = document.querySelector('#df-bd6a2bec-cf8d-4e9f-bf3d-2272e875da68');\n",
       "        const dataTable =\n",
       "          await google.colab.kernel.invokeFunction('convertToInteractive',\n",
       "                                                    [key], {});\n",
       "        if (!dataTable) return;\n",
       "\n",
       "        const docLinkHtml = 'Like what you see? Visit the ' +\n",
       "          '<a target=\"_blank\" href=https://colab.research.google.com/notebooks/data_table.ipynb>data table notebook</a>'\n",
       "          + ' to learn more about interactive tables.';\n",
       "        element.innerHTML = '';\n",
       "        dataTable['output_type'] = 'display_data';\n",
       "        await google.colab.output.renderOutput(dataTable, element);\n",
       "        const docLink = document.createElement('div');\n",
       "        docLink.innerHTML = docLinkHtml;\n",
       "        element.appendChild(docLink);\n",
       "      }\n",
       "    </script>\n",
       "  </div>\n",
       "\n",
       "\n",
       "<div id=\"df-17598119-5b70-46e2-ab49-8481b06fb9fc\">\n",
       "  <button class=\"colab-df-quickchart\" onclick=\"quickchart('df-17598119-5b70-46e2-ab49-8481b06fb9fc')\"\n",
       "            title=\"Suggest charts\"\n",
       "            style=\"display:none;\">\n",
       "\n",
       "<svg xmlns=\"http://www.w3.org/2000/svg\" height=\"24px\"viewBox=\"0 0 24 24\"\n",
       "     width=\"24px\">\n",
       "    <g>\n",
       "        <path d=\"M19 3H5c-1.1 0-2 .9-2 2v14c0 1.1.9 2 2 2h14c1.1 0 2-.9 2-2V5c0-1.1-.9-2-2-2zM9 17H7v-7h2v7zm4 0h-2V7h2v10zm4 0h-2v-4h2v4z\"/>\n",
       "    </g>\n",
       "</svg>\n",
       "  </button>\n",
       "\n",
       "<style>\n",
       "  .colab-df-quickchart {\n",
       "      --bg-color: #E8F0FE;\n",
       "      --fill-color: #1967D2;\n",
       "      --hover-bg-color: #E2EBFA;\n",
       "      --hover-fill-color: #174EA6;\n",
       "      --disabled-fill-color: #AAA;\n",
       "      --disabled-bg-color: #DDD;\n",
       "  }\n",
       "\n",
       "  [theme=dark] .colab-df-quickchart {\n",
       "      --bg-color: #3B4455;\n",
       "      --fill-color: #D2E3FC;\n",
       "      --hover-bg-color: #434B5C;\n",
       "      --hover-fill-color: #FFFFFF;\n",
       "      --disabled-bg-color: #3B4455;\n",
       "      --disabled-fill-color: #666;\n",
       "  }\n",
       "\n",
       "  .colab-df-quickchart {\n",
       "    background-color: var(--bg-color);\n",
       "    border: none;\n",
       "    border-radius: 50%;\n",
       "    cursor: pointer;\n",
       "    display: none;\n",
       "    fill: var(--fill-color);\n",
       "    height: 32px;\n",
       "    padding: 0;\n",
       "    width: 32px;\n",
       "  }\n",
       "\n",
       "  .colab-df-quickchart:hover {\n",
       "    background-color: var(--hover-bg-color);\n",
       "    box-shadow: 0 1px 2px rgba(60, 64, 67, 0.3), 0 1px 3px 1px rgba(60, 64, 67, 0.15);\n",
       "    fill: var(--button-hover-fill-color);\n",
       "  }\n",
       "\n",
       "  .colab-df-quickchart-complete:disabled,\n",
       "  .colab-df-quickchart-complete:disabled:hover {\n",
       "    background-color: var(--disabled-bg-color);\n",
       "    fill: var(--disabled-fill-color);\n",
       "    box-shadow: none;\n",
       "  }\n",
       "\n",
       "  .colab-df-spinner {\n",
       "    border: 2px solid var(--fill-color);\n",
       "    border-color: transparent;\n",
       "    border-bottom-color: var(--fill-color);\n",
       "    animation:\n",
       "      spin 1s steps(1) infinite;\n",
       "  }\n",
       "\n",
       "  @keyframes spin {\n",
       "    0% {\n",
       "      border-color: transparent;\n",
       "      border-bottom-color: var(--fill-color);\n",
       "      border-left-color: var(--fill-color);\n",
       "    }\n",
       "    20% {\n",
       "      border-color: transparent;\n",
       "      border-left-color: var(--fill-color);\n",
       "      border-top-color: var(--fill-color);\n",
       "    }\n",
       "    30% {\n",
       "      border-color: transparent;\n",
       "      border-left-color: var(--fill-color);\n",
       "      border-top-color: var(--fill-color);\n",
       "      border-right-color: var(--fill-color);\n",
       "    }\n",
       "    40% {\n",
       "      border-color: transparent;\n",
       "      border-right-color: var(--fill-color);\n",
       "      border-top-color: var(--fill-color);\n",
       "    }\n",
       "    60% {\n",
       "      border-color: transparent;\n",
       "      border-right-color: var(--fill-color);\n",
       "    }\n",
       "    80% {\n",
       "      border-color: transparent;\n",
       "      border-right-color: var(--fill-color);\n",
       "      border-bottom-color: var(--fill-color);\n",
       "    }\n",
       "    90% {\n",
       "      border-color: transparent;\n",
       "      border-bottom-color: var(--fill-color);\n",
       "    }\n",
       "  }\n",
       "</style>\n",
       "\n",
       "  <script>\n",
       "    async function quickchart(key) {\n",
       "      const quickchartButtonEl =\n",
       "        document.querySelector('#' + key + ' button');\n",
       "      quickchartButtonEl.disabled = true;  // To prevent multiple clicks.\n",
       "      quickchartButtonEl.classList.add('colab-df-spinner');\n",
       "      try {\n",
       "        const charts = await google.colab.kernel.invokeFunction(\n",
       "            'suggestCharts', [key], {});\n",
       "      } catch (error) {\n",
       "        console.error('Error during call to suggestCharts:', error);\n",
       "      }\n",
       "      quickchartButtonEl.classList.remove('colab-df-spinner');\n",
       "      quickchartButtonEl.classList.add('colab-df-quickchart-complete');\n",
       "    }\n",
       "    (() => {\n",
       "      let quickchartButtonEl =\n",
       "        document.querySelector('#df-17598119-5b70-46e2-ab49-8481b06fb9fc button');\n",
       "      quickchartButtonEl.style.display =\n",
       "        google.colab.kernel.accessAllowed ? 'block' : 'none';\n",
       "    })();\n",
       "  </script>\n",
       "</div>\n",
       "\n",
       "    </div>\n",
       "  </div>\n"
      ],
      "text/plain": [
       "                                                 title  \\\n",
       "4    An AI-Native Runtime for Multi-Wearable Enviro...   \n",
       "150  CHIQ: Contextual History Enhancement for Impro...   \n",
       "225  Approximated Coded Computing: Towards Fast, Pr...   \n",
       "571  QAGCF: Graph Collaborative Filtering for Q&A R...   \n",
       "598     PolySAT: Word-level Bit-vector Reasoning in Z3   \n",
       "624  Continuous Attractor Networks for Laplace Neur...   \n",
       "704  Beyond Similarity: Personalized Federated Reco...   \n",
       "768  QAGCF: Graph Collaborative Filtering for Q&A R...   \n",
       "794  EAIA: An Efficient and Anonymous Identity Auth...   \n",
       "825  Continuous Attractor Networks for Laplace Neur...   \n",
       "\n",
       "                         date  article_id                                url  \\\n",
       "4   2024-03-26 16:50:44+00:00           4  http://arxiv.org/pdf/2403.17863v1   \n",
       "150 2024-06-07 15:23:53+00:00         150  http://arxiv.org/pdf/2406.05013v1   \n",
       "225 2024-06-07 08:46:32+00:00         225  http://arxiv.org/pdf/2406.04747v1   \n",
       "571 2024-06-07 10:52:37+00:00         498  http://arxiv.org/pdf/2406.04828v1   \n",
       "598 2024-06-07 07:15:22+00:00         510  http://arxiv.org/pdf/2406.04696v1   \n",
       "624 2024-06-06 23:06:38+00:00         526  http://arxiv.org/pdf/2406.04545v1   \n",
       "704 2024-06-06 10:17:52+00:00         585  http://arxiv.org/pdf/2406.03933v1   \n",
       "768 2024-06-07 10:52:37+00:00         498  http://arxiv.org/pdf/2406.04828v1   \n",
       "794 2024-06-07 07:26:09+00:00         607  http://arxiv.org/pdf/2406.04705v1   \n",
       "825 2024-06-06 23:06:38+00:00         526  http://arxiv.org/pdf/2406.04545v1   \n",
       "\n",
       "    main_topic      all_topics  \\\n",
       "4        cs.DC         [cs.DC]   \n",
       "150      cs.IR         [cs.IR]   \n",
       "225      cs.DC         [cs.DC]   \n",
       "571      cs.IR         [cs.IR]   \n",
       "598      cs.LO         [cs.LO]   \n",
       "624   q-bio.NC      [q-bio.NC]   \n",
       "704      cs.CR  [cs.CR, cs.IR]   \n",
       "768      cs.IR         [cs.IR]   \n",
       "794      cs.CR         [cs.CR]   \n",
       "825   q-bio.NC      [q-bio.NC]   \n",
       "\n",
       "                                               authors  year  \n",
       "4    [Chulhong Min, Utku Günay Acer, SiYoung Jang, ...  2024  \n",
       "150  [Fengran Mo, Abbas Ghaddar, Kelong Mao, Mehdi ...  2024  \n",
       "225  [Houming Qiu, Kun Zhu, Nguyen Cong Luong, Dusi...  2024  \n",
       "571  [Changshuo Zhang, Teng Shi, Xiao Zhang, Yanpin...  2024  \n",
       "598  [Jakob Rath, Clemens Eisenhofer, Daniela Kaufm...  2024  \n",
       "624                 [Bryan C. Daniels, Marc W. Howard]  2024  \n",
       "704  [Honglei Zhang, Haoxuan Li, Jundong Chen, Sen ...  2024  \n",
       "768  [Changshuo Zhang, Teng Shi, Xiao Zhang, Yanpin...  2024  \n",
       "794              [Qianmin Du, Jianhong Zhou, Maode Ma]  2024  \n",
       "825                 [Bryan C. Daniels, Marc W. Howard]  2024  "
      ]
     },
     "execution_count": 56,
     "metadata": {},
     "output_type": "execute_result"
    }
   ],
   "source": [
    "resultado = research_df[research_df['article_id'].isin(valores_predict)]\n",
    "resultado.head(10)"
   ]
  },
  {
   "cell_type": "markdown",
   "id": "pZgcf47J3dm2",
   "metadata": {
    "id": "pZgcf47J3dm2"
   },
   "source": [
    "**Modelando una Recomendación de Base**"
   ]
  },
  {
   "cell_type": "code",
   "execution_count": null,
   "id": "UBiFBYwL3c0P",
   "metadata": {
    "id": "UBiFBYwL3c0P"
   },
   "outputs": [],
   "source": [
    "unique_nodes = list(tp_nx.nodes())"
   ]
  },
  {
   "cell_type": "code",
   "execution_count": null,
   "id": "qiQ5CsDA3jgu",
   "metadata": {
    "colab": {
     "base_uri": "https://localhost:8080/"
    },
    "id": "qiQ5CsDA3jgu",
    "outputId": "b3ccb497-1366-4122-fc81-208e6b01e295"
   },
   "outputs": [
    {
     "name": "stdout",
     "output_type": "stream",
     "text": [
      "CPU times: user 77 ms, sys: 12 ms, total: 89 ms\n",
      "Wall time: 91.3 ms\n"
     ]
    }
   ],
   "source": [
    "%time all_possible_edges = [(x,y) for (x,y) in product(unique_nodes, unique_nodes)]"
   ]
  },
  {
   "cell_type": "code",
   "execution_count": null,
   "id": "Fg2ZvEp53mXX",
   "metadata": {
    "colab": {
     "base_uri": "https://localhost:8080/"
    },
    "id": "Fg2ZvEp53mXX",
    "outputId": "553198bd-dc3d-4aca-8fbe-697a8709b62e"
   },
   "outputs": [
    {
     "data": {
      "text/plain": [
       "564001"
      ]
     },
     "execution_count": 59,
     "metadata": {},
     "output_type": "execute_result"
    }
   ],
   "source": [
    "len(all_possible_edges)"
   ]
  },
  {
   "cell_type": "code",
   "execution_count": null,
   "id": "zMaoDSj13pQL",
   "metadata": {
    "colab": {
     "base_uri": "https://localhost:8080/"
    },
    "id": "zMaoDSj13pQL",
    "outputId": "189298ba-8f87-4467-a82d-229e7237e411"
   },
   "outputs": [
    {
     "name": "stdout",
     "output_type": "stream",
     "text": [
      "CPU times: user 1.92 s, sys: 82.7 ms, total: 2 s\n",
      "Wall time: 2.02 s\n"
     ]
    }
   ],
   "source": [
    "%%time\n",
    "edge_features = [\n",
    "    (mdl.wv.get_vector(str(i)) + mdl.wv.get_vector(str(j))) for i,j in all_possible_edges\n",
    "]"
   ]
  },
  {
   "cell_type": "code",
   "execution_count": null,
   "id": "OPHSn7nx3sVu",
   "metadata": {
    "id": "OPHSn7nx3sVu"
   },
   "outputs": [],
   "source": [
    "edges = list(tp_nx.edges())"
   ]
  },
  {
   "cell_type": "code",
   "execution_count": null,
   "id": "IfjLJzAz3vlh",
   "metadata": {
    "colab": {
     "base_uri": "https://localhost:8080/"
    },
    "id": "IfjLJzAz3vlh",
    "outputId": "ff558a33-85fe-4ae8-e001-7ff44f9de4ba"
   },
   "outputs": [
    {
     "name": "stdout",
     "output_type": "stream",
     "text": [
      "CPU times: user 12min 55s, sys: 2.7 s, total: 12min 57s\n",
      "Wall time: 13min 4s\n"
     ]
    }
   ],
   "source": [
    "%time is_con = [1 if e in edges else 0 for e in all_possible_edges]"
   ]
  },
  {
   "cell_type": "code",
   "execution_count": null,
   "id": "PVIc9v2h4AcE",
   "metadata": {
    "colab": {
     "base_uri": "https://localhost:8080/"
    },
    "id": "PVIc9v2h4AcE",
    "outputId": "01a384c6-7137-4fd4-d7a3-9e034dc6e9b7"
   },
   "outputs": [
    {
     "data": {
      "text/plain": [
       "65441"
      ]
     },
     "execution_count": 63,
     "metadata": {},
     "output_type": "execute_result"
    }
   ],
   "source": [
    "sum(is_con)"
   ]
  },
  {
   "cell_type": "markdown",
   "id": "85cGBOb17u8b",
   "metadata": {
    "id": "85cGBOb17u8b"
   },
   "source": [
    "# **Modelo de Clasificación para la Recomendación**\n",
    "\n",
    "* Utilizar embeddings generados para construir un clasificador distinto al gradient boosting que prediga si debería existir un enlace entre dos nodos.\n",
    "* Entrenar el modelo con un conjunto de datos de entrenamiento y evaluar su rendimiento con un conjunto de datos de prueba."
   ]
  },
  {
   "cell_type": "markdown",
   "id": "p4nIDZiC4C3h",
   "metadata": {
    "id": "p4nIDZiC4C3h"
   },
   "source": [
    "**Entrenar el Modelo**"
   ]
  },
  {
   "cell_type": "code",
   "execution_count": null,
   "id": "dnhtMldq4GVK",
   "metadata": {
    "id": "dnhtMldq4GVK"
   },
   "outputs": [],
   "source": [
    "# get training and target data\n",
    "X = np.array(edge_features)\n",
    "y = is_con"
   ]
  },
  {
   "cell_type": "code",
   "execution_count": null,
   "id": "osc-lR3K4MKW",
   "metadata": {
    "id": "osc-lR3K4MKW"
   },
   "outputs": [],
   "source": [
    "# train test split\n",
    "x_train, x_test, y_train, y_test = train_test_split(X, y, test_size = 0.3)"
   ]
  },
  {
   "cell_type": "code",
   "execution_count": null,
   "id": "Wxay4eyk416g",
   "metadata": {
    "id": "Wxay4eyk416g"
   },
   "outputs": [],
   "source": [
    "from sklearn.ensemble import RandomForestClassifier"
   ]
  },
  {
   "cell_type": "markdown",
   "id": "XqsZiBXl45fj",
   "metadata": {
    "id": "XqsZiBXl45fj"
   },
   "source": [
    "**Performance del modelo**"
   ]
  },
  {
   "cell_type": "code",
   "execution_count": null,
   "id": "i-8qxCawNx4Z",
   "metadata": {
    "id": "i-8qxCawNx4Z"
   },
   "outputs": [],
   "source": [
    "def perfomance_modelo():\n",
    "  y_pred = clf.predict(x_test)\n",
    "  y_true = y_test\n",
    "\n",
    "  y_pred = clf.predict(x_test)\n",
    "  x_pred = clf.predict(x_train)\n",
    "  test_acc = accuracy_score(y_test, y_pred)\n",
    "  train_acc = accuracy_score(y_train, x_pred)\n",
    "  print(\"Testing Accuracy : \", test_acc)\n",
    "  print(\"Training Accuracy : \", train_acc)\n",
    "\n",
    "  print(\"MCC Score : \", matthews_corrcoef(y_true, y_pred))\n",
    "  print(confusion_matrix(y_pred,y_test))\n",
    "\n",
    "  print(\"Test Classification Report : \")\n",
    "  print(classification_report(y_test, clf.predict(x_test)))"
   ]
  },
  {
   "cell_type": "markdown",
   "id": "LeCC__MTW5l4",
   "metadata": {
    "id": "LeCC__MTW5l4"
   },
   "source": [
    "**Generar predicciones**"
   ]
  },
  {
   "cell_type": "code",
   "execution_count": null,
   "id": "svTYGrfuW1fO",
   "metadata": {
    "id": "svTYGrfuW1fO"
   },
   "outputs": [],
   "source": [
    "def generar_prediccion():\n",
    "  pred_ft = [(mdl.wv.get_vector(str('42'))+mdl.wv.get_vector(str('210')))]\n",
    "  print(clf.predict(pred_ft)[0])\n",
    "\n",
    "  print(clf.predict_proba(pred_ft))"
   ]
  },
  {
   "cell_type": "markdown",
   "id": "qZjYpF7yOKDM",
   "metadata": {
    "id": "qZjYpF7yOKDM"
   },
   "source": [
    "**USANDO RandomForestClassifier**"
   ]
  },
  {
   "cell_type": "code",
   "execution_count": null,
   "id": "94WV7LsaOPxt",
   "metadata": {
    "id": "94WV7LsaOPxt"
   },
   "outputs": [],
   "source": [
    "%%time\n",
    "clf = RandomForestClassifier()\n",
    "\n",
    "# train the model\n",
    "clf.fit(x_train, y_train)"
   ]
  },
  {
   "cell_type": "code",
   "execution_count": null,
   "id": "9l2wBDA2OgDC",
   "metadata": {
    "colab": {
     "background_save": true
    },
    "id": "9l2wBDA2OgDC",
    "outputId": "75943486-443b-4b60-dce7-86e50620e9bb"
   },
   "outputs": [
    {
     "name": "stdout",
     "output_type": "stream",
     "text": [
      "Testing Accuracy :  0.8027316623424211\n",
      "Training Accuracy :  0.9185891590678825\n",
      "MCC Score :  0.023961179718068694\n",
      "[[133212  16849]\n",
      " [ 16529   2611]]\n",
      "Test Classification Report : \n",
      "              precision    recall  f1-score   support\n",
      "\n",
      "           0       0.89      0.89      0.89    149741\n",
      "           1       0.14      0.13      0.14     19460\n",
      "\n",
      "    accuracy                           0.80    169201\n",
      "   macro avg       0.51      0.51      0.51    169201\n",
      "weighted avg       0.80      0.80      0.80    169201\n",
      "\n"
     ]
    }
   ],
   "source": [
    "# Vemos el performance con el modelo RandomForestClassifier\n",
    "perfomance_modelo()"
   ]
  },
  {
   "cell_type": "code",
   "execution_count": null,
   "id": "nPzFnjsTTlHG",
   "metadata": {
    "colab": {
     "background_save": true
    },
    "id": "nPzFnjsTTlHG",
    "outputId": "e91f66b2-4940-444f-ddcd-f6eee841cae3"
   },
   "outputs": [
    {
     "name": "stdout",
     "output_type": "stream",
     "text": [
      "0\n",
      "[[1. 0.]]\n"
     ]
    }
   ],
   "source": [
    "generar_prediccion()"
   ]
  },
  {
   "cell_type": "markdown",
   "id": "f9rCT92rTB9g",
   "metadata": {
    "id": "f9rCT92rTB9g"
   },
   "source": [
    "**USANDO GradientBoostingClassifier (solo para comparar resultado)**"
   ]
  },
  {
   "cell_type": "code",
   "execution_count": null,
   "id": "frA9RAlpTA50",
   "metadata": {
    "id": "frA9RAlpTA50"
   },
   "outputs": [],
   "source": [
    "%%time\n",
    "clf = GradientBoostingClassifier()\n",
    "\n",
    "# train the model\n",
    "clf.fit(x_train, y_train)"
   ]
  },
  {
   "cell_type": "code",
   "execution_count": null,
   "id": "okLETVEgTSHL",
   "metadata": {
    "colab": {
     "background_save": true
    },
    "id": "okLETVEgTSHL",
    "outputId": "10418da3-47f7-46ad-cac0-77b21f7faade"
   },
   "outputs": [
    {
     "name": "stdout",
     "output_type": "stream",
     "text": [
      "Testing Accuracy :  0.8820219738654027\n",
      "Training Accuracy :  0.8843211752786221\n",
      "MCC Score :  0.3165099653991904\n",
      "[[143451  13672]\n",
      " [  6290   5788]]\n",
      "Test Classification Report : \n",
      "              precision    recall  f1-score   support\n",
      "\n",
      "           0       0.91      0.96      0.93    149741\n",
      "           1       0.48      0.30      0.37     19460\n",
      "\n",
      "    accuracy                           0.88    169201\n",
      "   macro avg       0.70      0.63      0.65    169201\n",
      "weighted avg       0.86      0.88      0.87    169201\n",
      "\n"
     ]
    }
   ],
   "source": [
    "# Vemos el performance con el modelo GradientBoostingClassifier\n",
    "perfomance_modelo()"
   ]
  },
  {
   "cell_type": "code",
   "execution_count": null,
   "id": "x9M8WFr_XKJk",
   "metadata": {
    "id": "x9M8WFr_XKJk"
   },
   "outputs": [],
   "source": [
    "generar_prediccion()"
   ]
  },
  {
   "cell_type": "markdown",
   "id": "2B87cPXK7fyp",
   "metadata": {
    "id": "2B87cPXK7fyp"
   },
   "source": [
    "# **Evaluación y Discusión (RandomForestClassifier)**\n",
    "\n",
    "* Discutir los resultados obtenidos, interpretar la importancia de los embeddings en la predicción de enlaces y sugerir mejoras para el modelo.\n",
    "\n",
    "  **Respuesta**\n",
    "\n",
    " **Discusión de Resultados**\n",
    "\n",
    "  Los resultados obtenidos muestran que el modelo logra una precisión de prueba del 80%, lo que indica que predice correctamente el 80% de las veces en el conjunto de prueba. Sin embargo, se observa una dificultad considerable para predecir la clase positiva (enlaces) con baja precisión y recall para esta clase. El coeficiente de correlación de Matthews (MCC) cercano a cero sugiere una correlación limitada entre las predicciones y las etiquetas reales.\n",
    "\n",
    "  **Importancia de los Embeddings**\n",
    "\n",
    "  Los embeddings generados por Node2Vec desempeñan un papel crucial en la predicción de enlaces, ya que representan cada nodo en un espacio de características continuo, capturando la estructura y las relaciones del grafo. La calidad de estos embeddings es fundamental, ya que nodos cercanos en el grafo deberían tener embeddings similares, facilitando la predicción de enlaces. Además, los embeddings deben representar adecuadamente el contexto de los nodos (vecinos) para mejorar la precisión de las predicciones.\n",
    "  \n",
    "  **Sugerencias de Mejora**\n",
    "\n",
    "  Para mejorar el rendimiento del modelo, se sugieren las siguientes mejoras:\n",
    "\n",
    "  1. Abordar el desbalance de clases mediante técnicas como submuestreo de la clase mayoritaria o sobremuestreo de la clase minoritaria, y considerar métricas alternativas más sensibles al desbalance, como F1-score o ROC-AUC.\n",
    "\n",
    "  2. Explorar modelos más avanzados, como las Redes Neuronales Gráficas (Graph Neural Networks) o modelos de embedding más sofisticados como GraphSAGE o GAT (Graph Attention Networks), que pueden capturar mejor las relaciones complejas entre los nodos.\n",
    "\n",
    "  3. Ajustar los parámetros de Node2Vec, como el número de dimensiones, el tamaño de la ventana y el número de saltos, para obtener embeddings más precisos, y considerar técnicas de afinación de embeddings basadas en tareas específicas de enlace.\n",
    "\n",
    "  4. En lugar de considerar todos los pares posibles de nodos, utilizar estrategias basadas en heurísticas para seleccionar pares de nodos candidatos, como nodos con alta similitud estructural o proximidad en el grafo, para mejorar la escalabilidad.\n",
    "\n",
    "* Considerar las limitaciones del enfoque y discutir cómo podrían abordarse.\n",
    "\n",
    " **Respuesta**\n",
    "\n",
    "  **Limitaciones del Enfoque**\n",
    "\n",
    "  El enfoque presentado tiene varias limitaciones que deben ser abordadas:\n",
    "\n",
    "  1. **Desbalance de Clases**: Existe un desbalance significativo entre los enlaces y los no enlaces, lo que puede sesgar el modelo hacia la clase mayoritaria (no enlaces). Esto se evidencia en la baja precisión y recall para la clase positiva (enlaces).\n",
    "\n",
    "  2. **Simplicidad del Modelo**: El modelo RandomForest, aunque poderoso, puede no ser suficiente para capturar la complejidad de las relaciones en el grafo. Modelos más avanzados, como las Redes Neuronales Gráficas, podrían ofrecer mejores resultados.\n",
    "\n",
    "  3. **Calidad de los Embeddings**: La efectividad de Node2Vec depende en gran medida de los parámetros y la calidad del grafo. Embeddings pobres resultarán en predicciones inexactas, por lo que es crucial ajustar los parámetros de Node2Vec para obtener representaciones más precisas.\n",
    "\n",
    "  4. **Escalabilidad**: Generar todas las combinaciones posibles de pares de nodos (como se hizo con `all_possible_edges`) no es escalable para grafos grandes debido a la explosión combinatoria. Se requieren métodos más eficientes para seleccionar pares de nodos candidatos.\n",
    "\n",
    "  **Consideraciones**\n",
    "\n",
    "  Para abordar estas limitaciones, se sugieren las siguientes estrategias:\n",
    "\n",
    "  1. Manejar el desbalance de clases mediante técnicas como submuestreo o sobremuestreo, y considerar métricas alternativas más sensibles al desbalance.\n",
    "\n",
    "  2. Explorar modelos más avanzados, como las Redes Neuronales Gráficas, que están diseñadas específicamente para trabajar con datos de grafos y pueden capturar mejor las relaciones complejas entre los nodos.\n",
    "\n",
    "  3. Ajustar los parámetros de Node2Vec y considerar técnicas de afinación de embeddings para obtener representaciones más precisas y adaptadas a la tarea de predicción de enlaces.\n",
    "\n",
    "  4. Utilizar estrategias basadas en heurísticas para seleccionar pares de nodos candidatos, como nodos con alta similitud estructural o proximidad en el grafo, en lugar de considerar todos los pares posibles, lo que mejorará la escalabilidad del enfoque.\n",
    "\n",
    "Mediante la implementación de estas estrategias, se espera mejorar la precisión del modelo y su capacidad para predecir enlaces relevantes en el grafo, al tiempo que se abordan las limitaciones actuales del enfoque.\n"
   ]
  },
  {
   "cell_type": "markdown",
   "id": "s0AbMSkbaUh7",
   "metadata": {
    "id": "s0AbMSkbaUh7"
   },
   "source": [
    "**Conparacion de resultadon entre RandomForestClassifier y GradientBoostingClassifier**\n",
    "\n",
    "* Precisión del Modelo:\n",
    "\n",
    "  El modelo RandomForestClassifier exhibe una alta precisión de entrenamiento (0.92) en comparación con la precisión de prueba (0.80), lo que sugiere un posible sobreajuste al conjunto de entrenamiento. Por otro lado, el modelo GradientBoostingClassifier muestra un mejor equilibrio entre la precisión de entrenamiento (0.88) y la precisión de prueba (0.88), indicando un ajuste más generalizado.\n",
    "\n",
    "* Coeficiente de Correlación de Matthews (MCC):\n",
    "\n",
    "  El RandomForestClassifier presenta un MCC Score muy bajo (0.024), lo que indica una correlación casi nula entre las predicciones y las etiquetas reales. En contraste, el GradientBoostingClassifier exhibe un MCC Score de 0.315, lo cual sugiere una correlación moderada y un modelo más efectivo en distinguir entre las clases.\n",
    "\n",
    "* Informe de Clasificación:\n",
    "  En el informe de clasificación, se observa que el RandomForestClassifier muestra una precisión, recall y f1-score extremadamente bajos para la clase 1 (enlaces), lo que indica una dificultad significativa en identificar correctamente los enlaces. Por el contrario, el GradientBoostingClassifier presenta métricas más favorables para la clase 1, con una precisión de 0.49 y un f1-score de 0.36, lo que sugiere un mejor desempeño en la predicción de enlaces.\n",
    "\n",
    "* Predicciones del Modelo:\n",
    "  Ambos modelos predicen que no debería haber un enlace entre los nodos 42 y 210. Sin embargo, la confianza en la predicción del GradientBoostingClassifier es más baja, lo que indica una mayor incertidumbre y una capacidad para considerar la posibilidad de un enlace en casos ambiguos.\n",
    "\n",
    "En conclusión, los resultados indican que el modelo GradientBoostingClassifier es claramente superior en este contexto de predicción de enlaces. Proporciona un mejor equilibrio entre la precisión de entrenamiento y prueba, un MCC Score significativamente mayor, y un mejor desempeño en la identificación de la clase minoritaria (enlaces), lo cual es crucial para el problema de predicción de enlaces. Por lo tanto, se recomienda utilizar el modelo GradientBoostingClassifier como la opción más adecuada para esta tarea."
   ]
  }
 ],
 "metadata": {
  "colab": {
   "provenance": []
  },
  "kernelspec": {
   "display_name": "Python 3 (ipykernel)",
   "language": "python",
   "name": "python3"
  },
  "language_info": {
   "codemirror_mode": {
    "name": "ipython",
    "version": 3
   },
   "file_extension": ".py",
   "mimetype": "text/x-python",
   "name": "python",
   "nbconvert_exporter": "python",
   "pygments_lexer": "ipython3",
   "version": "3.11.4"
  },
  "widgets": {
   "application/vnd.jupyter.widget-state+json": {
    "1941f73409ed45ee814e0e80b1a1e6c0": {
     "model_module": "@jupyter-widgets/base",
     "model_module_version": "1.2.0",
     "model_name": "LayoutModel",
     "state": {
      "_model_module": "@jupyter-widgets/base",
      "_model_module_version": "1.2.0",
      "_model_name": "LayoutModel",
      "_view_count": null,
      "_view_module": "@jupyter-widgets/base",
      "_view_module_version": "1.2.0",
      "_view_name": "LayoutView",
      "align_content": null,
      "align_items": null,
      "align_self": null,
      "border": null,
      "bottom": null,
      "display": null,
      "flex": null,
      "flex_flow": null,
      "grid_area": null,
      "grid_auto_columns": null,
      "grid_auto_flow": null,
      "grid_auto_rows": null,
      "grid_column": null,
      "grid_gap": null,
      "grid_row": null,
      "grid_template_areas": null,
      "grid_template_columns": null,
      "grid_template_rows": null,
      "height": null,
      "justify_content": null,
      "justify_items": null,
      "left": null,
      "margin": null,
      "max_height": null,
      "max_width": null,
      "min_height": null,
      "min_width": null,
      "object_fit": null,
      "object_position": null,
      "order": null,
      "overflow": null,
      "overflow_x": null,
      "overflow_y": null,
      "padding": null,
      "right": null,
      "top": null,
      "visibility": null,
      "width": null
     }
    },
    "1b2d3c10a8ec4988a70de35e40237593": {
     "model_module": "@jupyter-widgets/base",
     "model_module_version": "1.2.0",
     "model_name": "LayoutModel",
     "state": {
      "_model_module": "@jupyter-widgets/base",
      "_model_module_version": "1.2.0",
      "_model_name": "LayoutModel",
      "_view_count": null,
      "_view_module": "@jupyter-widgets/base",
      "_view_module_version": "1.2.0",
      "_view_name": "LayoutView",
      "align_content": null,
      "align_items": null,
      "align_self": null,
      "border": null,
      "bottom": null,
      "display": null,
      "flex": null,
      "flex_flow": null,
      "grid_area": null,
      "grid_auto_columns": null,
      "grid_auto_flow": null,
      "grid_auto_rows": null,
      "grid_column": null,
      "grid_gap": null,
      "grid_row": null,
      "grid_template_areas": null,
      "grid_template_columns": null,
      "grid_template_rows": null,
      "height": null,
      "justify_content": null,
      "justify_items": null,
      "left": null,
      "margin": null,
      "max_height": null,
      "max_width": null,
      "min_height": null,
      "min_width": null,
      "object_fit": null,
      "object_position": null,
      "order": null,
      "overflow": null,
      "overflow_x": null,
      "overflow_y": null,
      "padding": null,
      "right": null,
      "top": null,
      "visibility": null,
      "width": null
     }
    },
    "2a61b10b16c649deb2fcb1d4dc788c4b": {
     "model_module": "@jupyter-widgets/controls",
     "model_module_version": "1.5.0",
     "model_name": "FloatProgressModel",
     "state": {
      "_dom_classes": [],
      "_model_module": "@jupyter-widgets/controls",
      "_model_module_version": "1.5.0",
      "_model_name": "FloatProgressModel",
      "_view_count": null,
      "_view_module": "@jupyter-widgets/controls",
      "_view_module_version": "1.5.0",
      "_view_name": "ProgressView",
      "bar_style": "success",
      "description": "",
      "description_tooltip": null,
      "layout": "IPY_MODEL_32cae6838fa0486484ebf100a110faec",
      "max": 751,
      "min": 0,
      "orientation": "horizontal",
      "style": "IPY_MODEL_781f98384cbf44efbb91937aefb2cd11",
      "value": 751
     }
    },
    "32cae6838fa0486484ebf100a110faec": {
     "model_module": "@jupyter-widgets/base",
     "model_module_version": "1.2.0",
     "model_name": "LayoutModel",
     "state": {
      "_model_module": "@jupyter-widgets/base",
      "_model_module_version": "1.2.0",
      "_model_name": "LayoutModel",
      "_view_count": null,
      "_view_module": "@jupyter-widgets/base",
      "_view_module_version": "1.2.0",
      "_view_name": "LayoutView",
      "align_content": null,
      "align_items": null,
      "align_self": null,
      "border": null,
      "bottom": null,
      "display": null,
      "flex": null,
      "flex_flow": null,
      "grid_area": null,
      "grid_auto_columns": null,
      "grid_auto_flow": null,
      "grid_auto_rows": null,
      "grid_column": null,
      "grid_gap": null,
      "grid_row": null,
      "grid_template_areas": null,
      "grid_template_columns": null,
      "grid_template_rows": null,
      "height": null,
      "justify_content": null,
      "justify_items": null,
      "left": null,
      "margin": null,
      "max_height": null,
      "max_width": null,
      "min_height": null,
      "min_width": null,
      "object_fit": null,
      "object_position": null,
      "order": null,
      "overflow": null,
      "overflow_x": null,
      "overflow_y": null,
      "padding": null,
      "right": null,
      "top": null,
      "visibility": null,
      "width": null
     }
    },
    "3cd1ecc8f5a740dfa47b1e69c34dc38b": {
     "model_module": "@jupyter-widgets/controls",
     "model_module_version": "1.5.0",
     "model_name": "HBoxModel",
     "state": {
      "_dom_classes": [],
      "_model_module": "@jupyter-widgets/controls",
      "_model_module_version": "1.5.0",
      "_model_name": "HBoxModel",
      "_view_count": null,
      "_view_module": "@jupyter-widgets/controls",
      "_view_module_version": "1.5.0",
      "_view_name": "HBoxView",
      "box_style": "",
      "children": [
       "IPY_MODEL_9b71f592de0b4c8196cc63528a2e7c1d",
       "IPY_MODEL_4e84776b02e54ef594072f164ba1abb0",
       "IPY_MODEL_c73799c75d4a400d8b252f672b895e80"
      ],
      "layout": "IPY_MODEL_aa4c97a020db4ef6addce4fed2f26f1c"
     }
    },
    "41f9f392272547a880ec71e96bac9724": {
     "model_module": "@jupyter-widgets/controls",
     "model_module_version": "1.5.0",
     "model_name": "DescriptionStyleModel",
     "state": {
      "_model_module": "@jupyter-widgets/controls",
      "_model_module_version": "1.5.0",
      "_model_name": "DescriptionStyleModel",
      "_view_count": null,
      "_view_module": "@jupyter-widgets/base",
      "_view_module_version": "1.2.0",
      "_view_name": "StyleView",
      "description_width": ""
     }
    },
    "46afe168a848420cb23d3d7b9c3b971f": {
     "model_module": "@jupyter-widgets/controls",
     "model_module_version": "1.5.0",
     "model_name": "HTMLModel",
     "state": {
      "_dom_classes": [],
      "_model_module": "@jupyter-widgets/controls",
      "_model_module_version": "1.5.0",
      "_model_name": "HTMLModel",
      "_view_count": null,
      "_view_module": "@jupyter-widgets/controls",
      "_view_module_version": "1.5.0",
      "_view_name": "HTMLView",
      "description": "",
      "description_tooltip": null,
      "layout": "IPY_MODEL_494a64252a84478fafac39c0a41329a8",
      "placeholder": "​",
      "style": "IPY_MODEL_41f9f392272547a880ec71e96bac9724",
      "value": "Computing transition probabilities: 100%"
     }
    },
    "494a64252a84478fafac39c0a41329a8": {
     "model_module": "@jupyter-widgets/base",
     "model_module_version": "1.2.0",
     "model_name": "LayoutModel",
     "state": {
      "_model_module": "@jupyter-widgets/base",
      "_model_module_version": "1.2.0",
      "_model_name": "LayoutModel",
      "_view_count": null,
      "_view_module": "@jupyter-widgets/base",
      "_view_module_version": "1.2.0",
      "_view_name": "LayoutView",
      "align_content": null,
      "align_items": null,
      "align_self": null,
      "border": null,
      "bottom": null,
      "display": null,
      "flex": null,
      "flex_flow": null,
      "grid_area": null,
      "grid_auto_columns": null,
      "grid_auto_flow": null,
      "grid_auto_rows": null,
      "grid_column": null,
      "grid_gap": null,
      "grid_row": null,
      "grid_template_areas": null,
      "grid_template_columns": null,
      "grid_template_rows": null,
      "height": null,
      "justify_content": null,
      "justify_items": null,
      "left": null,
      "margin": null,
      "max_height": null,
      "max_width": null,
      "min_height": null,
      "min_width": null,
      "object_fit": null,
      "object_position": null,
      "order": null,
      "overflow": null,
      "overflow_x": null,
      "overflow_y": null,
      "padding": null,
      "right": null,
      "top": null,
      "visibility": null,
      "width": null
     }
    },
    "4e84776b02e54ef594072f164ba1abb0": {
     "model_module": "@jupyter-widgets/controls",
     "model_module_version": "1.5.0",
     "model_name": "FloatProgressModel",
     "state": {
      "_dom_classes": [],
      "_model_module": "@jupyter-widgets/controls",
      "_model_module_version": "1.5.0",
      "_model_name": "FloatProgressModel",
      "_view_count": null,
      "_view_module": "@jupyter-widgets/controls",
      "_view_module_version": "1.5.0",
      "_view_name": "ProgressView",
      "bar_style": "success",
      "description": "",
      "description_tooltip": null,
      "layout": "IPY_MODEL_82e7a1bc9fb944ec9b701c430b48e1ba",
      "max": 584,
      "min": 0,
      "orientation": "horizontal",
      "style": "IPY_MODEL_ad75b879de8f4b40869b64e0eab31810",
      "value": 584
     }
    },
    "7292473ae1d54cf1a654dbc7f7ace9fa": {
     "model_module": "@jupyter-widgets/controls",
     "model_module_version": "1.5.0",
     "model_name": "HTMLModel",
     "state": {
      "_dom_classes": [],
      "_model_module": "@jupyter-widgets/controls",
      "_model_module_version": "1.5.0",
      "_model_name": "HTMLModel",
      "_view_count": null,
      "_view_module": "@jupyter-widgets/controls",
      "_view_module_version": "1.5.0",
      "_view_name": "HTMLView",
      "description": "",
      "description_tooltip": null,
      "layout": "IPY_MODEL_1b2d3c10a8ec4988a70de35e40237593",
      "placeholder": "​",
      "style": "IPY_MODEL_bc22a41801f74dcf9fcd70493bd155c3",
      "value": " 751/751 [02:30&lt;00:00,  5.70it/s]"
     }
    },
    "73128be77cb04b81b479112fc8c50c89": {
     "model_module": "@jupyter-widgets/controls",
     "model_module_version": "1.5.0",
     "model_name": "DescriptionStyleModel",
     "state": {
      "_model_module": "@jupyter-widgets/controls",
      "_model_module_version": "1.5.0",
      "_model_name": "DescriptionStyleModel",
      "_view_count": null,
      "_view_module": "@jupyter-widgets/base",
      "_view_module_version": "1.2.0",
      "_view_name": "StyleView",
      "description_width": ""
     }
    },
    "781f98384cbf44efbb91937aefb2cd11": {
     "model_module": "@jupyter-widgets/controls",
     "model_module_version": "1.5.0",
     "model_name": "ProgressStyleModel",
     "state": {
      "_model_module": "@jupyter-widgets/controls",
      "_model_module_version": "1.5.0",
      "_model_name": "ProgressStyleModel",
      "_view_count": null,
      "_view_module": "@jupyter-widgets/base",
      "_view_module_version": "1.2.0",
      "_view_name": "StyleView",
      "bar_color": null,
      "description_width": ""
     }
    },
    "787ec458db7546f385bebfb93d9d3305": {
     "model_module": "@jupyter-widgets/base",
     "model_module_version": "1.2.0",
     "model_name": "LayoutModel",
     "state": {
      "_model_module": "@jupyter-widgets/base",
      "_model_module_version": "1.2.0",
      "_model_name": "LayoutModel",
      "_view_count": null,
      "_view_module": "@jupyter-widgets/base",
      "_view_module_version": "1.2.0",
      "_view_name": "LayoutView",
      "align_content": null,
      "align_items": null,
      "align_self": null,
      "border": null,
      "bottom": null,
      "display": null,
      "flex": null,
      "flex_flow": null,
      "grid_area": null,
      "grid_auto_columns": null,
      "grid_auto_flow": null,
      "grid_auto_rows": null,
      "grid_column": null,
      "grid_gap": null,
      "grid_row": null,
      "grid_template_areas": null,
      "grid_template_columns": null,
      "grid_template_rows": null,
      "height": null,
      "justify_content": null,
      "justify_items": null,
      "left": null,
      "margin": null,
      "max_height": null,
      "max_width": null,
      "min_height": null,
      "min_width": null,
      "object_fit": null,
      "object_position": null,
      "order": null,
      "overflow": null,
      "overflow_x": null,
      "overflow_y": null,
      "padding": null,
      "right": null,
      "top": null,
      "visibility": null,
      "width": null
     }
    },
    "82e7a1bc9fb944ec9b701c430b48e1ba": {
     "model_module": "@jupyter-widgets/base",
     "model_module_version": "1.2.0",
     "model_name": "LayoutModel",
     "state": {
      "_model_module": "@jupyter-widgets/base",
      "_model_module_version": "1.2.0",
      "_model_name": "LayoutModel",
      "_view_count": null,
      "_view_module": "@jupyter-widgets/base",
      "_view_module_version": "1.2.0",
      "_view_name": "LayoutView",
      "align_content": null,
      "align_items": null,
      "align_self": null,
      "border": null,
      "bottom": null,
      "display": null,
      "flex": null,
      "flex_flow": null,
      "grid_area": null,
      "grid_auto_columns": null,
      "grid_auto_flow": null,
      "grid_auto_rows": null,
      "grid_column": null,
      "grid_gap": null,
      "grid_row": null,
      "grid_template_areas": null,
      "grid_template_columns": null,
      "grid_template_rows": null,
      "height": null,
      "justify_content": null,
      "justify_items": null,
      "left": null,
      "margin": null,
      "max_height": null,
      "max_width": null,
      "min_height": null,
      "min_width": null,
      "object_fit": null,
      "object_position": null,
      "order": null,
      "overflow": null,
      "overflow_x": null,
      "overflow_y": null,
      "padding": null,
      "right": null,
      "top": null,
      "visibility": null,
      "width": null
     }
    },
    "9b71f592de0b4c8196cc63528a2e7c1d": {
     "model_module": "@jupyter-widgets/controls",
     "model_module_version": "1.5.0",
     "model_name": "HTMLModel",
     "state": {
      "_dom_classes": [],
      "_model_module": "@jupyter-widgets/controls",
      "_model_module_version": "1.5.0",
      "_model_name": "HTMLModel",
      "_view_count": null,
      "_view_module": "@jupyter-widgets/controls",
      "_view_module_version": "1.5.0",
      "_view_name": "HTMLView",
      "description": "",
      "description_tooltip": null,
      "layout": "IPY_MODEL_dcaec0754da54d12bd5f1248787cf30b",
      "placeholder": "​",
      "style": "IPY_MODEL_73128be77cb04b81b479112fc8c50c89",
      "value": "Computing transition probabilities: 100%"
     }
    },
    "aa4c97a020db4ef6addce4fed2f26f1c": {
     "model_module": "@jupyter-widgets/base",
     "model_module_version": "1.2.0",
     "model_name": "LayoutModel",
     "state": {
      "_model_module": "@jupyter-widgets/base",
      "_model_module_version": "1.2.0",
      "_model_name": "LayoutModel",
      "_view_count": null,
      "_view_module": "@jupyter-widgets/base",
      "_view_module_version": "1.2.0",
      "_view_name": "LayoutView",
      "align_content": null,
      "align_items": null,
      "align_self": null,
      "border": null,
      "bottom": null,
      "display": null,
      "flex": null,
      "flex_flow": null,
      "grid_area": null,
      "grid_auto_columns": null,
      "grid_auto_flow": null,
      "grid_auto_rows": null,
      "grid_column": null,
      "grid_gap": null,
      "grid_row": null,
      "grid_template_areas": null,
      "grid_template_columns": null,
      "grid_template_rows": null,
      "height": null,
      "justify_content": null,
      "justify_items": null,
      "left": null,
      "margin": null,
      "max_height": null,
      "max_width": null,
      "min_height": null,
      "min_width": null,
      "object_fit": null,
      "object_position": null,
      "order": null,
      "overflow": null,
      "overflow_x": null,
      "overflow_y": null,
      "padding": null,
      "right": null,
      "top": null,
      "visibility": null,
      "width": null
     }
    },
    "ad6d14360283454f856a0a7cf523f299": {
     "model_module": "@jupyter-widgets/controls",
     "model_module_version": "1.5.0",
     "model_name": "HBoxModel",
     "state": {
      "_dom_classes": [],
      "_model_module": "@jupyter-widgets/controls",
      "_model_module_version": "1.5.0",
      "_model_name": "HBoxModel",
      "_view_count": null,
      "_view_module": "@jupyter-widgets/controls",
      "_view_module_version": "1.5.0",
      "_view_name": "HBoxView",
      "box_style": "",
      "children": [
       "IPY_MODEL_46afe168a848420cb23d3d7b9c3b971f",
       "IPY_MODEL_2a61b10b16c649deb2fcb1d4dc788c4b",
       "IPY_MODEL_7292473ae1d54cf1a654dbc7f7ace9fa"
      ],
      "layout": "IPY_MODEL_1941f73409ed45ee814e0e80b1a1e6c0"
     }
    },
    "ad75b879de8f4b40869b64e0eab31810": {
     "model_module": "@jupyter-widgets/controls",
     "model_module_version": "1.5.0",
     "model_name": "ProgressStyleModel",
     "state": {
      "_model_module": "@jupyter-widgets/controls",
      "_model_module_version": "1.5.0",
      "_model_name": "ProgressStyleModel",
      "_view_count": null,
      "_view_module": "@jupyter-widgets/base",
      "_view_module_version": "1.2.0",
      "_view_name": "StyleView",
      "bar_color": null,
      "description_width": ""
     }
    },
    "b9faeef911054b24aed5b21003f43f94": {
     "model_module": "@jupyter-widgets/controls",
     "model_module_version": "1.5.0",
     "model_name": "DescriptionStyleModel",
     "state": {
      "_model_module": "@jupyter-widgets/controls",
      "_model_module_version": "1.5.0",
      "_model_name": "DescriptionStyleModel",
      "_view_count": null,
      "_view_module": "@jupyter-widgets/base",
      "_view_module_version": "1.2.0",
      "_view_name": "StyleView",
      "description_width": ""
     }
    },
    "bc22a41801f74dcf9fcd70493bd155c3": {
     "model_module": "@jupyter-widgets/controls",
     "model_module_version": "1.5.0",
     "model_name": "DescriptionStyleModel",
     "state": {
      "_model_module": "@jupyter-widgets/controls",
      "_model_module_version": "1.5.0",
      "_model_name": "DescriptionStyleModel",
      "_view_count": null,
      "_view_module": "@jupyter-widgets/base",
      "_view_module_version": "1.2.0",
      "_view_name": "StyleView",
      "description_width": ""
     }
    },
    "c73799c75d4a400d8b252f672b895e80": {
     "model_module": "@jupyter-widgets/controls",
     "model_module_version": "1.5.0",
     "model_name": "HTMLModel",
     "state": {
      "_dom_classes": [],
      "_model_module": "@jupyter-widgets/controls",
      "_model_module_version": "1.5.0",
      "_model_name": "HTMLModel",
      "_view_count": null,
      "_view_module": "@jupyter-widgets/controls",
      "_view_module_version": "1.5.0",
      "_view_name": "HTMLView",
      "description": "",
      "description_tooltip": null,
      "layout": "IPY_MODEL_787ec458db7546f385bebfb93d9d3305",
      "placeholder": "​",
      "style": "IPY_MODEL_b9faeef911054b24aed5b21003f43f94",
      "value": " 584/584 [01:10&lt;00:00,  9.16it/s]"
     }
    },
    "dcaec0754da54d12bd5f1248787cf30b": {
     "model_module": "@jupyter-widgets/base",
     "model_module_version": "1.2.0",
     "model_name": "LayoutModel",
     "state": {
      "_model_module": "@jupyter-widgets/base",
      "_model_module_version": "1.2.0",
      "_model_name": "LayoutModel",
      "_view_count": null,
      "_view_module": "@jupyter-widgets/base",
      "_view_module_version": "1.2.0",
      "_view_name": "LayoutView",
      "align_content": null,
      "align_items": null,
      "align_self": null,
      "border": null,
      "bottom": null,
      "display": null,
      "flex": null,
      "flex_flow": null,
      "grid_area": null,
      "grid_auto_columns": null,
      "grid_auto_flow": null,
      "grid_auto_rows": null,
      "grid_column": null,
      "grid_gap": null,
      "grid_row": null,
      "grid_template_areas": null,
      "grid_template_columns": null,
      "grid_template_rows": null,
      "height": null,
      "justify_content": null,
      "justify_items": null,
      "left": null,
      "margin": null,
      "max_height": null,
      "max_width": null,
      "min_height": null,
      "min_width": null,
      "object_fit": null,
      "object_position": null,
      "order": null,
      "overflow": null,
      "overflow_x": null,
      "overflow_y": null,
      "padding": null,
      "right": null,
      "top": null,
      "visibility": null,
      "width": null
     }
    }
   }
  }
 },
 "nbformat": 4,
 "nbformat_minor": 5
}
